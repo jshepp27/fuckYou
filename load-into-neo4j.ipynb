{
 "cells": [
  {
   "cell_type": "code",
   "execution_count": 2,
   "metadata": {
    "pycharm": {
     "name": "#%%\n"
    }
   },
   "outputs": [],
   "source": [
    "import json\n",
    "import bz2\n",
    "\n",
    "import pandas as pd\n",
    "from neo4j import GraphDatabase"
   ]
  },
  {
   "cell_type": "code",
   "execution_count": 3,
   "metadata": {
    "pycharm": {
     "name": "#%%\n"
    }
   },
   "outputs": [],
   "source": [
    "def createClaim(causal_relation):\n",
    "    cause = causal_relation['causal_relation']['cause']['concept']\n",
    "    effect = causal_relation['causal_relation']['effect']['concept']\n",
    "    \n",
    "    claimQuery =  \"MERGE (c:CausalConcept {concept: \\\"\" + json.dumps(cause)[1:-1] + \"\\\"})\\n\"\n",
    "    claimQuery += \"MERGE (e:CausalConcept {concept: \\\"\" + json.dumps(effect)[1:-1] + \"\\\"})\\n\"\n",
    "    claimQuery += \"CREATE (claim:Claim {type: \\\"mayCause\\\"})\\n\"\n",
    "    claimQuery += \"CREATE (claim) -[:cause]-> (c)\\n\"\n",
    "    claimQuery += \"CREATE (claim) -[:effect]-> (e)\\n\\n\"\n",
    "    claimQuery += \"RETURN id(claim)\"\n",
    "    \n",
    "    return claimQuery"
   ]
  },
  {
   "cell_type": "code",
   "execution_count": 4,
   "metadata": {
    "pycharm": {
     "name": "#%%\n"
    }
   },
   "outputs": [],
   "source": [
    "def createSourceQueries(claim_id, causal_relation):\n",
    "    cause = causal_relation['causal_relation']['cause']['concept']\n",
    "    effect = causal_relation['causal_relation']['effect']['concept']\n",
    "    \n",
    "    claimQuery =  \"MATCH (claim)\\n\"\n",
    "    claimQuery += \"WHERE id(claim)=\" + str(claim_id) + \"\\n\"\n",
    "    \n",
    "    sourceQueries = []\n",
    "    for i in range(len(causal_relation['sources'])):\n",
    "        sourceID = \"s\" + str(i)\n",
    "        query = \"CREATE (claim) -[:claimedIn]-> (\" + sourceID + \":Source)\\n\"\n",
    "        query += createSource(sourceID, causal_relation['sources'][i])\n",
    "        sourceQueries.append(claimQuery + query)\n",
    "    \n",
    "    return sourceQueries"
   ]
  },
  {
   "cell_type": "code",
   "execution_count": 5,
   "metadata": {
    "pycharm": {
     "name": "#%%\n"
    }
   },
   "outputs": [],
   "source": [
    "def createSource(sourceID, source):\n",
    "    query = \"SET \" + sourceID + \".type=\\\"\" + source['type'] + \"\\\"\\n\"\n",
    "    query += \"SET \" + sourceID + \"=$\" + sourceID + \"\\n\" \n",
    "    return query"
   ]
  },
  {
   "cell_type": "code",
   "execution_count": 6,
   "metadata": {
    "pycharm": {
     "name": "#%%\n"
    }
   },
   "outputs": [],
   "source": [
    "def createParameters(causal_relation):\n",
    "    parameters = []\n",
    "    for i in range(len(causal_relation['sources'])):\n",
    "        paramID = \"s\" + str(i)\n",
    "        source = causal_relation['sources'][i]\n",
    "        parameter = {}\n",
    "        parameter[paramID] = {k:v for (k,v) in source['payload'].items() if type(v) is str}\n",
    "        if 'sentence' in source['payload']:\n",
    "            parameter[paramID].update({'sentence': source['payload']['sentence']})\n",
    "        parameters.append(parameter)\n",
    "    return parameters"
   ]
  },
  {
   "cell_type": "code",
   "execution_count": 11,
   "metadata": {
    "pycharm": {
     "name": "#%%\n"
    }
   },
   "outputs": [],
   "source": [
    "def loadCauseNetIntoNeo4j(uri, user, password, graph_path):\n",
    "    for line in bz2.BZ2File(graph_path):\n",
    "        causal_relation = json.loads(line)\n",
    "        \n",
    "        # create Claim\n",
    "        createClaimQuery = createClaim(causal_relation)\n",
    "        driver = GraphDatabase.driver(uri, auth=(user, password),encrypted = False)\n",
    "        with driver.session() as session:\n",
    "            result = session.run(createClaimQuery)\n",
    "            for record in result:\n",
    "                claim_id = record[\"id(claim)\"]\n",
    "        driver.close()\n",
    "        \n",
    "        # Create sources (important: don't do this all in once [too long queries])\n",
    "        sourceQueries = createSourceQueries(claim_id, causal_relation)\n",
    "        parameters = createParameters(causal_relation)\n",
    "        \n",
    "        assert len(sourceQueries) == len(parameters)\n",
    "        for i in range(len(sourceQueries)):\n",
    "            driver = GraphDatabase.driver(uri, auth=(user, password),encrypted = False)\n",
    "            with driver.session() as session:\n",
    "                session.run(sourceQueries[i], parameters=parameters[i])\n",
    "            driver.close()"
   ]
  },
  {
   "cell_type": "code",
   "execution_count": 13,
   "outputs": [
    {
     "ename": "StopIteration",
     "evalue": "",
     "output_type": "error",
     "traceback": [
      "\u001B[0;31m---------------------------------------------------------------------------\u001B[0m",
      "\u001B[0;31mKeyboardInterrupt\u001B[0m                         Traceback (most recent call last)",
      "Input \u001B[0;32mIn [11]\u001B[0m, in \u001B[0;36mloadCauseNetIntoNeo4j\u001B[0;34m(uri, user, password, graph_path)\u001B[0m\n\u001B[1;32m     21\u001B[0m \u001B[38;5;28;01mwith\u001B[39;00m driver\u001B[38;5;241m.\u001B[39msession() \u001B[38;5;28;01mas\u001B[39;00m session:\n\u001B[0;32m---> 22\u001B[0m     \u001B[43msession\u001B[49m\u001B[38;5;241;43m.\u001B[39;49m\u001B[43mrun\u001B[49m\u001B[43m(\u001B[49m\u001B[43msourceQueries\u001B[49m\u001B[43m[\u001B[49m\u001B[43mi\u001B[49m\u001B[43m]\u001B[49m\u001B[43m,\u001B[49m\u001B[43m \u001B[49m\u001B[43mparameters\u001B[49m\u001B[38;5;241;43m=\u001B[39;49m\u001B[43mparameters\u001B[49m\u001B[43m[\u001B[49m\u001B[43mi\u001B[49m\u001B[43m]\u001B[49m\u001B[43m)\u001B[49m\n\u001B[1;32m     23\u001B[0m driver\u001B[38;5;241m.\u001B[39mclose()\n",
      "File \u001B[0;32m~/Library/Mobile Documents/com~apple~CloudDocs/counta_bot/venv/lib/python3.9/site-packages/neo4j/work/simple.py:215\u001B[0m, in \u001B[0;36mSession.run\u001B[0;34m(self, query, parameters, **kwparameters)\u001B[0m\n\u001B[1;32m    211\u001B[0m \u001B[38;5;28mself\u001B[39m\u001B[38;5;241m.\u001B[39m_autoResult \u001B[38;5;241m=\u001B[39m Result(\n\u001B[1;32m    212\u001B[0m     cx, hydrant, \u001B[38;5;28mself\u001B[39m\u001B[38;5;241m.\u001B[39m_config\u001B[38;5;241m.\u001B[39mfetch_size, \u001B[38;5;28mself\u001B[39m\u001B[38;5;241m.\u001B[39m_result_closed,\n\u001B[1;32m    213\u001B[0m     \u001B[38;5;28mself\u001B[39m\u001B[38;5;241m.\u001B[39m_result_error\n\u001B[1;32m    214\u001B[0m )\n\u001B[0;32m--> 215\u001B[0m \u001B[38;5;28;43mself\u001B[39;49m\u001B[38;5;241;43m.\u001B[39;49m\u001B[43m_autoResult\u001B[49m\u001B[38;5;241;43m.\u001B[39;49m\u001B[43m_run\u001B[49m\u001B[43m(\u001B[49m\n\u001B[1;32m    216\u001B[0m \u001B[43m    \u001B[49m\u001B[43mquery\u001B[49m\u001B[43m,\u001B[49m\u001B[43m \u001B[49m\u001B[43mparameters\u001B[49m\u001B[43m,\u001B[49m\u001B[43m \u001B[49m\u001B[38;5;28;43mself\u001B[39;49m\u001B[38;5;241;43m.\u001B[39;49m\u001B[43m_config\u001B[49m\u001B[38;5;241;43m.\u001B[39;49m\u001B[43mdatabase\u001B[49m\u001B[43m,\u001B[49m\n\u001B[1;32m    217\u001B[0m \u001B[43m    \u001B[49m\u001B[38;5;28;43mself\u001B[39;49m\u001B[38;5;241;43m.\u001B[39;49m\u001B[43m_config\u001B[49m\u001B[38;5;241;43m.\u001B[39;49m\u001B[43mimpersonated_user\u001B[49m\u001B[43m,\u001B[49m\u001B[43m \u001B[49m\u001B[38;5;28;43mself\u001B[39;49m\u001B[38;5;241;43m.\u001B[39;49m\u001B[43m_config\u001B[49m\u001B[38;5;241;43m.\u001B[39;49m\u001B[43mdefault_access_mode\u001B[49m\u001B[43m,\u001B[49m\n\u001B[1;32m    218\u001B[0m \u001B[43m    \u001B[49m\u001B[38;5;28;43mself\u001B[39;49m\u001B[38;5;241;43m.\u001B[39;49m\u001B[43m_bookmarks\u001B[49m\u001B[43m,\u001B[49m\u001B[43m \u001B[49m\u001B[38;5;241;43m*\u001B[39;49m\u001B[38;5;241;43m*\u001B[39;49m\u001B[43mkwparameters\u001B[49m\n\u001B[1;32m    219\u001B[0m \u001B[43m\u001B[49m\u001B[43m)\u001B[49m\n\u001B[1;32m    221\u001B[0m \u001B[38;5;28;01mreturn\u001B[39;00m \u001B[38;5;28mself\u001B[39m\u001B[38;5;241m.\u001B[39m_autoResult\n",
      "File \u001B[0;32m~/Library/Mobile Documents/com~apple~CloudDocs/counta_bot/venv/lib/python3.9/site-packages/neo4j/work/result.py:117\u001B[0m, in \u001B[0;36mResult._run\u001B[0;34m(self, query, parameters, db, imp_user, access_mode, bookmarks, **kwparameters)\u001B[0m\n\u001B[1;32m    116\u001B[0m \u001B[38;5;28mself\u001B[39m\u001B[38;5;241m.\u001B[39m_connection\u001B[38;5;241m.\u001B[39msend_all()\n\u001B[0;32m--> 117\u001B[0m \u001B[38;5;28;43mself\u001B[39;49m\u001B[38;5;241;43m.\u001B[39;49m\u001B[43m_attach\u001B[49m\u001B[43m(\u001B[49m\u001B[43m)\u001B[49m\n",
      "File \u001B[0;32m~/Library/Mobile Documents/com~apple~CloudDocs/counta_bot/venv/lib/python3.9/site-packages/neo4j/work/result.py:206\u001B[0m, in \u001B[0;36mResult._attach\u001B[0;34m(self)\u001B[0m\n\u001B[1;32m    205\u001B[0m \u001B[38;5;28;01mwhile\u001B[39;00m \u001B[38;5;28mself\u001B[39m\u001B[38;5;241m.\u001B[39m_attached \u001B[38;5;129;01mis\u001B[39;00m \u001B[38;5;28;01mFalse\u001B[39;00m:\n\u001B[0;32m--> 206\u001B[0m     \u001B[38;5;28;43mself\u001B[39;49m\u001B[38;5;241;43m.\u001B[39;49m\u001B[43m_connection\u001B[49m\u001B[38;5;241;43m.\u001B[39;49m\u001B[43mfetch_message\u001B[49m\u001B[43m(\u001B[49m\u001B[43m)\u001B[49m\n",
      "File \u001B[0;32m~/Library/Mobile Documents/com~apple~CloudDocs/counta_bot/venv/lib/python3.9/site-packages/neo4j/io/_common.py:188\u001B[0m, in \u001B[0;36mConnectionErrorHandler.__getattr__.<locals>.outer.<locals>.inner\u001B[0;34m(*args, **kwargs)\u001B[0m\n\u001B[1;32m    187\u001B[0m \u001B[38;5;28;01mtry\u001B[39;00m:\n\u001B[0;32m--> 188\u001B[0m     \u001B[43mfunc\u001B[49m\u001B[43m(\u001B[49m\u001B[38;5;241;43m*\u001B[39;49m\u001B[43margs\u001B[49m\u001B[43m,\u001B[49m\u001B[43m \u001B[49m\u001B[38;5;241;43m*\u001B[39;49m\u001B[38;5;241;43m*\u001B[39;49m\u001B[43mkwargs\u001B[49m\u001B[43m)\u001B[49m\n\u001B[1;32m    189\u001B[0m \u001B[38;5;28;01mexcept\u001B[39;00m (Neo4jError, ServiceUnavailable, SessionExpired) \u001B[38;5;28;01mas\u001B[39;00m exc:\n",
      "File \u001B[0;32m~/Library/Mobile Documents/com~apple~CloudDocs/counta_bot/venv/lib/python3.9/site-packages/neo4j/io/_bolt4.py:283\u001B[0m, in \u001B[0;36mBolt4x0.fetch_message\u001B[0;34m(self)\u001B[0m\n\u001B[1;32m    282\u001B[0m \u001B[38;5;66;03m# Receive exactly one message\u001B[39;00m\n\u001B[0;32m--> 283\u001B[0m details, summary_signature, summary_metadata \u001B[38;5;241m=\u001B[39m \u001B[38;5;28;43mnext\u001B[39;49m\u001B[43m(\u001B[49m\u001B[38;5;28;43mself\u001B[39;49m\u001B[38;5;241;43m.\u001B[39;49m\u001B[43minbox\u001B[49m\u001B[43m)\u001B[49m\n\u001B[1;32m    285\u001B[0m \u001B[38;5;28;01mif\u001B[39;00m details:\n",
      "File \u001B[0;32m~/Library/Mobile Documents/com~apple~CloudDocs/counta_bot/venv/lib/python3.9/site-packages/neo4j/io/_common.py:83\u001B[0m, in \u001B[0;36mInbox.__next__\u001B[0;34m(self)\u001B[0m\n\u001B[1;32m     82\u001B[0m \u001B[38;5;28;01mdef\u001B[39;00m \u001B[38;5;21m__next__\u001B[39m(\u001B[38;5;28mself\u001B[39m):\n\u001B[0;32m---> 83\u001B[0m     tag, fields \u001B[38;5;241m=\u001B[39m \u001B[38;5;28;43mself\u001B[39;49m\u001B[38;5;241;43m.\u001B[39;49m\u001B[43mpop\u001B[49m\u001B[43m(\u001B[49m\u001B[43m)\u001B[49m\n\u001B[1;32m     84\u001B[0m     \u001B[38;5;28;01mif\u001B[39;00m tag \u001B[38;5;241m==\u001B[39m \u001B[38;5;124mb\u001B[39m\u001B[38;5;124m\"\u001B[39m\u001B[38;5;130;01m\\x71\u001B[39;00m\u001B[38;5;124m\"\u001B[39m:\n",
      "File \u001B[0;32m~/Library/Mobile Documents/com~apple~CloudDocs/counta_bot/venv/lib/python3.9/site-packages/neo4j/io/_common.py:77\u001B[0m, in \u001B[0;36mMessageInbox.pop\u001B[0;34m(self)\u001B[0m\n\u001B[1;32m     76\u001B[0m \u001B[38;5;28;01mdef\u001B[39;00m \u001B[38;5;21mpop\u001B[39m(\u001B[38;5;28mself\u001B[39m):\n\u001B[0;32m---> 77\u001B[0m     \u001B[38;5;28;01mreturn\u001B[39;00m \u001B[38;5;28;43mnext\u001B[39;49m\u001B[43m(\u001B[49m\u001B[38;5;28;43mself\u001B[39;49m\u001B[38;5;241;43m.\u001B[39;49m\u001B[43m_messages\u001B[49m\u001B[43m)\u001B[49m\n",
      "File \u001B[0;32m~/Library/Mobile Documents/com~apple~CloudDocs/counta_bot/venv/lib/python3.9/site-packages/neo4j/io/_common.py:57\u001B[0m, in \u001B[0;36mMessageInbox._yield_messages\u001B[0;34m(self, sock)\u001B[0m\n\u001B[1;32m     55\u001B[0m \u001B[38;5;28;01mwhile\u001B[39;00m chunk_size \u001B[38;5;241m==\u001B[39m \u001B[38;5;241m0\u001B[39m:\n\u001B[1;32m     56\u001B[0m     \u001B[38;5;66;03m# Determine the chunk size and skip noop\u001B[39;00m\n\u001B[0;32m---> 57\u001B[0m     \u001B[43mbuffer\u001B[49m\u001B[38;5;241;43m.\u001B[39;49m\u001B[43mreceive\u001B[49m\u001B[43m(\u001B[49m\u001B[43msock\u001B[49m\u001B[43m,\u001B[49m\u001B[43m \u001B[49m\u001B[38;5;241;43m2\u001B[39;49m\u001B[43m)\u001B[49m\n\u001B[1;32m     58\u001B[0m     chunk_size \u001B[38;5;241m=\u001B[39m buffer\u001B[38;5;241m.\u001B[39mpop_u16()\n",
      "File \u001B[0;32m~/Library/Mobile Documents/com~apple~CloudDocs/counta_bot/venv/lib/python3.9/site-packages/neo4j/packstream.py:482\u001B[0m, in \u001B[0;36mUnpackableBuffer.receive\u001B[0;34m(self, sock, n_bytes)\u001B[0m\n\u001B[1;32m    481\u001B[0m \u001B[38;5;28;01mwhile\u001B[39;00m \u001B[38;5;28mself\u001B[39m\u001B[38;5;241m.\u001B[39mused \u001B[38;5;241m<\u001B[39m end:\n\u001B[0;32m--> 482\u001B[0m     n \u001B[38;5;241m=\u001B[39m \u001B[43msock\u001B[49m\u001B[38;5;241;43m.\u001B[39;49m\u001B[43mrecv_into\u001B[49m\u001B[43m(\u001B[49m\u001B[43mview\u001B[49m\u001B[43m[\u001B[49m\u001B[38;5;28;43mself\u001B[39;49m\u001B[38;5;241;43m.\u001B[39;49m\u001B[43mused\u001B[49m\u001B[43m:\u001B[49m\u001B[43mend\u001B[49m\u001B[43m]\u001B[49m\u001B[43m,\u001B[49m\u001B[43m \u001B[49m\u001B[43mend\u001B[49m\u001B[43m \u001B[49m\u001B[38;5;241;43m-\u001B[39;49m\u001B[43m \u001B[49m\u001B[38;5;28;43mself\u001B[39;49m\u001B[38;5;241;43m.\u001B[39;49m\u001B[43mused\u001B[49m\u001B[43m)\u001B[49m\n\u001B[1;32m    483\u001B[0m     \u001B[38;5;28;01mif\u001B[39;00m n \u001B[38;5;241m==\u001B[39m \u001B[38;5;241m0\u001B[39m:\n",
      "File \u001B[0;32m~/Library/Mobile Documents/com~apple~CloudDocs/counta_bot/venv/lib/python3.9/site-packages/neo4j/io/_socket.py:114\u001B[0m, in \u001B[0;36mBoltSocket.recv_into\u001B[0;34m(self, buffer, nbytes)\u001B[0m\n\u001B[1;32m    113\u001B[0m \u001B[38;5;28;01mdef\u001B[39;00m \u001B[38;5;21mrecv_into\u001B[39m(\u001B[38;5;28mself\u001B[39m, buffer, nbytes):\n\u001B[0;32m--> 114\u001B[0m     \u001B[38;5;28;01mreturn\u001B[39;00m \u001B[38;5;28;43mself\u001B[39;49m\u001B[38;5;241;43m.\u001B[39;49m\u001B[43m_wait_for_io\u001B[49m\u001B[43m(\u001B[49m\u001B[38;5;28;43mself\u001B[39;49m\u001B[38;5;241;43m.\u001B[39;49m\u001B[43m_socket\u001B[49m\u001B[38;5;241;43m.\u001B[39;49m\u001B[43mrecv_into\u001B[49m\u001B[43m,\u001B[49m\u001B[43m \u001B[49m\u001B[43mbuffer\u001B[49m\u001B[43m,\u001B[49m\u001B[43m \u001B[49m\u001B[43mnbytes\u001B[49m\u001B[43m)\u001B[49m\n",
      "File \u001B[0;32m~/Library/Mobile Documents/com~apple~CloudDocs/counta_bot/venv/lib/python3.9/site-packages/neo4j/io/_socket.py:89\u001B[0m, in \u001B[0;36mBoltSocket._wait_for_io\u001B[0;34m(self, func, *args, **kwargs)\u001B[0m\n\u001B[1;32m     88\u001B[0m \u001B[38;5;28;01mif\u001B[39;00m \u001B[38;5;28mself\u001B[39m\u001B[38;5;241m.\u001B[39m_deadline \u001B[38;5;129;01mis\u001B[39;00m \u001B[38;5;28;01mNone\u001B[39;00m:\n\u001B[0;32m---> 89\u001B[0m     \u001B[38;5;28;01mreturn\u001B[39;00m \u001B[43mfunc\u001B[49m\u001B[43m(\u001B[49m\u001B[38;5;241;43m*\u001B[39;49m\u001B[43margs\u001B[49m\u001B[43m,\u001B[49m\u001B[43m \u001B[49m\u001B[38;5;241;43m*\u001B[39;49m\u001B[38;5;241;43m*\u001B[39;49m\u001B[43mkwargs\u001B[49m\u001B[43m)\u001B[49m\n\u001B[1;32m     90\u001B[0m timeout \u001B[38;5;241m=\u001B[39m \u001B[38;5;28mself\u001B[39m\u001B[38;5;241m.\u001B[39m_socket\u001B[38;5;241m.\u001B[39mgettimeout()\n",
      "\u001B[0;31mKeyboardInterrupt\u001B[0m: ",
      "\nDuring handling of the above exception, another exception occurred:\n",
      "\u001B[0;31mStopIteration\u001B[0m                             Traceback (most recent call last)",
      "Input \u001B[0;32mIn [13]\u001B[0m, in \u001B[0;36m<cell line: 8>\u001B[0;34m()\u001B[0m\n\u001B[1;32m      5\u001B[0m password \u001B[38;5;241m=\u001B[39m \u001B[38;5;124m\"\u001B[39m\u001B[38;5;124mtesting\u001B[39m\u001B[38;5;124m\"\u001B[39m\n\u001B[1;32m      6\u001B[0m graph_path \u001B[38;5;241m=\u001B[39m \u001B[38;5;124m\"\u001B[39m\u001B[38;5;124m./data/causenet-precision.jsonl.bz2\u001B[39m\u001B[38;5;124m\"\u001B[39m\n\u001B[0;32m----> 8\u001B[0m \u001B[43mloadCauseNetIntoNeo4j\u001B[49m\u001B[43m(\u001B[49m\u001B[43muri\u001B[49m\u001B[43m,\u001B[49m\u001B[43m \u001B[49m\u001B[43muser\u001B[49m\u001B[43m,\u001B[49m\u001B[43m \u001B[49m\u001B[43mpassword\u001B[49m\u001B[43m,\u001B[49m\u001B[43m \u001B[49m\u001B[43mgraph_path\u001B[49m\u001B[43m)\u001B[49m\n",
      "Input \u001B[0;32mIn [11]\u001B[0m, in \u001B[0;36mloadCauseNetIntoNeo4j\u001B[0;34m(uri, user, password, graph_path)\u001B[0m\n\u001B[1;32m     20\u001B[0m driver \u001B[38;5;241m=\u001B[39m GraphDatabase\u001B[38;5;241m.\u001B[39mdriver(uri, auth\u001B[38;5;241m=\u001B[39m(user, password),encrypted \u001B[38;5;241m=\u001B[39m \u001B[38;5;28;01mFalse\u001B[39;00m)\n\u001B[1;32m     21\u001B[0m \u001B[38;5;28;01mwith\u001B[39;00m driver\u001B[38;5;241m.\u001B[39msession() \u001B[38;5;28;01mas\u001B[39;00m session:\n\u001B[0;32m---> 22\u001B[0m     session\u001B[38;5;241m.\u001B[39mrun(sourceQueries[i], parameters\u001B[38;5;241m=\u001B[39mparameters[i])\n\u001B[1;32m     23\u001B[0m driver\u001B[38;5;241m.\u001B[39mclose()\n",
      "File \u001B[0;32m~/Library/Mobile Documents/com~apple~CloudDocs/counta_bot/venv/lib/python3.9/site-packages/neo4j/work/simple.py:103\u001B[0m, in \u001B[0;36mSession.__exit__\u001B[0;34m(self, exception_type, exception_value, traceback)\u001B[0m\n\u001B[1;32m    101\u001B[0m \u001B[38;5;28;01mif\u001B[39;00m exception_type:\n\u001B[1;32m    102\u001B[0m     \u001B[38;5;28mself\u001B[39m\u001B[38;5;241m.\u001B[39m_state_failed \u001B[38;5;241m=\u001B[39m \u001B[38;5;28;01mTrue\u001B[39;00m\n\u001B[0;32m--> 103\u001B[0m \u001B[38;5;28;43mself\u001B[39;49m\u001B[38;5;241;43m.\u001B[39;49m\u001B[43mclose\u001B[49m\u001B[43m(\u001B[49m\u001B[43m)\u001B[49m\n",
      "File \u001B[0;32m~/Library/Mobile Documents/com~apple~CloudDocs/counta_bot/venv/lib/python3.9/site-packages/neo4j/work/simple.py:150\u001B[0m, in \u001B[0;36mSession.close\u001B[0;34m(self)\u001B[0m\n\u001B[1;32m    148\u001B[0m     \u001B[38;5;28;01mif\u001B[39;00m \u001B[38;5;28mself\u001B[39m\u001B[38;5;241m.\u001B[39m_connection:\n\u001B[1;32m    149\u001B[0m         \u001B[38;5;28mself\u001B[39m\u001B[38;5;241m.\u001B[39m_connection\u001B[38;5;241m.\u001B[39msend_all()\n\u001B[0;32m--> 150\u001B[0m         \u001B[38;5;28;43mself\u001B[39;49m\u001B[38;5;241;43m.\u001B[39;49m\u001B[43m_connection\u001B[49m\u001B[38;5;241;43m.\u001B[39;49m\u001B[43mfetch_all\u001B[49m\u001B[43m(\u001B[49m\u001B[43m)\u001B[49m\n\u001B[1;32m    151\u001B[0m         \u001B[38;5;66;03m# TODO: Investigate potential non graceful close states\u001B[39;00m\n\u001B[1;32m    152\u001B[0m \u001B[38;5;28;01mexcept\u001B[39;00m Neo4jError:\n",
      "File \u001B[0;32m~/Library/Mobile Documents/com~apple~CloudDocs/counta_bot/venv/lib/python3.9/site-packages/neo4j/io/__init__.py:549\u001B[0m, in \u001B[0;36mBolt.fetch_all\u001B[0;34m(self)\u001B[0m\n\u001B[1;32m    547\u001B[0m response \u001B[38;5;241m=\u001B[39m \u001B[38;5;28mself\u001B[39m\u001B[38;5;241m.\u001B[39mresponses[\u001B[38;5;241m0\u001B[39m]\n\u001B[1;32m    548\u001B[0m \u001B[38;5;28;01mwhile\u001B[39;00m \u001B[38;5;129;01mnot\u001B[39;00m response\u001B[38;5;241m.\u001B[39mcomplete:\n\u001B[0;32m--> 549\u001B[0m     detail_delta, summary_delta \u001B[38;5;241m=\u001B[39m \u001B[38;5;28;43mself\u001B[39;49m\u001B[38;5;241;43m.\u001B[39;49m\u001B[43mfetch_message\u001B[49m\u001B[43m(\u001B[49m\u001B[43m)\u001B[49m\n\u001B[1;32m    550\u001B[0m     detail_count \u001B[38;5;241m+\u001B[39m\u001B[38;5;241m=\u001B[39m detail_delta\n\u001B[1;32m    551\u001B[0m     summary_count \u001B[38;5;241m+\u001B[39m\u001B[38;5;241m=\u001B[39m summary_delta\n",
      "File \u001B[0;32m~/Library/Mobile Documents/com~apple~CloudDocs/counta_bot/venv/lib/python3.9/site-packages/neo4j/io/_bolt4.py:283\u001B[0m, in \u001B[0;36mBolt4x0.fetch_message\u001B[0;34m(self)\u001B[0m\n\u001B[1;32m    280\u001B[0m     \u001B[38;5;28;01mreturn\u001B[39;00m \u001B[38;5;241m0\u001B[39m, \u001B[38;5;241m0\u001B[39m\n\u001B[1;32m    282\u001B[0m \u001B[38;5;66;03m# Receive exactly one message\u001B[39;00m\n\u001B[0;32m--> 283\u001B[0m details, summary_signature, summary_metadata \u001B[38;5;241m=\u001B[39m \u001B[38;5;28;43mnext\u001B[39;49m\u001B[43m(\u001B[49m\u001B[38;5;28;43mself\u001B[39;49m\u001B[38;5;241;43m.\u001B[39;49m\u001B[43minbox\u001B[49m\u001B[43m)\u001B[49m\n\u001B[1;32m    285\u001B[0m \u001B[38;5;28;01mif\u001B[39;00m details:\n\u001B[1;32m    286\u001B[0m     log\u001B[38;5;241m.\u001B[39mdebug(\u001B[38;5;124m\"\u001B[39m\u001B[38;5;124m[#\u001B[39m\u001B[38;5;132;01m%04X\u001B[39;00m\u001B[38;5;124m]  S: RECORD * \u001B[39m\u001B[38;5;132;01m%d\u001B[39;00m\u001B[38;5;124m\"\u001B[39m, \u001B[38;5;28mself\u001B[39m\u001B[38;5;241m.\u001B[39mlocal_port, \u001B[38;5;28mlen\u001B[39m(details))  \u001B[38;5;66;03m# Do not log any data\u001B[39;00m\n",
      "File \u001B[0;32m~/Library/Mobile Documents/com~apple~CloudDocs/counta_bot/venv/lib/python3.9/site-packages/neo4j/io/_common.py:83\u001B[0m, in \u001B[0;36mInbox.__next__\u001B[0;34m(self)\u001B[0m\n\u001B[1;32m     82\u001B[0m \u001B[38;5;28;01mdef\u001B[39;00m \u001B[38;5;21m__next__\u001B[39m(\u001B[38;5;28mself\u001B[39m):\n\u001B[0;32m---> 83\u001B[0m     tag, fields \u001B[38;5;241m=\u001B[39m \u001B[38;5;28;43mself\u001B[39;49m\u001B[38;5;241;43m.\u001B[39;49m\u001B[43mpop\u001B[49m\u001B[43m(\u001B[49m\u001B[43m)\u001B[49m\n\u001B[1;32m     84\u001B[0m     \u001B[38;5;28;01mif\u001B[39;00m tag \u001B[38;5;241m==\u001B[39m \u001B[38;5;124mb\u001B[39m\u001B[38;5;124m\"\u001B[39m\u001B[38;5;130;01m\\x71\u001B[39;00m\u001B[38;5;124m\"\u001B[39m:\n\u001B[1;32m     85\u001B[0m         \u001B[38;5;28;01mreturn\u001B[39;00m fields, \u001B[38;5;28;01mNone\u001B[39;00m, \u001B[38;5;28;01mNone\u001B[39;00m\n",
      "File \u001B[0;32m~/Library/Mobile Documents/com~apple~CloudDocs/counta_bot/venv/lib/python3.9/site-packages/neo4j/io/_common.py:77\u001B[0m, in \u001B[0;36mMessageInbox.pop\u001B[0;34m(self)\u001B[0m\n\u001B[1;32m     76\u001B[0m \u001B[38;5;28;01mdef\u001B[39;00m \u001B[38;5;21mpop\u001B[39m(\u001B[38;5;28mself\u001B[39m):\n\u001B[0;32m---> 77\u001B[0m     \u001B[38;5;28;01mreturn\u001B[39;00m \u001B[38;5;28;43mnext\u001B[39;49m\u001B[43m(\u001B[49m\u001B[38;5;28;43mself\u001B[39;49m\u001B[38;5;241;43m.\u001B[39;49m\u001B[43m_messages\u001B[49m\u001B[43m)\u001B[49m\n",
      "\u001B[0;31mStopIteration\u001B[0m: "
     ]
    }
   ],
   "source": [
    "# docker run --publish=7474:7474 --publish=7687:7687 --user=\"$(id -u):$(id -g)\" neo4j:4.0\n",
    "\n",
    "uri = \"bolt://127.0.0.1:7687\"\n",
    "user = \"neo4j\"\n",
    "password = \"testing\"\n",
    "graph_path = \"./data/causenet-precision.jsonl.bz2\"\n",
    "\n",
    "loadCauseNetIntoNeo4j(uri, user, password, graph_path)"
   ],
   "metadata": {
    "collapsed": false,
    "pycharm": {
     "name": "#%%\n"
    }
   }
  },
  {
   "cell_type": "code",
   "execution_count": 16,
   "outputs": [],
   "source": [
    "data = [i for i in open('data/causenet-precision.jsonl')]"
   ],
   "metadata": {
    "collapsed": false,
    "pycharm": {
     "name": "#%%\n"
    }
   }
  },
  {
   "cell_type": "code",
   "execution_count": 17,
   "outputs": [
    {
     "data": {
      "text/plain": "                                                        0\n0       {\"causal_relation\": {\"cause\": {\"concept\": \"acc...\n1       {\"causal_relation\": {\"cause\": {\"concept\": \"dis...\n2       {\"causal_relation\": {\"cause\": {\"concept\": \"pne...\n3       {\"causal_relation\": {\"cause\": {\"concept\": \"can...\n4       {\"causal_relation\": {\"cause\": {\"concept\": \"hea...\n...                                                   ...\n197801  {\"causal_relation\": {\"cause\": {\"concept\": \"aut...\n197802  {\"causal_relation\": {\"cause\": {\"concept\": \"aut...\n197803  {\"causal_relation\": {\"cause\": {\"concept\": \"aut...\n197804  {\"causal_relation\": {\"cause\": {\"concept\": \"aut...\n197805  {\"causal_relation\": {\"cause\": {\"concept\": \"aut...\n\n[197806 rows x 1 columns]",
      "text/html": "<div>\n<style scoped>\n    .dataframe tbody tr th:only-of-type {\n        vertical-align: middle;\n    }\n\n    .dataframe tbody tr th {\n        vertical-align: top;\n    }\n\n    .dataframe thead th {\n        text-align: right;\n    }\n</style>\n<table border=\"1\" class=\"dataframe\">\n  <thead>\n    <tr style=\"text-align: right;\">\n      <th></th>\n      <th>0</th>\n    </tr>\n  </thead>\n  <tbody>\n    <tr>\n      <th>0</th>\n      <td>{\"causal_relation\": {\"cause\": {\"concept\": \"acc...</td>\n    </tr>\n    <tr>\n      <th>1</th>\n      <td>{\"causal_relation\": {\"cause\": {\"concept\": \"dis...</td>\n    </tr>\n    <tr>\n      <th>2</th>\n      <td>{\"causal_relation\": {\"cause\": {\"concept\": \"pne...</td>\n    </tr>\n    <tr>\n      <th>3</th>\n      <td>{\"causal_relation\": {\"cause\": {\"concept\": \"can...</td>\n    </tr>\n    <tr>\n      <th>4</th>\n      <td>{\"causal_relation\": {\"cause\": {\"concept\": \"hea...</td>\n    </tr>\n    <tr>\n      <th>...</th>\n      <td>...</td>\n    </tr>\n    <tr>\n      <th>197801</th>\n      <td>{\"causal_relation\": {\"cause\": {\"concept\": \"aut...</td>\n    </tr>\n    <tr>\n      <th>197802</th>\n      <td>{\"causal_relation\": {\"cause\": {\"concept\": \"aut...</td>\n    </tr>\n    <tr>\n      <th>197803</th>\n      <td>{\"causal_relation\": {\"cause\": {\"concept\": \"aut...</td>\n    </tr>\n    <tr>\n      <th>197804</th>\n      <td>{\"causal_relation\": {\"cause\": {\"concept\": \"aut...</td>\n    </tr>\n    <tr>\n      <th>197805</th>\n      <td>{\"causal_relation\": {\"cause\": {\"concept\": \"aut...</td>\n    </tr>\n  </tbody>\n</table>\n<p>197806 rows × 1 columns</p>\n</div>"
     },
     "execution_count": 17,
     "metadata": {},
     "output_type": "execute_result"
    }
   ],
   "source": [
    "import pandas as pd\n",
    "causal = pd.DataFrame(data)\n",
    "causal"
   ],
   "metadata": {
    "collapsed": false,
    "pycharm": {
     "name": "#%%\n"
    }
   }
  },
  {
   "cell_type": "code",
   "execution_count": 41,
   "outputs": [],
   "source": [
    "causal = []\n",
    "concepts = []\n",
    "\n",
    "\n",
    "for line in open('./data/causenet-precision.jsonl', 'r'):\n",
    "    data = json.loads(line)\n",
    "    causal.append(json.loads(line))\n",
    "    concepts.append(data[\"causal_relation\"][\"cause\"][\"concept\"])\n"
   ],
   "metadata": {
    "collapsed": false,
    "pycharm": {
     "name": "#%%\n"
    }
   }
  },
  {
   "cell_type": "code",
   "execution_count": 44,
   "outputs": [
    {
     "data": {
      "text/plain": "                                          causal_relation  \\\n0       {'cause': {'concept': 'accident'}, 'effect': {...   \n1       {'cause': {'concept': 'disease'}, 'effect': {'...   \n2       {'cause': {'concept': 'pneumonia'}, 'effect': ...   \n3       {'cause': {'concept': 'cancer'}, 'effect': {'c...   \n4       {'cause': {'concept': 'heart_attack'}, 'effect...   \n...                                                   ...   \n197801  {'cause': {'concept': 'autoimmune_gfap_astrocy...   \n197802  {'cause': {'concept': 'autoimmune_gfap_astrocy...   \n197803  {'cause': {'concept': 'autoimmune_gfap_astrocy...   \n197804  {'cause': {'concept': 'autoimmune_gfap_astrocy...   \n197805  {'cause': {'concept': 'autoimmune_gfap_astrocy...   \n\n                                                  sources  support  \n0       [{'type': 'wikipedia_sentence', 'payload': {'w...       38  \n1       [{'type': 'wikipedia_sentence', 'payload': {'w...       37  \n2       [{'type': 'wikipedia_sentence', 'payload': {'w...       37  \n3       [{'type': 'wikipedia_sentence', 'payload': {'w...       36  \n4       [{'type': 'wikipedia_sentence', 'payload': {'w...       36  \n...                                                   ...      ...  \n197801  [{'type': 'wikipedia_list', 'payload': {'wikip...        0  \n197802  [{'type': 'wikipedia_list', 'payload': {'wikip...        0  \n197803  [{'type': 'wikipedia_list', 'payload': {'wikip...        0  \n197804  [{'type': 'wikipedia_list', 'payload': {'wikip...        0  \n197805  [{'type': 'wikipedia_list', 'payload': {'wikip...        0  \n\n[197806 rows x 3 columns]",
      "text/html": "<div>\n<style scoped>\n    .dataframe tbody tr th:only-of-type {\n        vertical-align: middle;\n    }\n\n    .dataframe tbody tr th {\n        vertical-align: top;\n    }\n\n    .dataframe thead th {\n        text-align: right;\n    }\n</style>\n<table border=\"1\" class=\"dataframe\">\n  <thead>\n    <tr style=\"text-align: right;\">\n      <th></th>\n      <th>causal_relation</th>\n      <th>sources</th>\n      <th>support</th>\n    </tr>\n  </thead>\n  <tbody>\n    <tr>\n      <th>0</th>\n      <td>{'cause': {'concept': 'accident'}, 'effect': {...</td>\n      <td>[{'type': 'wikipedia_sentence', 'payload': {'w...</td>\n      <td>38</td>\n    </tr>\n    <tr>\n      <th>1</th>\n      <td>{'cause': {'concept': 'disease'}, 'effect': {'...</td>\n      <td>[{'type': 'wikipedia_sentence', 'payload': {'w...</td>\n      <td>37</td>\n    </tr>\n    <tr>\n      <th>2</th>\n      <td>{'cause': {'concept': 'pneumonia'}, 'effect': ...</td>\n      <td>[{'type': 'wikipedia_sentence', 'payload': {'w...</td>\n      <td>37</td>\n    </tr>\n    <tr>\n      <th>3</th>\n      <td>{'cause': {'concept': 'cancer'}, 'effect': {'c...</td>\n      <td>[{'type': 'wikipedia_sentence', 'payload': {'w...</td>\n      <td>36</td>\n    </tr>\n    <tr>\n      <th>4</th>\n      <td>{'cause': {'concept': 'heart_attack'}, 'effect...</td>\n      <td>[{'type': 'wikipedia_sentence', 'payload': {'w...</td>\n      <td>36</td>\n    </tr>\n    <tr>\n      <th>...</th>\n      <td>...</td>\n      <td>...</td>\n      <td>...</td>\n    </tr>\n    <tr>\n      <th>197801</th>\n      <td>{'cause': {'concept': 'autoimmune_gfap_astrocy...</td>\n      <td>[{'type': 'wikipedia_list', 'payload': {'wikip...</td>\n      <td>0</td>\n    </tr>\n    <tr>\n      <th>197802</th>\n      <td>{'cause': {'concept': 'autoimmune_gfap_astrocy...</td>\n      <td>[{'type': 'wikipedia_list', 'payload': {'wikip...</td>\n      <td>0</td>\n    </tr>\n    <tr>\n      <th>197803</th>\n      <td>{'cause': {'concept': 'autoimmune_gfap_astrocy...</td>\n      <td>[{'type': 'wikipedia_list', 'payload': {'wikip...</td>\n      <td>0</td>\n    </tr>\n    <tr>\n      <th>197804</th>\n      <td>{'cause': {'concept': 'autoimmune_gfap_astrocy...</td>\n      <td>[{'type': 'wikipedia_list', 'payload': {'wikip...</td>\n      <td>0</td>\n    </tr>\n    <tr>\n      <th>197805</th>\n      <td>{'cause': {'concept': 'autoimmune_gfap_astrocy...</td>\n      <td>[{'type': 'wikipedia_list', 'payload': {'wikip...</td>\n      <td>0</td>\n    </tr>\n  </tbody>\n</table>\n<p>197806 rows × 3 columns</p>\n</div>"
     },
     "execution_count": 44,
     "metadata": {},
     "output_type": "execute_result"
    }
   ],
   "source": [
    "df = pd.DataFrame(causal)\n",
    "df"
   ],
   "metadata": {
    "collapsed": false,
    "pycharm": {
     "name": "#%%\n"
    }
   }
  },
  {
   "cell_type": "code",
   "execution_count": 39,
   "outputs": [
    {
     "data": {
      "text/plain": "51863"
     },
     "execution_count": 39,
     "metadata": {},
     "output_type": "execute_result"
    }
   ],
   "source": [
    "test = set()\n",
    "\n",
    "for i in concepts:\n",
    "    test.add(i)\n"
   ],
   "metadata": {
    "collapsed": false,
    "pycharm": {
     "name": "#%%\n"
    }
   }
  },
  {
   "cell_type": "code",
   "execution_count": 34,
   "outputs": [
    {
     "data": {
      "text/plain": "['accident',\n 'disease',\n 'pneumonia',\n 'cancer',\n 'heart_attack',\n 'illness',\n 'stroke',\n 'complications',\n 'infection',\n 'injuries',\n 'heart_failure',\n 'negligence',\n 'violence',\n 'injury',\n 'accident',\n 'drought',\n 'injury',\n 'shock',\n 'cardiac_arrest',\n 'disease',\n 'heart_disease',\n 'dehydration',\n 'malnutrition',\n 'stress',\n 'smoking',\n 'sin',\n 'negligence',\n 'war',\n 'fall',\n 'fire',\n 'death',\n 'stress',\n 'stress',\n 'depression',\n 'old_age',\n 'paralysis',\n 'diabetes',\n 'smoking',\n 'anxiety',\n 'endometriosis',\n 'diarrhea',\n 'assault',\n 'suffocation',\n 'aids',\n 'respiratory_failure',\n 'obesity',\n 'bacteria',\n 'stress',\n 'accidents',\n 'accident',\n 'negligence',\n 'exposure',\n 'tuberculosis',\n 'overdose',\n 'infection',\n 'stress',\n 'diseases',\n 'heavy_rains',\n 'stress',\n 'fire',\n 'suicide',\n 'starvation',\n 'disease',\n 'accidents',\n 'disease',\n 'infections',\n 'stress',\n 'accidents',\n 'inflammation',\n 'injury',\n 'infection',\n 'bacteria',\n 'condition',\n 'bacteria',\n 'heavy_rain',\n 'hypothermia',\n 'global_warming',\n 'injuries',\n 'smoking',\n 'asbestos_exposure',\n 'condition',\n 'poverty',\n 'drug',\n 'pain',\n 'accidents',\n 'exposure',\n 'illness',\n 'abuse',\n 'osteoporosis',\n 'arthritis',\n 'human_activity',\n 'chemotherapy',\n 'earthquake',\n 'vaccines',\n 'hpv',\n 'heavy_rains',\n 'asphyxia',\n 'storm',\n 'asbestos_exposure',\n 'sepsis',\n 'liver_failure',\n 'pain',\n 'heavy_rainfall',\n 'neglect',\n 'infection',\n 'blood_clot',\n 'infection',\n 'negligence',\n 'smoking',\n 'accidents',\n 'asbestos',\n 'hemorrhage',\n 'accident',\n 'greenhouse_gases',\n 'global_warming',\n 'stress',\n 'accident',\n 'stress',\n 'war',\n 'natural_selection',\n 'malaria',\n 'virus',\n 'bacteria',\n 'changes',\n 'glaucoma',\n 'incident',\n 'incident',\n 'kidney_failure',\n 'surgery',\n 'alcohol',\n 'smoking',\n 'disease',\n 'carbon_dioxide',\n 'disease',\n 'diabetes',\n 'stress',\n 'negligence',\n 'injury',\n 'stress',\n 'bacteria',\n 'lack_of_exercise',\n 'diabetes',\n 'high_blood_pressure',\n 'rape',\n 'hiv',\n 'human_activities',\n 'war',\n 'cancer',\n 'crime',\n 'diseases',\n 'stress',\n 'condition',\n 'poisoning',\n 'pressure',\n 'hiv',\n 'actions',\n 'poison',\n 'trauma',\n 'anxiety',\n 'deforestation',\n 'stress',\n 'sickness',\n 'radiation',\n 'virus',\n 'fall',\n 'greenhouse_effect',\n 'mutations',\n 'viruses',\n 'infection',\n 'attack',\n 'depression',\n 'accident',\n 'asthma',\n 'drugs',\n 'stress',\n 'stress',\n 'poverty',\n 'infections',\n 'virus',\n 'mutations',\n 'human_activity',\n 'iron_deficiency',\n 'exhaustion',\n 'malaria',\n 'failure',\n 'smoking',\n 'infection',\n 'murder',\n 'pulmonary_embolism',\n 'climate_change',\n 'medication',\n 'global_warming',\n 'exposure',\n 'illness',\n 'alcoholism',\n 'greenhouse_gas_emissions',\n 'cigarette_smoking',\n 'accident',\n 'injuries',\n 'dehydration',\n 'cirrhosis',\n 'blood_clot',\n 'accident',\n 'iodine_deficiency',\n 'obesity',\n 'influenza',\n 'drugs',\n 'wounds',\n 'conflict',\n 'accident',\n 'exposure_to_asbestos',\n 'hard_work',\n 'car_accident',\n 'greenhouse_gas_emissions',\n 'poor_diet',\n 'infection',\n 'surgery',\n 'abortion',\n 'injury',\n 'obesity',\n 'depression',\n 'exposure',\n 'diabetic_retinopathy',\n 'constipation',\n 'anemia',\n 'infectious_diseases',\n 'asphyxiation',\n 'disease',\n 'war',\n 'obesity',\n 'internal_bleeding',\n 'congestive_heart_failure',\n 'events',\n 'asbestos',\n 'consumption',\n 'injury',\n 'measles',\n 'trauma',\n 'overuse',\n 'renal_failure',\n 'blood_clot',\n 'negligence',\n 'lightning',\n 'medical_malpractice',\n 'hunger',\n 'spinal_cord_injury',\n 'heart_attacks',\n 'negligence',\n 'infection',\n 'alcohol',\n 'accident',\n 'lack_of_sleep',\n 'coronary_artery_disease',\n 'anxiety',\n 'accident',\n 'stress',\n 'explosion',\n 'issues',\n 'heart_trouble',\n 'lung_cancer',\n 'corruption',\n 'anger',\n 'chronic_pain',\n 'poverty',\n 'bacteria',\n 'carbon_emissions',\n 'smoking',\n 'obesity',\n 'influenza',\n 'sin',\n 'depression',\n 'stress',\n 'injury',\n 'illness',\n 'tension',\n 'brain_injury',\n 'global_warming',\n 'carelessness',\n 'problems',\n 'asbestos',\n 'blood_loss',\n 'cardiovascular_disease',\n 'carelessness',\n 'human_activities',\n 'bacteria',\n 'burning_of_fossil_fuels',\n 'imbalance',\n 'accident',\n 'blood_clots',\n 'bacteria',\n 'cancer',\n 'mmr_vaccine',\n 'smoking',\n 'pneumonia',\n 'global_warming',\n 'breast_cancer',\n 'diabetes',\n 'pilot_error',\n 'flooding',\n 'hypertension',\n 'earthquakes',\n 'human_error',\n 'accidents',\n 'diet',\n 'drinking',\n 'infection',\n 'collision',\n 'problems',\n 'respiratory_arrest',\n 'mmr',\n 'strangulation',\n 'vitamin_d_deficiency',\n 'fall',\n 'heavy_rainfall',\n 'conditions',\n 'head_injury',\n 'hypertension',\n 'illness',\n 'flooding',\n 'obesity',\n 'toxins',\n 'suicide',\n 'injury',\n 'allergies',\n 'assault',\n 'medical_negligence',\n 'infection',\n 'smoking',\n 'fear',\n 'actions',\n 'climate_change',\n 'diabetes',\n 'negligence',\n 'brain_damage',\n 'stress',\n 'pollution',\n 'stress',\n 'negligent_act',\n 'nerves',\n 'asbestos_exposure',\n 'actions',\n 'hormonal_changes',\n 'global_warming',\n 'depression',\n 'climate_change',\n 'crash',\n 'drugs',\n 'bacteria',\n 'pilot_error',\n 'human_papillomavirus',\n 'earthquake',\n 'insulin_resistance',\n 'human_papilloma_virus',\n 'heavy_rains',\n 'homicide',\n 'violence',\n 'climate_change',\n 'violence',\n 'obesity',\n 'obesity',\n 'viruses',\n 'mutation',\n 'fungus',\n 'car_accidents',\n 'medications',\n 'gas_leak',\n 'chemicals',\n 'stroke',\n 'lung_cancer',\n 'depression',\n 'poverty',\n 'diabetes',\n 'change',\n 'blood_clots',\n 'septic_shock',\n 'human_error',\n 'inflammation',\n 'defective_product',\n 'virus',\n 'disease',\n 'disorder',\n 'cardiovascular_disease',\n 'cataracts',\n 'co2',\n 'events',\n 'breast_cancer',\n 'heart_problems',\n 'surgery',\n 'malnutrition',\n 'carelessness',\n 'virus',\n 'damage',\n 'climate_change',\n 'error',\n 'diabetes',\n 'cigarette_smoking',\n 'injury',\n 'conditions',\n 'bacteria',\n 'injuries',\n 'heart_disease',\n 'action',\n 'attacks',\n 'infection',\n 'fire',\n 'negligence',\n 'high_cholesterol',\n 'illness',\n 'infection',\n 'changes',\n 'endometriosis',\n 'condition',\n 'acne',\n 'inflammation',\n 'sin',\n 'stress',\n 'bacteria',\n 'activity',\n 'work',\n 'medical_malpractice',\n 'diabetes',\n 'chemical_imbalance',\n 'high_blood_pressure',\n 'dht',\n 'lack_of_sleep',\n 'stress',\n 'problems',\n 'loss_of_appetite',\n 'incident',\n 'conduct',\n 'stress',\n 'obesity',\n 'hormonal_imbalance',\n 'infections',\n 'pregnancy',\n 'hypothyroidism',\n 'osteoarthritis',\n 'loss_of_blood',\n 'loss',\n 'events',\n 'imbalance',\n 'sulfur_dioxide',\n 'sun_exposure',\n 'stock_market_crash',\n 'trauma',\n 'tornado',\n 'damage',\n 'pathogens',\n 'bacteria',\n 'noise',\n 'deforestation',\n 'allergies',\n 'accident',\n 'storm',\n 'influenza',\n 'use',\n 'death',\n 'starvation',\n 'virus',\n 'humans',\n 'cancer',\n 'pulmonary_edema',\n 'respiratory_depression',\n 'infection',\n 'virus',\n 'ignorance',\n 'conditions',\n 'fungus',\n 'failure',\n 'free_radicals',\n 'illnesses',\n 'abortion',\n 'damage',\n 'medications',\n 'fires',\n 'condition',\n 'mercury',\n 'diarrhea',\n 'storms',\n 'apoplexy',\n 'complication',\n 'rheumatoid_arthritis',\n 'cardiac_failure',\n 'fever',\n 'smoking',\n 'change',\n 'alcohol',\n 'infection',\n 'fear',\n 'flooding',\n 'smoking',\n 'sin',\n 'sex',\n 'religion',\n 'poverty',\n 'burns',\n 'increase',\n 'cerebral_hemorrhage',\n 'depression',\n 'stress',\n 'depression',\n 'insulin_resistance',\n 'drugs',\n 'diseases',\n 'isolation',\n 'religion',\n 'aspartame',\n 'heart_disease',\n 'obesity',\n 'unemployment',\n 'tobacco_use',\n 'caffeine',\n 'violation',\n 'mold',\n 'inflammation',\n 'poor_posture',\n 'greenhouse_gases',\n 'sin',\n 'fear',\n 'neglect',\n 'co2_emissions',\n 'slip',\n 'disease',\n 'problems',\n 'carelessness',\n 'malpractice',\n 'asbestos_exposure',\n 'malpractice',\n 'lack_of_sleep',\n 'emissions',\n 'anxiety',\n 'iodine_deficiency',\n 'tobacco',\n 'high_blood_pressure',\n 'osteoarthritis',\n 'atrial_fibrillation',\n 'wound',\n 'natural_causes',\n 'aids',\n 'radon',\n 'behavior',\n 'ventricular_fibrillation',\n 'human_activities',\n 'events',\n 'malnutrition',\n 'infection',\n 'drought',\n 'hiv_infection',\n 'air_pollution',\n 'cardiovascular_diseases',\n 'conditions',\n 'virus',\n 'fatigue',\n 'ambiguity',\n 'friction',\n 'alcohol',\n 'medications',\n 'frustration',\n 'storms',\n 'earthquake',\n 'stress',\n 'attack',\n 'anxiety',\n 'respiratory_paralysis',\n 'arson',\n 'torrential_rains',\n 'stroke',\n 'carbon_monoxide_poisoning',\n 'drug_overdose',\n 'convulsions',\n 'vomiting',\n 'explosion',\n 'arthritis',\n 'gene',\n 'seizure',\n 'heart_condition',\n 'myocardial_infarction',\n 'actions',\n 'viruses',\n 'flooding',\n 'deforestation',\n 'plantar_fasciitis',\n 'fibromyalgia',\n 'smoking',\n 'air_pollution',\n 'disease',\n 'vitamin_a_deficiency',\n 'condition',\n 'inflammation',\n 'medical_negligence',\n 'mechanical_failure',\n 'virus',\n 'head_injuries',\n 'brain_damage',\n 'malnutrition',\n 'carelessness',\n 'operation',\n 'accident',\n 'disobedience',\n 'automobile_accident',\n 'blood_clots',\n 'bacteria',\n 'injury',\n 'incident',\n 'shooting',\n 'stress',\n 'stress',\n 'act',\n 'carbon_dioxide',\n 'intoxication',\n 'changes',\n 'mutations',\n 'meningitis',\n 'accidents',\n 'drugs',\n 'fire',\n 'vandalism',\n 'fire',\n 'toxins',\n 'bacteria',\n 'drugs',\n 'hurricanes',\n 'bacteria',\n 'problems',\n 'violence',\n 'vioxx',\n 'action',\n 'alcohol',\n 'exposure',\n 'accidents',\n 'free_radicals',\n 'drug',\n 'disease',\n 'irritation',\n 'tension',\n 'medical_errors',\n 'drug',\n 'vaccine',\n 'diabetes',\n 'heart_disease',\n 'stress',\n 'scoliosis',\n 'obesity',\n 'calcium_deficiency',\n 'situation',\n 'chemotherapy',\n 'vitamin_a_deficiency',\n 'stress',\n 'dry_mouth',\n 'greenhouse_gases',\n 'co2',\n 'herniated_disc',\n 'blow',\n 'anxiety',\n 'failure',\n 'loneliness',\n 'hypothyroidism',\n 'thimerosal',\n 'negligence',\n 'global_warming',\n 'smoking',\n 'condition',\n 'fear',\n 'drunk_driving',\n 'medications',\n 'pain',\n 'bacteria',\n 'macular_degeneration',\n 'gum_disease',\n 'diabetes',\n 'exposure',\n 'cholesterol',\n 'exercise',\n 'accident',\n 'infections',\n 'accident',\n 'defect',\n 'retinal_detachment',\n 'stress',\n 'car_accidents',\n 'actions',\n 'stress',\n 'poverty',\n 'alcohol',\n 'smoking',\n 'cataracts',\n 'medication',\n 'recklessness',\n 'obesity',\n 'stress',\n 'error',\n 'adultery',\n 'infidelity',\n 'malaria',\n 'acne',\n 'high_blood_pressure',\n 'typhoid_fever',\n 'blood_clots',\n 'viruses',\n 'air_pollution',\n 'vitamin_c_deficiency',\n 'chemotherapy',\n 'pathogen',\n 'hiv',\n 'apoptosis',\n 'disease',\n 'famine',\n 'hiv_virus',\n 'tuberculosis',\n 'heart',\n 'craving',\n 'pregnancy',\n 'hurricane_katrina',\n 'syphilis',\n 'storms',\n 'vaccine',\n 'peritonitis',\n 'accident',\n 'encephalitis',\n 'condition',\n 'weather',\n 'act',\n 'organ_failure',\n 'diarrhea',\n 'trauma',\n \"bright_'s_disease\",\n 'flu',\n 'short_circuit',\n 'depression',\n 'grief',\n 'deforestation',\n 'sugar',\n 'water',\n 'hypoxia',\n 'climate_change',\n 'hpv',\n 'rains',\n 'menopause',\n 'addiction',\n 'global_warming',\n 'frustration',\n 'cigarette_smoking',\n 'fibromyalgia',\n 'stroke',\n 'iron_deficiency',\n 'injury',\n 'exposure',\n 'diabetes',\n 'rain',\n 'heat',\n 'obesity',\n 'rainfall',\n 'heavy_rain',\n 'breach',\n 'financial_crisis',\n 'stress',\n 'dehydration',\n 'bodily_injury',\n 'accident',\n 'damage',\n 'lack_of_oxygen',\n 'haemorrhage',\n 'anemia',\n 'bronchitis',\n 'infection',\n 'fraud',\n 'eye_disease',\n 'conflict',\n 'blockage',\n 'surgery',\n 'allergies',\n 'drug_use',\n 'conduct',\n 'corrosion',\n 'drug',\n 'problems',\n 'deaths',\n 'overeating',\n 'attack',\n 'fire',\n 'wind',\n 'birth',\n 'illness',\n 'anxiety',\n 'macular_degeneration',\n 'global_warming',\n 'organism',\n 'drugs',\n 'dehydration',\n 'mesothelioma',\n 'strokes',\n 'symptoms',\n 'flu',\n 'virus',\n 'child_abuse',\n 'trauma',\n 'injuries',\n 'poor_posture',\n 'infection',\n 'internal_injuries',\n 'violation',\n 'damage',\n 'depression',\n 'virus',\n 'acts',\n 'infection',\n 'carbon_emissions',\n 'medical_negligence',\n 'illness',\n 'drug',\n 'genetic_mutations',\n 'sin',\n 'sin',\n 'stress',\n 'bacteria',\n 'mutation',\n 'problem',\n 'stress',\n 'hpv_infection',\n 'anxiety',\n 'fatigue',\n 'stress',\n 'sedentary_lifestyle',\n 'obesity',\n 'dehydration',\n 'high_blood_pressure',\n 'free_radicals',\n 'damage',\n 'pcos',\n 'bone_loss',\n 'depression',\n 'fall',\n 'free_radicals',\n 'hormones',\n 'diabetes',\n 'infectious_disease',\n 'dehydration',\n 'hormonal_changes',\n 'smoking',\n 'uncertainty',\n 'omission',\n 'strain',\n 'behavior',\n 'deficiency',\n 'errors',\n 'stress',\n 'injuries',\n 'injury',\n 'flu',\n 'poverty',\n 'spasm',\n 'emissions_of_carbon_dioxide',\n 'competition',\n 'co2',\n 'global_warming',\n 'conflict',\n 'sugar',\n 'hormonal_imbalance',\n 'pollution',\n 'anxiety',\n 'disease',\n 'deforestation',\n 'smoking',\n 'diseases',\n 'condition',\n 'global_warming',\n 'avandia',\n 'faith',\n 'exposure',\n 'sin',\n 'injuries',\n 'negligence',\n 'deforestation',\n 'conditions',\n 'chlamydia',\n 'lack_of_vitamin_c',\n 'air_pollution',\n 'virus',\n 'glaucoma',\n 'osteoarthritis',\n 'stroke',\n 'events',\n 'mechanical_failure',\n 'storm',\n 'exposure',\n 'blood_loss',\n 'disease',\n 'physical_illness',\n 'electric_shock',\n 'price_controls',\n 'diseases',\n 'flood',\n 'prostate_cancer',\n 'moisture',\n 'hurricane_katrina',\n 'death',\n 'pain',\n 'tobacco',\n 'stress',\n 'earthquakes',\n 'infections',\n 'climate_change',\n 'habitat_loss',\n 'disease',\n 'myocarditis',\n 'high_winds',\n 'ventricular_fibrillation',\n 'injury',\n 'dna_damage',\n 'viruses',\n 'exposure',\n 'environmental_factors',\n 'defective_products',\n 'complications',\n 'outbreak',\n 'drug',\n 'toxins',\n 'collision',\n 'coronary_artery_disease',\n 'ventricular_fibrillation',\n 'disease',\n 'health_problems',\n 'terrorism',\n 'mutations',\n 'leukemia',\n 'actions',\n 'storm',\n 'collision',\n 'diseases',\n 'accident',\n 'accident',\n 'oxidative_stress',\n 'osteoporosis',\n 'fire',\n 'asthma',\n 'movement',\n 'depression',\n 'bacterial_infection',\n 'benzene',\n 'car_accident',\n 'complications',\n \"alzheimer_'s_disease\",\n 'disease',\n 'drug',\n 'chronic_illness',\n 'irritation',\n 'blockages',\n 'diabetes',\n 'war',\n 'pregnancy',\n 'breach',\n 'breach',\n 'incidents',\n 'noise_exposure',\n 'insomnia',\n 'climate_change',\n 'tsunami',\n 'confusion',\n 'technical_problems',\n 'infection',\n 'fractures',\n 'fall',\n 'drugs',\n 'crash',\n 'rain',\n 'cancer',\n 'tobacco_use',\n 'inflammation',\n 'inflammation',\n 'fever',\n 'tobacco_use',\n 'masturbation',\n 'infection',\n 'fatigue',\n 'mistake',\n 'carbon_dioxide_emissions',\n 'muscle_spasm',\n 'aspartame',\n 'oxygen_deprivation',\n 'global_warming',\n 'treatment',\n 'accident',\n 'changes',\n 'anemia',\n 'exposure_to_asbestos',\n 'deficiency',\n 'diarrhoea',\n 'cocaine',\n 'growth',\n 'actions',\n 'coronary_artery_disease',\n 'motor_vehicle_accidents',\n 'poverty',\n 'tobacco',\n 'bacteria',\n 'arthritis',\n 'anaphylactic_shock',\n 'addiction',\n 'virus',\n 'diseases',\n ...]"
     },
     "execution_count": 34,
     "metadata": {},
     "output_type": "execute_result"
    }
   ],
   "source": [
    "concepts"
   ],
   "metadata": {
    "collapsed": false,
    "pycharm": {
     "name": "#%%\n"
    }
   }
  },
  {
   "cell_type": "code",
   "execution_count": 19,
   "outputs": [],
   "source": [
    "causal = pd.DataFrame(causal)"
   ],
   "metadata": {
    "collapsed": false,
    "pycharm": {
     "name": "#%%\n"
    }
   }
  },
  {
   "cell_type": "code",
   "execution_count": 20,
   "outputs": [
    {
     "data": {
      "text/plain": "                                          causal_relation  \\\n0       {'cause': {'concept': 'accident'}, 'effect': {...   \n1       {'cause': {'concept': 'disease'}, 'effect': {'...   \n2       {'cause': {'concept': 'pneumonia'}, 'effect': ...   \n3       {'cause': {'concept': 'cancer'}, 'effect': {'c...   \n4       {'cause': {'concept': 'heart_attack'}, 'effect...   \n...                                                   ...   \n197801  {'cause': {'concept': 'autoimmune_gfap_astrocy...   \n197802  {'cause': {'concept': 'autoimmune_gfap_astrocy...   \n197803  {'cause': {'concept': 'autoimmune_gfap_astrocy...   \n197804  {'cause': {'concept': 'autoimmune_gfap_astrocy...   \n197805  {'cause': {'concept': 'autoimmune_gfap_astrocy...   \n\n                                                  sources  support  \n0       [{'type': 'wikipedia_sentence', 'payload': {'w...       38  \n1       [{'type': 'wikipedia_sentence', 'payload': {'w...       37  \n2       [{'type': 'wikipedia_sentence', 'payload': {'w...       37  \n3       [{'type': 'wikipedia_sentence', 'payload': {'w...       36  \n4       [{'type': 'wikipedia_sentence', 'payload': {'w...       36  \n...                                                   ...      ...  \n197801  [{'type': 'wikipedia_list', 'payload': {'wikip...        0  \n197802  [{'type': 'wikipedia_list', 'payload': {'wikip...        0  \n197803  [{'type': 'wikipedia_list', 'payload': {'wikip...        0  \n197804  [{'type': 'wikipedia_list', 'payload': {'wikip...        0  \n197805  [{'type': 'wikipedia_list', 'payload': {'wikip...        0  \n\n[197806 rows x 3 columns]",
      "text/html": "<div>\n<style scoped>\n    .dataframe tbody tr th:only-of-type {\n        vertical-align: middle;\n    }\n\n    .dataframe tbody tr th {\n        vertical-align: top;\n    }\n\n    .dataframe thead th {\n        text-align: right;\n    }\n</style>\n<table border=\"1\" class=\"dataframe\">\n  <thead>\n    <tr style=\"text-align: right;\">\n      <th></th>\n      <th>causal_relation</th>\n      <th>sources</th>\n      <th>support</th>\n    </tr>\n  </thead>\n  <tbody>\n    <tr>\n      <th>0</th>\n      <td>{'cause': {'concept': 'accident'}, 'effect': {...</td>\n      <td>[{'type': 'wikipedia_sentence', 'payload': {'w...</td>\n      <td>38</td>\n    </tr>\n    <tr>\n      <th>1</th>\n      <td>{'cause': {'concept': 'disease'}, 'effect': {'...</td>\n      <td>[{'type': 'wikipedia_sentence', 'payload': {'w...</td>\n      <td>37</td>\n    </tr>\n    <tr>\n      <th>2</th>\n      <td>{'cause': {'concept': 'pneumonia'}, 'effect': ...</td>\n      <td>[{'type': 'wikipedia_sentence', 'payload': {'w...</td>\n      <td>37</td>\n    </tr>\n    <tr>\n      <th>3</th>\n      <td>{'cause': {'concept': 'cancer'}, 'effect': {'c...</td>\n      <td>[{'type': 'wikipedia_sentence', 'payload': {'w...</td>\n      <td>36</td>\n    </tr>\n    <tr>\n      <th>4</th>\n      <td>{'cause': {'concept': 'heart_attack'}, 'effect...</td>\n      <td>[{'type': 'wikipedia_sentence', 'payload': {'w...</td>\n      <td>36</td>\n    </tr>\n    <tr>\n      <th>...</th>\n      <td>...</td>\n      <td>...</td>\n      <td>...</td>\n    </tr>\n    <tr>\n      <th>197801</th>\n      <td>{'cause': {'concept': 'autoimmune_gfap_astrocy...</td>\n      <td>[{'type': 'wikipedia_list', 'payload': {'wikip...</td>\n      <td>0</td>\n    </tr>\n    <tr>\n      <th>197802</th>\n      <td>{'cause': {'concept': 'autoimmune_gfap_astrocy...</td>\n      <td>[{'type': 'wikipedia_list', 'payload': {'wikip...</td>\n      <td>0</td>\n    </tr>\n    <tr>\n      <th>197803</th>\n      <td>{'cause': {'concept': 'autoimmune_gfap_astrocy...</td>\n      <td>[{'type': 'wikipedia_list', 'payload': {'wikip...</td>\n      <td>0</td>\n    </tr>\n    <tr>\n      <th>197804</th>\n      <td>{'cause': {'concept': 'autoimmune_gfap_astrocy...</td>\n      <td>[{'type': 'wikipedia_list', 'payload': {'wikip...</td>\n      <td>0</td>\n    </tr>\n    <tr>\n      <th>197805</th>\n      <td>{'cause': {'concept': 'autoimmune_gfap_astrocy...</td>\n      <td>[{'type': 'wikipedia_list', 'payload': {'wikip...</td>\n      <td>0</td>\n    </tr>\n  </tbody>\n</table>\n<p>197806 rows × 3 columns</p>\n</div>"
     },
     "execution_count": 20,
     "metadata": {},
     "output_type": "execute_result"
    }
   ],
   "source": [
    "causal"
   ],
   "metadata": {
    "collapsed": false,
    "pycharm": {
     "name": "#%%\n"
    }
   }
  },
  {
   "cell_type": "code",
   "execution_count": null,
   "outputs": [],
   "source": [],
   "metadata": {
    "collapsed": false,
    "pycharm": {
     "name": "#%%\n"
    }
   }
  }
 ],
 "metadata": {
  "kernelspec": {
   "display_name": "Python 3",
   "language": "python",
   "name": "python3"
  },
  "language_info": {
   "codemirror_mode": {
    "name": "ipython",
    "version": 3
   },
   "file_extension": ".py",
   "mimetype": "text/x-python",
   "name": "python",
   "nbconvert_exporter": "python",
   "pygments_lexer": "ipython3",
   "version": "3.7.3"
  },
  "toc": {
   "base_numbering": 1,
   "nav_menu": {},
   "number_sections": true,
   "sideBar": true,
   "skip_h1_title": false,
   "title_cell": "Table of Contents",
   "title_sidebar": "Contents",
   "toc_cell": false,
   "toc_position": {},
   "toc_section_display": true,
   "toc_window_display": false
  }
 },
 "nbformat": 4,
 "nbformat_minor": 2
}