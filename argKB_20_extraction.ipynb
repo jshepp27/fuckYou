{
 "cells": [
  {
   "cell_type": "code",
   "execution_count": null,
   "outputs": [],
   "source": [
    "# Populate Arg20 Knowledge Graph"
   ],
   "metadata": {
    "collapsed": false,
    "pycharm": {
     "name": "#%%\n"
    }
   }
  },
  {
   "cell_type": "code",
   "execution_count": 2,
   "outputs": [],
   "source": [
    "import pandas as pd\n",
    "import json"
   ],
   "metadata": {
    "collapsed": false,
    "pycharm": {
     "name": "#%%\n"
    }
   }
  },
  {
   "cell_type": "code",
   "execution_count": 3,
   "outputs": [],
   "source": [
    "evidence = []\n",
    "for line in open('./data/selected_evidence_rr_train.jsonlist', 'r'):\n",
    "    evidence.append(json.loads(line))"
   ],
   "metadata": {
    "collapsed": false,
    "pycharm": {
     "name": "#%%\n"
    }
   }
  },
  {
   "cell_type": "code",
   "execution_count": 4,
   "outputs": [
    {
     "data": {
      "text/plain": "{'cid': 'd96nosw',\n 'evidence_info': [{'sentence': 'It makes sense to pay property taxes when you have city water and hydro and road access and a police officer patrolling the streets .',\n   'evidence': ['From the day the recruit enters the academy to the day he or she completes training and is a solo police officer patrolling the street is 45 weeks.',\n    'The city had no great reserve of money, and no regular income stream, so they developed a mechanism to pay for the opening and building of the streets, and for compensating the landowners whose property would be used for them.',\n    'In March 2014, the city of Baltimore agreed to pay $250,000 to a man who was arrested at the Preakness Stakes in 2010 for recording police officers with his mobile phone.',\n    'State Route 318 is the designation for the access road to the Virginia State Capitol from Ninth Street in the City of Richmond.',\n    'The first section of the project will provide high speed road access from the Port of Karachi to the city of Hyderabad and interior Sindh.',\n    'The city admitted no misconduct and said it was unable to identify the officers who arrested Christopher Sharp, but agreed to pay to settle the matter.'],\n   'keyphrase': [[['a',\n      'solo',\n      'police',\n      'officer',\n      'patrolling',\n      'the',\n      'street',\n      'is',\n      '45',\n      'weeks']],\n    [['the',\n      'landowners',\n      'whose',\n      'property',\n      'would',\n      'be',\n      'used',\n      'for',\n      'them'],\n     ['The', 'city'],\n     ['the', 'streets']],\n    [['recording', 'police', 'officers'], ['the', 'city']],\n    [['Ninth', 'Street', 'in', 'the', 'City', 'of', 'Richmond'],\n     ['the', 'access', 'road']],\n    [['high', 'speed', 'road', 'access'], ['the', 'city']],\n    [['pay', 'to', 'settle', 'the', 'matter'],\n     ['The', 'city'],\n     ['the', 'officers']]]}],\n 'tid': 't3_5998up'}"
     },
     "execution_count": 4,
     "metadata": {},
     "output_type": "execute_result"
    }
   ],
   "source": [
    "evidence[0]"
   ],
   "metadata": {
    "collapsed": false,
    "pycharm": {
     "name": "#%%\n"
    }
   }
  },
  {
   "cell_type": "code",
   "execution_count": 5,
   "outputs": [],
   "source": [
    "# OP (CMV) -> Sentences\n",
    "debate = []\n",
    "for line in open('./data/debate_nlp.jsonl', 'r'):\n",
    "    debate.append(json.loads(line))"
   ],
   "metadata": {
    "collapsed": false,
    "pycharm": {
     "name": "#%%\n"
    }
   }
  },
  {
   "cell_type": "code",
   "execution_count": 6,
   "outputs": [
    {
     "data": {
      "text/plain": "           id                                              title  \\\n0   t3_2ro9ux               Anything that is manmade is natural.   \n1   t3_2ro0ti                        Essential Oils are bullshit   \n2   t3_2rnr30  I think the Paris shooting makes a good case f...   \n3   t3_2rnfn0  Explaining causation is not blaming the victim...   \n4   t3_2rnfn0  Explaining causation is not blaming the victim...   \n5   t3_2rmy6e  Philosophy has no tangible value as an academi...   \n6   t3_2rmy6e  Philosophy has no tangible value as an academi...   \n7   t3_2rmwcd           Freedom of speech is being taken too far   \n8   t3_2rkzen  Eugenics isnt all that bad... And we dont even...   \n9   t3_2rkzen  Eugenics isnt all that bad... And we dont even...   \n10  t3_2rkzen  Eugenics isnt all that bad... And we dont even...   \n11  t3_2rkjr3  Irony aside most people that post in are unedu...   \n12  t3_2rk7my  Driving a car is insanely risky and probably t...   \n13  t3_2rk7my  Driving a car is insanely risky and probably t...   \n14  t3_2rgs7o  Assuming there is no afterlife then life is ul...   \n15  t3_2rexe3  ETs SAR firefighters police etc. should receiv...   \n16  t3_2rekjo  I believe you have three choices once you disc...   \n17  t3_2rd7mg  America is a better place because of the milli...   \n18  t3_2rd7mg  America is a better place because of the milli...   \n19  t3_2rcsdh  Humans are going to die out because of an econ...   \n\n                                      title_sentences  \\\n0              [anything that is manmade is natural.]   \n1                       [essential oils are bullshit]   \n2   [i think the paris shooting makes a good case ...   \n3   [explaining causation is not blaming the victi...   \n4   [explaining causation is not blaming the victi...   \n5   [philosophy has no tangible value as an academ...   \n6   [philosophy has no tangible value as an academ...   \n7          [freedom of speech is being taken too far]   \n8   [eugenics isnt all that bad..., and we dont ev...   \n9   [eugenics isnt all that bad..., and we dont ev...   \n10  [eugenics isnt all that bad..., and we dont ev...   \n11  [irony aside most people that post in are uned...   \n12  [driving a car is insanely risky and probably ...   \n13  [driving a car is insanely risky and probably ...   \n14  [assuming there is no afterlife then life is u...   \n15  [ets sar firefighters police etc. should recei...   \n16  [i believe you have three choices once you dis...   \n17  [america is a better place because of the mill...   \n18  [america is a better place because of the mill...   \n19  [humans are going to die out because of an eco...   \n\n                                          title_lemma  \\\n0       [anything, that, be, manmade, be, natural, .]   \n1                      [essential, oil, be, bullshit]   \n2   [i, think, the, paris, shooting, make, a, good...   \n3   [explain, causation, be, not, blame, the, vict...   \n4   [explain, causation, be, not, blame, the, vict...   \n5   [philosophy, have, no, tangible, value, as, an...   \n6   [philosophy, have, no, tangible, value, as, an...   \n7       [freedom, of, speech, be, be, take, too, far]   \n8   [eugenics, be, not, all, that, bad, ..., and, ...   \n9   [eugenics, be, not, all, that, bad, ..., and, ...   \n10  [eugenics, be, not, all, that, bad, ..., and, ...   \n11  [irony, aside, most, people, that, post, in, b...   \n12  [drive, a, car, be, insanely, risky, and, prob...   \n13  [drive, a, car, be, insanely, risky, and, prob...   \n14  [assume, there, be, no, afterlife, then, life,...   \n15  [ets, sar, firefighter, police, etc, ., should...   \n16  [i, believe, you, have, three, choice, once, y...   \n17  [america, be, a, well, place, because, of, the...   \n18  [america, be, a, well, place, because, of, the...   \n19  [human, be, go, to, die, out, because, of, an,...   \n\n                  key_phrases_titles_n1  \\\n0                    [natural, manmade]   \n1           [oils, essential, bullshit]   \n2                [shooting, paris, gun]   \n3          [causation, blaming, victim]   \n4          [causation, blaming, victim]   \n5      [philosophy, academic, tangible]   \n6      [philosophy, academic, tangible]   \n7                [freedom, speech, far]   \n8                 [eugenics, kill, bad]   \n9                 [eugenics, kill, bad]   \n10                [eugenics, kill, bad]   \n11           [irony, uneducated, point]   \n12          [driving, dangerous, risky]   \n13          [driving, dangerous, risky]   \n14  [afterlife, meaningless, pointless]   \n15        [firefighters, military, sar]   \n16             [meat, choices, animals]   \n17          [abortions, america, place]   \n18          [abortions, america, place]   \n19            [collapse, economic, die]   \n\n                                key_phrases_titles_n3  \\\n0                 [manmade natural, natural, manmade]   \n1   [essential oils bullshit, oils bullshit, essen...   \n2   [culture responsible gun, responsible gun owne...   \n3   [causation blaming victim, explaining causatio...   \n4   [causation blaming victim, explaining causatio...   \n5   [philosophy tangible value, philosophy tangibl...   \n6   [philosophy tangible value, philosophy tangibl...   \n7   [freedom speech taken, freedom speech, speech ...   \n8        [eugenics isnt bad, eugenics isnt, eugenics]   \n9        [eugenics isnt bad, eugenics isnt, eugenics]   \n10       [eugenics isnt bad, eugenics isnt, eugenics]   \n11  [people post uneducated, post uneducated, iron...   \n12  [car insanely risky, driving car insanely, ris...   \n13  [car insanely risky, driving car insanely, ris...   \n14  [life ultimately meaningless, afterlife life u...   \n15  [military discounts, receive military discount...   \n16  [endure meat industry, animals endure meat, en...   \n17  [place million abortions, america better place...   \n18  [place million abortions, america better place...   \n19  [die economic collapse, economic collapse, hum...   \n\n                                                 args  \\\n0   I cant remember the topic that spurred this di...   \n1   y wife has recently gotten deeply involvedobse...   \n2   Thinking about todays news BB Wikipedia I thin...   \n3   Ive been thinking about this issue for a while...   \n4   Ive been thinking about this issue for a while...   \n5   As an independent form of study philosophy doe...   \n6   As an independent form of study philosophy doe...   \n7   In the last few weeks weve had two huge events...   \n8   Okay Im talking about making the human race sm...   \n9   Okay Im talking about making the human race sm...   \n10  Okay Im talking about making the human race sm...   \n11  There are some instances yes where controversi...   \n12  I find it difficult to understand how so many ...   \n13  I find it difficult to understand how so many ...   \n14  Note Please assume that there is no afterlife ...   \n15  For those of you who dont know its common at l...   \n16  The options are as follows . You dont agree wi...   \n17  There have been million abortions in the US si...   \n18  There have been million abortions in the US si...   \n19  Bill Gade presents the argument better than I ...   \n\n                                       args_sentences  \\\n0   [i cant remember the topic that spurred this d...   \n1   [y wife has recently gotten deeply involvedobs...   \n2   [thinking about todays news bb wikipedia i thi...   \n3   [ive been thinking about this issue for a whil...   \n4   [ive been thinking about this issue for a whil...   \n5   [as an independent form of study philosophy do...   \n6   [as an independent form of study philosophy do...   \n7   [in the last few weeks weve had two huge event...   \n8   [okay im talking about making the human race s...   \n9   [okay im talking about making the human race s...   \n10  [okay im talking about making the human race s...   \n11  [there are some instances yes where controvers...   \n12  [i find it difficult to understand how so many...   \n13  [i find it difficult to understand how so many...   \n14  [note please assume that there is no afterlife...   \n15  [for those of you who dont know its common at ...   \n16  [the options are as follows ., you dont agree ...   \n17  [there have been million abortions in the us s...   \n18  [there have been million abortions in the us s...   \n19  [bill gade presents the argument better than i...   \n\n                                           args_lemma  \\\n0   [i, can, not, remember, the, topic, that, spur...   \n1   [y, wife, have, recently, get, deeply, involve...   \n2   [think, about, today, news, bb, wikipedia, i, ...   \n3   [i, ve, be, think, about, this, issue, for, a,...   \n4   [i, ve, be, think, about, this, issue, for, a,...   \n5   [as, an, independent, form, of, study, philoso...   \n6   [as, an, independent, form, of, study, philoso...   \n7   [in, the, last, few, week, we, ve, have, two, ...   \n8   [okay, i, m, talk, about, make, the, human, ra...   \n9   [okay, i, m, talk, about, make, the, human, ra...   \n10  [okay, i, m, talk, about, make, the, human, ra...   \n11  [there, be, some, instance, yes, where, contro...   \n12  [i, find, it, difficult, to, understand, how, ...   \n13  [i, find, it, difficult, to, understand, how, ...   \n14  [note, please, assume, that, there, be, no, af...   \n15  [for, those, of, you, who, do, not, know, its,...   \n16  [the, option, be, as, follow, ., you, do, not,...   \n17  [there, have, be, million, abortion, in, the, ...   \n18  [there, have, be, million, abortion, in, the, ...   \n19  [bill, gade, present, the, argument, well, tha...   \n\n                             key_phrases_n1  \\\n0              [unnatural, natural, nature]   \n1                    [oils, fda, debunking]   \n2           [xenophobic, nationalists, gun]   \n3              [blaming, victim, causation]   \n4              [blaming, victim, causation]   \n5   [philosophy, philosophical, worthwhile]   \n6   [philosophy, philosophical, worthwhile]   \n7              [freedom, speech, offensive]   \n8                   [iq, iqs, intelligence]   \n9                   [iq, iqs, intelligence]   \n10                  [iq, iqs, intelligence]   \n11         [controversial, atheism, debate]   \n12          [driving, accidents, dangerous]   \n13          [driving, accidents, dangerous]   \n14    [afterlife, meaningless, nothingness]   \n15          [veterans, discounts, soldiers]   \n16           [options, animals, supporting]   \n17        [abortions, abortion, population]   \n18        [abortions, abortion, population]   \n19         [agriculture, economy, economic]   \n\n                         key_phrases_n3  \\\n0                    [natural, manmade]   \n1           [oils, essential, bullshit]   \n2                [shooting, paris, gun]   \n3          [causation, blaming, victim]   \n4          [causation, blaming, victim]   \n5      [philosophy, academic, tangible]   \n6      [philosophy, academic, tangible]   \n7                [freedom, speech, far]   \n8                 [eugenics, kill, bad]   \n9                 [eugenics, kill, bad]   \n10                [eugenics, kill, bad]   \n11           [irony, uneducated, point]   \n12          [driving, dangerous, risky]   \n13          [driving, dangerous, risky]   \n14  [afterlife, meaningless, pointless]   \n15        [firefighters, military, sar]   \n16             [meat, choices, animals]   \n17          [abortions, america, place]   \n18          [abortions, america, place]   \n19            [collapse, economic, die]   \n\n                                             counters  \\\n0   Look at the definition you provided if we remo...   \n1   This answer in raskscience does a pretty good ...   \n2   I guess I look at it this way there have absol...   \n3   I would say that the difficulty here is in ass...   \n4   I think youre correct for the most part but st...   \n5   Two answers. rigor and it saves us from reinve...   \n6   Let me take a crack at this as someone with a ...   \n7   Think of something you do every day that you c...   \n8   Every time a proposal like this comes up I am ...   \n9   Firstly IQ is not considered to be a good or a...   \n10  It looks to me like youve made so many excepti...   \n11  Say youre right and most of the people who pos...   \n12  There is a way to measure risk called a microm...   \n13  ortality for drivers in the US is roughly per ...   \n14  I have contemplated this since I was a young t...   \n15  I challenge the idea that these are to thank t...   \n16  I think restricting this concept to the meat i...   \n17  The only way your argument holds is if an extr...   \n18  If the abortions were born it would have virtu...   \n19  I watched the video and I understand it. Bill ...   \n\n                                       counters_lemma  \\\n0   [look, at, the, definition, you, provide, if, ...   \n1   [this, answer, in, raskscience, do, a, pretty,...   \n2   [i, guess, i, look, at, it, this, way, there, ...   \n3   [i, would, say, that, the, difficulty, here, b...   \n4   [i, think, you, re, correct, for, the, most, p...   \n5   [two, answer, ., rigor, and, it, save, we, fro...   \n6   [let, i, take, a, crack, at, this, as, someone...   \n7   [think, of, something, you, do, every, day, th...   \n8   [every, time, a, proposal, like, this, come, u...   \n9   [firstly, iq, be, not, consider, to, be, a, go...   \n10  [it, look, to, i, like, you, ve, make, so, man...   \n11  [say, you, re, right, and, most, of, the, peop...   \n12  [there, be, a, way, to, measure, risk, call, a...   \n13  [ortality, for, driver, in, the, us, be, rough...   \n14  [i, have, contemplate, this, since, i, be, a, ...   \n15  [i, challenge, the, idea, that, these, be, to,...   \n16  [i, think, restrict, this, concept, to, the, m...   \n17  [the, only, way, your, argument, hold, be, if,...   \n18  [if, the, abortion, be, bear, it, would, have,...   \n19  [i, watch, the, video, and, i, understand, it,...   \n\n                                   counters_sentences  \n0   [look at the definition you provided if we rem...  \n1   [this answer in raskscience does a pretty good...  \n2   [i guess i look at it this way there have abso...  \n3   [i would say that the difficulty here is in as...  \n4   [i think youre correct for the most part but s...  \n5   [two answers., rigor and it saves us from rein...  \n6   [let me take a crack at this as someone with a...  \n7   [think of something you do every day that you ...  \n8   [every time a proposal like this comes up i am...  \n9   [firstly iq is not considered to be a good or ...  \n10  [it looks to me like youve made so many except...  \n11  [say youre right and most of the people who po...  \n12  [there is a way to measure risk called a micro...  \n13  [ortality for drivers in the us is roughly per...  \n14  [i have contemplated this since i was a young ...  \n15  [i challenge the idea that these are to thank ...  \n16  [i think restricting this concept to the meat ...  \n17  [the only way your argument holds is if an ext...  \n18  [if the abortions were born it would have virt...  \n19  [i watched the video and i understand it., bil...  ",
      "text/html": "<div>\n<style scoped>\n    .dataframe tbody tr th:only-of-type {\n        vertical-align: middle;\n    }\n\n    .dataframe tbody tr th {\n        vertical-align: top;\n    }\n\n    .dataframe thead th {\n        text-align: right;\n    }\n</style>\n<table border=\"1\" class=\"dataframe\">\n  <thead>\n    <tr style=\"text-align: right;\">\n      <th></th>\n      <th>id</th>\n      <th>title</th>\n      <th>title_sentences</th>\n      <th>title_lemma</th>\n      <th>key_phrases_titles_n1</th>\n      <th>key_phrases_titles_n3</th>\n      <th>args</th>\n      <th>args_sentences</th>\n      <th>args_lemma</th>\n      <th>key_phrases_n1</th>\n      <th>key_phrases_n3</th>\n      <th>counters</th>\n      <th>counters_lemma</th>\n      <th>counters_sentences</th>\n    </tr>\n  </thead>\n  <tbody>\n    <tr>\n      <th>0</th>\n      <td>t3_2ro9ux</td>\n      <td>Anything that is manmade is natural.</td>\n      <td>[anything that is manmade is natural.]</td>\n      <td>[anything, that, be, manmade, be, natural, .]</td>\n      <td>[natural, manmade]</td>\n      <td>[manmade natural, natural, manmade]</td>\n      <td>I cant remember the topic that spurred this di...</td>\n      <td>[i cant remember the topic that spurred this d...</td>\n      <td>[i, can, not, remember, the, topic, that, spur...</td>\n      <td>[unnatural, natural, nature]</td>\n      <td>[natural, manmade]</td>\n      <td>Look at the definition you provided if we remo...</td>\n      <td>[look, at, the, definition, you, provide, if, ...</td>\n      <td>[look at the definition you provided if we rem...</td>\n    </tr>\n    <tr>\n      <th>1</th>\n      <td>t3_2ro0ti</td>\n      <td>Essential Oils are bullshit</td>\n      <td>[essential oils are bullshit]</td>\n      <td>[essential, oil, be, bullshit]</td>\n      <td>[oils, essential, bullshit]</td>\n      <td>[essential oils bullshit, oils bullshit, essen...</td>\n      <td>y wife has recently gotten deeply involvedobse...</td>\n      <td>[y wife has recently gotten deeply involvedobs...</td>\n      <td>[y, wife, have, recently, get, deeply, involve...</td>\n      <td>[oils, fda, debunking]</td>\n      <td>[oils, essential, bullshit]</td>\n      <td>This answer in raskscience does a pretty good ...</td>\n      <td>[this, answer, in, raskscience, do, a, pretty,...</td>\n      <td>[this answer in raskscience does a pretty good...</td>\n    </tr>\n    <tr>\n      <th>2</th>\n      <td>t3_2rnr30</td>\n      <td>I think the Paris shooting makes a good case f...</td>\n      <td>[i think the paris shooting makes a good case ...</td>\n      <td>[i, think, the, paris, shooting, make, a, good...</td>\n      <td>[shooting, paris, gun]</td>\n      <td>[culture responsible gun, responsible gun owne...</td>\n      <td>Thinking about todays news BB Wikipedia I thin...</td>\n      <td>[thinking about todays news bb wikipedia i thi...</td>\n      <td>[think, about, today, news, bb, wikipedia, i, ...</td>\n      <td>[xenophobic, nationalists, gun]</td>\n      <td>[shooting, paris, gun]</td>\n      <td>I guess I look at it this way there have absol...</td>\n      <td>[i, guess, i, look, at, it, this, way, there, ...</td>\n      <td>[i guess i look at it this way there have abso...</td>\n    </tr>\n    <tr>\n      <th>3</th>\n      <td>t3_2rnfn0</td>\n      <td>Explaining causation is not blaming the victim...</td>\n      <td>[explaining causation is not blaming the victi...</td>\n      <td>[explain, causation, be, not, blame, the, vict...</td>\n      <td>[causation, blaming, victim]</td>\n      <td>[causation blaming victim, explaining causatio...</td>\n      <td>Ive been thinking about this issue for a while...</td>\n      <td>[ive been thinking about this issue for a whil...</td>\n      <td>[i, ve, be, think, about, this, issue, for, a,...</td>\n      <td>[blaming, victim, causation]</td>\n      <td>[causation, blaming, victim]</td>\n      <td>I would say that the difficulty here is in ass...</td>\n      <td>[i, would, say, that, the, difficulty, here, b...</td>\n      <td>[i would say that the difficulty here is in as...</td>\n    </tr>\n    <tr>\n      <th>4</th>\n      <td>t3_2rnfn0</td>\n      <td>Explaining causation is not blaming the victim...</td>\n      <td>[explaining causation is not blaming the victi...</td>\n      <td>[explain, causation, be, not, blame, the, vict...</td>\n      <td>[causation, blaming, victim]</td>\n      <td>[causation blaming victim, explaining causatio...</td>\n      <td>Ive been thinking about this issue for a while...</td>\n      <td>[ive been thinking about this issue for a whil...</td>\n      <td>[i, ve, be, think, about, this, issue, for, a,...</td>\n      <td>[blaming, victim, causation]</td>\n      <td>[causation, blaming, victim]</td>\n      <td>I think youre correct for the most part but st...</td>\n      <td>[i, think, you, re, correct, for, the, most, p...</td>\n      <td>[i think youre correct for the most part but s...</td>\n    </tr>\n    <tr>\n      <th>5</th>\n      <td>t3_2rmy6e</td>\n      <td>Philosophy has no tangible value as an academi...</td>\n      <td>[philosophy has no tangible value as an academ...</td>\n      <td>[philosophy, have, no, tangible, value, as, an...</td>\n      <td>[philosophy, academic, tangible]</td>\n      <td>[philosophy tangible value, philosophy tangibl...</td>\n      <td>As an independent form of study philosophy doe...</td>\n      <td>[as an independent form of study philosophy do...</td>\n      <td>[as, an, independent, form, of, study, philoso...</td>\n      <td>[philosophy, philosophical, worthwhile]</td>\n      <td>[philosophy, academic, tangible]</td>\n      <td>Two answers. rigor and it saves us from reinve...</td>\n      <td>[two, answer, ., rigor, and, it, save, we, fro...</td>\n      <td>[two answers., rigor and it saves us from rein...</td>\n    </tr>\n    <tr>\n      <th>6</th>\n      <td>t3_2rmy6e</td>\n      <td>Philosophy has no tangible value as an academi...</td>\n      <td>[philosophy has no tangible value as an academ...</td>\n      <td>[philosophy, have, no, tangible, value, as, an...</td>\n      <td>[philosophy, academic, tangible]</td>\n      <td>[philosophy tangible value, philosophy tangibl...</td>\n      <td>As an independent form of study philosophy doe...</td>\n      <td>[as an independent form of study philosophy do...</td>\n      <td>[as, an, independent, form, of, study, philoso...</td>\n      <td>[philosophy, philosophical, worthwhile]</td>\n      <td>[philosophy, academic, tangible]</td>\n      <td>Let me take a crack at this as someone with a ...</td>\n      <td>[let, i, take, a, crack, at, this, as, someone...</td>\n      <td>[let me take a crack at this as someone with a...</td>\n    </tr>\n    <tr>\n      <th>7</th>\n      <td>t3_2rmwcd</td>\n      <td>Freedom of speech is being taken too far</td>\n      <td>[freedom of speech is being taken too far]</td>\n      <td>[freedom, of, speech, be, be, take, too, far]</td>\n      <td>[freedom, speech, far]</td>\n      <td>[freedom speech taken, freedom speech, speech ...</td>\n      <td>In the last few weeks weve had two huge events...</td>\n      <td>[in the last few weeks weve had two huge event...</td>\n      <td>[in, the, last, few, week, we, ve, have, two, ...</td>\n      <td>[freedom, speech, offensive]</td>\n      <td>[freedom, speech, far]</td>\n      <td>Think of something you do every day that you c...</td>\n      <td>[think, of, something, you, do, every, day, th...</td>\n      <td>[think of something you do every day that you ...</td>\n    </tr>\n    <tr>\n      <th>8</th>\n      <td>t3_2rkzen</td>\n      <td>Eugenics isnt all that bad... And we dont even...</td>\n      <td>[eugenics isnt all that bad..., and we dont ev...</td>\n      <td>[eugenics, be, not, all, that, bad, ..., and, ...</td>\n      <td>[eugenics, kill, bad]</td>\n      <td>[eugenics isnt bad, eugenics isnt, eugenics]</td>\n      <td>Okay Im talking about making the human race sm...</td>\n      <td>[okay im talking about making the human race s...</td>\n      <td>[okay, i, m, talk, about, make, the, human, ra...</td>\n      <td>[iq, iqs, intelligence]</td>\n      <td>[eugenics, kill, bad]</td>\n      <td>Every time a proposal like this comes up I am ...</td>\n      <td>[every, time, a, proposal, like, this, come, u...</td>\n      <td>[every time a proposal like this comes up i am...</td>\n    </tr>\n    <tr>\n      <th>9</th>\n      <td>t3_2rkzen</td>\n      <td>Eugenics isnt all that bad... And we dont even...</td>\n      <td>[eugenics isnt all that bad..., and we dont ev...</td>\n      <td>[eugenics, be, not, all, that, bad, ..., and, ...</td>\n      <td>[eugenics, kill, bad]</td>\n      <td>[eugenics isnt bad, eugenics isnt, eugenics]</td>\n      <td>Okay Im talking about making the human race sm...</td>\n      <td>[okay im talking about making the human race s...</td>\n      <td>[okay, i, m, talk, about, make, the, human, ra...</td>\n      <td>[iq, iqs, intelligence]</td>\n      <td>[eugenics, kill, bad]</td>\n      <td>Firstly IQ is not considered to be a good or a...</td>\n      <td>[firstly, iq, be, not, consider, to, be, a, go...</td>\n      <td>[firstly iq is not considered to be a good or ...</td>\n    </tr>\n    <tr>\n      <th>10</th>\n      <td>t3_2rkzen</td>\n      <td>Eugenics isnt all that bad... And we dont even...</td>\n      <td>[eugenics isnt all that bad..., and we dont ev...</td>\n      <td>[eugenics, be, not, all, that, bad, ..., and, ...</td>\n      <td>[eugenics, kill, bad]</td>\n      <td>[eugenics isnt bad, eugenics isnt, eugenics]</td>\n      <td>Okay Im talking about making the human race sm...</td>\n      <td>[okay im talking about making the human race s...</td>\n      <td>[okay, i, m, talk, about, make, the, human, ra...</td>\n      <td>[iq, iqs, intelligence]</td>\n      <td>[eugenics, kill, bad]</td>\n      <td>It looks to me like youve made so many excepti...</td>\n      <td>[it, look, to, i, like, you, ve, make, so, man...</td>\n      <td>[it looks to me like youve made so many except...</td>\n    </tr>\n    <tr>\n      <th>11</th>\n      <td>t3_2rkjr3</td>\n      <td>Irony aside most people that post in are unedu...</td>\n      <td>[irony aside most people that post in are uned...</td>\n      <td>[irony, aside, most, people, that, post, in, b...</td>\n      <td>[irony, uneducated, point]</td>\n      <td>[people post uneducated, post uneducated, iron...</td>\n      <td>There are some instances yes where controversi...</td>\n      <td>[there are some instances yes where controvers...</td>\n      <td>[there, be, some, instance, yes, where, contro...</td>\n      <td>[controversial, atheism, debate]</td>\n      <td>[irony, uneducated, point]</td>\n      <td>Say youre right and most of the people who pos...</td>\n      <td>[say, you, re, right, and, most, of, the, peop...</td>\n      <td>[say youre right and most of the people who po...</td>\n    </tr>\n    <tr>\n      <th>12</th>\n      <td>t3_2rk7my</td>\n      <td>Driving a car is insanely risky and probably t...</td>\n      <td>[driving a car is insanely risky and probably ...</td>\n      <td>[drive, a, car, be, insanely, risky, and, prob...</td>\n      <td>[driving, dangerous, risky]</td>\n      <td>[car insanely risky, driving car insanely, ris...</td>\n      <td>I find it difficult to understand how so many ...</td>\n      <td>[i find it difficult to understand how so many...</td>\n      <td>[i, find, it, difficult, to, understand, how, ...</td>\n      <td>[driving, accidents, dangerous]</td>\n      <td>[driving, dangerous, risky]</td>\n      <td>There is a way to measure risk called a microm...</td>\n      <td>[there, be, a, way, to, measure, risk, call, a...</td>\n      <td>[there is a way to measure risk called a micro...</td>\n    </tr>\n    <tr>\n      <th>13</th>\n      <td>t3_2rk7my</td>\n      <td>Driving a car is insanely risky and probably t...</td>\n      <td>[driving a car is insanely risky and probably ...</td>\n      <td>[drive, a, car, be, insanely, risky, and, prob...</td>\n      <td>[driving, dangerous, risky]</td>\n      <td>[car insanely risky, driving car insanely, ris...</td>\n      <td>I find it difficult to understand how so many ...</td>\n      <td>[i find it difficult to understand how so many...</td>\n      <td>[i, find, it, difficult, to, understand, how, ...</td>\n      <td>[driving, accidents, dangerous]</td>\n      <td>[driving, dangerous, risky]</td>\n      <td>ortality for drivers in the US is roughly per ...</td>\n      <td>[ortality, for, driver, in, the, us, be, rough...</td>\n      <td>[ortality for drivers in the us is roughly per...</td>\n    </tr>\n    <tr>\n      <th>14</th>\n      <td>t3_2rgs7o</td>\n      <td>Assuming there is no afterlife then life is ul...</td>\n      <td>[assuming there is no afterlife then life is u...</td>\n      <td>[assume, there, be, no, afterlife, then, life,...</td>\n      <td>[afterlife, meaningless, pointless]</td>\n      <td>[life ultimately meaningless, afterlife life u...</td>\n      <td>Note Please assume that there is no afterlife ...</td>\n      <td>[note please assume that there is no afterlife...</td>\n      <td>[note, please, assume, that, there, be, no, af...</td>\n      <td>[afterlife, meaningless, nothingness]</td>\n      <td>[afterlife, meaningless, pointless]</td>\n      <td>I have contemplated this since I was a young t...</td>\n      <td>[i, have, contemplate, this, since, i, be, a, ...</td>\n      <td>[i have contemplated this since i was a young ...</td>\n    </tr>\n    <tr>\n      <th>15</th>\n      <td>t3_2rexe3</td>\n      <td>ETs SAR firefighters police etc. should receiv...</td>\n      <td>[ets sar firefighters police etc. should recei...</td>\n      <td>[ets, sar, firefighter, police, etc, ., should...</td>\n      <td>[firefighters, military, sar]</td>\n      <td>[military discounts, receive military discount...</td>\n      <td>For those of you who dont know its common at l...</td>\n      <td>[for those of you who dont know its common at ...</td>\n      <td>[for, those, of, you, who, do, not, know, its,...</td>\n      <td>[veterans, discounts, soldiers]</td>\n      <td>[firefighters, military, sar]</td>\n      <td>I challenge the idea that these are to thank t...</td>\n      <td>[i, challenge, the, idea, that, these, be, to,...</td>\n      <td>[i challenge the idea that these are to thank ...</td>\n    </tr>\n    <tr>\n      <th>16</th>\n      <td>t3_2rekjo</td>\n      <td>I believe you have three choices once you disc...</td>\n      <td>[i believe you have three choices once you dis...</td>\n      <td>[i, believe, you, have, three, choice, once, y...</td>\n      <td>[meat, choices, animals]</td>\n      <td>[endure meat industry, animals endure meat, en...</td>\n      <td>The options are as follows . You dont agree wi...</td>\n      <td>[the options are as follows ., you dont agree ...</td>\n      <td>[the, option, be, as, follow, ., you, do, not,...</td>\n      <td>[options, animals, supporting]</td>\n      <td>[meat, choices, animals]</td>\n      <td>I think restricting this concept to the meat i...</td>\n      <td>[i, think, restrict, this, concept, to, the, m...</td>\n      <td>[i think restricting this concept to the meat ...</td>\n    </tr>\n    <tr>\n      <th>17</th>\n      <td>t3_2rd7mg</td>\n      <td>America is a better place because of the milli...</td>\n      <td>[america is a better place because of the mill...</td>\n      <td>[america, be, a, well, place, because, of, the...</td>\n      <td>[abortions, america, place]</td>\n      <td>[place million abortions, america better place...</td>\n      <td>There have been million abortions in the US si...</td>\n      <td>[there have been million abortions in the us s...</td>\n      <td>[there, have, be, million, abortion, in, the, ...</td>\n      <td>[abortions, abortion, population]</td>\n      <td>[abortions, america, place]</td>\n      <td>The only way your argument holds is if an extr...</td>\n      <td>[the, only, way, your, argument, hold, be, if,...</td>\n      <td>[the only way your argument holds is if an ext...</td>\n    </tr>\n    <tr>\n      <th>18</th>\n      <td>t3_2rd7mg</td>\n      <td>America is a better place because of the milli...</td>\n      <td>[america is a better place because of the mill...</td>\n      <td>[america, be, a, well, place, because, of, the...</td>\n      <td>[abortions, america, place]</td>\n      <td>[place million abortions, america better place...</td>\n      <td>There have been million abortions in the US si...</td>\n      <td>[there have been million abortions in the us s...</td>\n      <td>[there, have, be, million, abortion, in, the, ...</td>\n      <td>[abortions, abortion, population]</td>\n      <td>[abortions, america, place]</td>\n      <td>If the abortions were born it would have virtu...</td>\n      <td>[if, the, abortion, be, bear, it, would, have,...</td>\n      <td>[if the abortions were born it would have virt...</td>\n    </tr>\n    <tr>\n      <th>19</th>\n      <td>t3_2rcsdh</td>\n      <td>Humans are going to die out because of an econ...</td>\n      <td>[humans are going to die out because of an eco...</td>\n      <td>[human, be, go, to, die, out, because, of, an,...</td>\n      <td>[collapse, economic, die]</td>\n      <td>[die economic collapse, economic collapse, hum...</td>\n      <td>Bill Gade presents the argument better than I ...</td>\n      <td>[bill gade presents the argument better than i...</td>\n      <td>[bill, gade, present, the, argument, well, tha...</td>\n      <td>[agriculture, economy, economic]</td>\n      <td>[collapse, economic, die]</td>\n      <td>I watched the video and I understand it. Bill ...</td>\n      <td>[i, watch, the, video, and, i, understand, it,...</td>\n      <td>[i watched the video and i understand it., bil...</td>\n    </tr>\n  </tbody>\n</table>\n</div>"
     },
     "execution_count": 6,
     "metadata": {},
     "output_type": "execute_result"
    }
   ],
   "source": [
    "debate = pd.DataFrame(debate)\n",
    "debate"
   ],
   "metadata": {
    "collapsed": false,
    "pycharm": {
     "name": "#%%\n"
    }
   }
  },
  {
   "cell_type": "code",
   "execution_count": 7,
   "outputs": [
    {
     "data": {
      "text/plain": "          id                                              title  \\\n5  t3_2rmy6e  Philosophy has no tangible value as an academi...   \n6  t3_2rmy6e  Philosophy has no tangible value as an academi...   \n\n                                     title_sentences  \\\n5  [philosophy has no tangible value as an academ...   \n6  [philosophy has no tangible value as an academ...   \n\n                                         title_lemma  \\\n5  [philosophy, have, no, tangible, value, as, an...   \n6  [philosophy, have, no, tangible, value, as, an...   \n\n              key_phrases_titles_n1  \\\n5  [philosophy, academic, tangible]   \n6  [philosophy, academic, tangible]   \n\n                               key_phrases_titles_n3  \\\n5  [philosophy tangible value, philosophy tangibl...   \n6  [philosophy tangible value, philosophy tangibl...   \n\n                                                args  \\\n5  As an independent form of study philosophy doe...   \n6  As an independent form of study philosophy doe...   \n\n                                      args_sentences  \\\n5  [as an independent form of study philosophy do...   \n6  [as an independent form of study philosophy do...   \n\n                                          args_lemma  \\\n5  [as, an, independent, form, of, study, philoso...   \n6  [as, an, independent, form, of, study, philoso...   \n\n                            key_phrases_n1                    key_phrases_n3  \\\n5  [philosophy, philosophical, worthwhile]  [philosophy, academic, tangible]   \n6  [philosophy, philosophical, worthwhile]  [philosophy, academic, tangible]   \n\n                                            counters  \\\n5  Two answers. rigor and it saves us from reinve...   \n6  Let me take a crack at this as someone with a ...   \n\n                                      counters_lemma  \\\n5  [two, answer, ., rigor, and, it, save, we, fro...   \n6  [let, i, take, a, crack, at, this, as, someone...   \n\n                                  counters_sentences  \n5  [two answers., rigor and it saves us from rein...  \n6  [let me take a crack at this as someone with a...  ",
      "text/html": "<div>\n<style scoped>\n    .dataframe tbody tr th:only-of-type {\n        vertical-align: middle;\n    }\n\n    .dataframe tbody tr th {\n        vertical-align: top;\n    }\n\n    .dataframe thead th {\n        text-align: right;\n    }\n</style>\n<table border=\"1\" class=\"dataframe\">\n  <thead>\n    <tr style=\"text-align: right;\">\n      <th></th>\n      <th>id</th>\n      <th>title</th>\n      <th>title_sentences</th>\n      <th>title_lemma</th>\n      <th>key_phrases_titles_n1</th>\n      <th>key_phrases_titles_n3</th>\n      <th>args</th>\n      <th>args_sentences</th>\n      <th>args_lemma</th>\n      <th>key_phrases_n1</th>\n      <th>key_phrases_n3</th>\n      <th>counters</th>\n      <th>counters_lemma</th>\n      <th>counters_sentences</th>\n    </tr>\n  </thead>\n  <tbody>\n    <tr>\n      <th>5</th>\n      <td>t3_2rmy6e</td>\n      <td>Philosophy has no tangible value as an academi...</td>\n      <td>[philosophy has no tangible value as an academ...</td>\n      <td>[philosophy, have, no, tangible, value, as, an...</td>\n      <td>[philosophy, academic, tangible]</td>\n      <td>[philosophy tangible value, philosophy tangibl...</td>\n      <td>As an independent form of study philosophy doe...</td>\n      <td>[as an independent form of study philosophy do...</td>\n      <td>[as, an, independent, form, of, study, philoso...</td>\n      <td>[philosophy, philosophical, worthwhile]</td>\n      <td>[philosophy, academic, tangible]</td>\n      <td>Two answers. rigor and it saves us from reinve...</td>\n      <td>[two, answer, ., rigor, and, it, save, we, fro...</td>\n      <td>[two answers., rigor and it saves us from rein...</td>\n    </tr>\n    <tr>\n      <th>6</th>\n      <td>t3_2rmy6e</td>\n      <td>Philosophy has no tangible value as an academi...</td>\n      <td>[philosophy has no tangible value as an academ...</td>\n      <td>[philosophy, have, no, tangible, value, as, an...</td>\n      <td>[philosophy, academic, tangible]</td>\n      <td>[philosophy tangible value, philosophy tangibl...</td>\n      <td>As an independent form of study philosophy doe...</td>\n      <td>[as an independent form of study philosophy do...</td>\n      <td>[as, an, independent, form, of, study, philoso...</td>\n      <td>[philosophy, philosophical, worthwhile]</td>\n      <td>[philosophy, academic, tangible]</td>\n      <td>Let me take a crack at this as someone with a ...</td>\n      <td>[let, i, take, a, crack, at, this, as, someone...</td>\n      <td>[let me take a crack at this as someone with a...</td>\n    </tr>\n  </tbody>\n</table>\n</div>"
     },
     "execution_count": 7,
     "metadata": {},
     "output_type": "execute_result"
    }
   ],
   "source": [
    "# Assert Keyword Search: id Lookup\n",
    "keyword = \"t3_2rmy6e\"\n",
    "debate[debate['id'].str.contains(keyword,case=False)]"
   ],
   "metadata": {
    "collapsed": false,
    "pycharm": {
     "name": "#%%\n"
    }
   }
  },
  {
   "cell_type": "code",
   "execution_count": 11,
   "outputs": [
    {
     "data": {
      "text/plain": "           id                key_phrases_titles_n1  \\\n0   t3_2ro9ux                   [natural, manmade]   \n1   t3_2ro0ti          [oils, essential, bullshit]   \n2   t3_2rnr30               [shooting, paris, gun]   \n3   t3_2rnfn0         [causation, blaming, victim]   \n4   t3_2rnfn0         [causation, blaming, victim]   \n5   t3_2rmy6e     [philosophy, academic, tangible]   \n6   t3_2rmy6e     [philosophy, academic, tangible]   \n7   t3_2rmwcd               [freedom, speech, far]   \n8   t3_2rkzen                [eugenics, kill, bad]   \n9   t3_2rkzen                [eugenics, kill, bad]   \n10  t3_2rkzen                [eugenics, kill, bad]   \n11  t3_2rkjr3           [irony, uneducated, point]   \n12  t3_2rk7my          [driving, dangerous, risky]   \n13  t3_2rk7my          [driving, dangerous, risky]   \n14  t3_2rgs7o  [afterlife, meaningless, pointless]   \n15  t3_2rexe3        [firefighters, military, sar]   \n16  t3_2rekjo             [meat, choices, animals]   \n17  t3_2rd7mg          [abortions, america, place]   \n18  t3_2rd7mg          [abortions, america, place]   \n19  t3_2rcsdh            [collapse, economic, die]   \n\n                                key_phrases_titles_n3  \\\n0                 [manmade natural, natural, manmade]   \n1   [essential oils bullshit, oils bullshit, essen...   \n2   [culture responsible gun, responsible gun owne...   \n3   [causation blaming victim, explaining causatio...   \n4   [causation blaming victim, explaining causatio...   \n5   [philosophy tangible value, philosophy tangibl...   \n6   [philosophy tangible value, philosophy tangibl...   \n7   [freedom speech taken, freedom speech, speech ...   \n8        [eugenics isnt bad, eugenics isnt, eugenics]   \n9        [eugenics isnt bad, eugenics isnt, eugenics]   \n10       [eugenics isnt bad, eugenics isnt, eugenics]   \n11  [people post uneducated, post uneducated, iron...   \n12  [car insanely risky, driving car insanely, ris...   \n13  [car insanely risky, driving car insanely, ris...   \n14  [life ultimately meaningless, afterlife life u...   \n15  [military discounts, receive military discount...   \n16  [endure meat industry, animals endure meat, en...   \n17  [place million abortions, america better place...   \n18  [place million abortions, america better place...   \n19  [die economic collapse, economic collapse, hum...   \n\n                                                title  \\\n0                Anything that is manmade is natural.   \n1                         Essential Oils are bullshit   \n2   I think the Paris shooting makes a good case f...   \n3   Explaining causation is not blaming the victim...   \n4   Explaining causation is not blaming the victim...   \n5   Philosophy has no tangible value as an academi...   \n6   Philosophy has no tangible value as an academi...   \n7            Freedom of speech is being taken too far   \n8   Eugenics isnt all that bad... And we dont even...   \n9   Eugenics isnt all that bad... And we dont even...   \n10  Eugenics isnt all that bad... And we dont even...   \n11  Irony aside most people that post in are unedu...   \n12  Driving a car is insanely risky and probably t...   \n13  Driving a car is insanely risky and probably t...   \n14  Assuming there is no afterlife then life is ul...   \n15  ETs SAR firefighters police etc. should receiv...   \n16  I believe you have three choices once you disc...   \n17  America is a better place because of the milli...   \n18  America is a better place because of the milli...   \n19  Humans are going to die out because of an econ...   \n\n                                                 args  \\\n0   I cant remember the topic that spurred this di...   \n1   y wife has recently gotten deeply involvedobse...   \n2   Thinking about todays news BB Wikipedia I thin...   \n3   Ive been thinking about this issue for a while...   \n4   Ive been thinking about this issue for a while...   \n5   As an independent form of study philosophy doe...   \n6   As an independent form of study philosophy doe...   \n7   In the last few weeks weve had two huge events...   \n8   Okay Im talking about making the human race sm...   \n9   Okay Im talking about making the human race sm...   \n10  Okay Im talking about making the human race sm...   \n11  There are some instances yes where controversi...   \n12  I find it difficult to understand how so many ...   \n13  I find it difficult to understand how so many ...   \n14  Note Please assume that there is no afterlife ...   \n15  For those of you who dont know its common at l...   \n16  The options are as follows . You dont agree wi...   \n17  There have been million abortions in the US si...   \n18  There have been million abortions in the US si...   \n19  Bill Gade presents the argument better than I ...   \n\n                                           args_lemma  \\\n0   [i, can, not, remember, the, topic, that, spur...   \n1   [y, wife, have, recently, get, deeply, involve...   \n2   [think, about, today, news, bb, wikipedia, i, ...   \n3   [i, ve, be, think, about, this, issue, for, a,...   \n4   [i, ve, be, think, about, this, issue, for, a,...   \n5   [as, an, independent, form, of, study, philoso...   \n6   [as, an, independent, form, of, study, philoso...   \n7   [in, the, last, few, week, we, ve, have, two, ...   \n8   [okay, i, m, talk, about, make, the, human, ra...   \n9   [okay, i, m, talk, about, make, the, human, ra...   \n10  [okay, i, m, talk, about, make, the, human, ra...   \n11  [there, be, some, instance, yes, where, contro...   \n12  [i, find, it, difficult, to, understand, how, ...   \n13  [i, find, it, difficult, to, understand, how, ...   \n14  [note, please, assume, that, there, be, no, af...   \n15  [for, those, of, you, who, do, not, know, its,...   \n16  [the, option, be, as, follow, ., you, do, not,...   \n17  [there, have, be, million, abortion, in, the, ...   \n18  [there, have, be, million, abortion, in, the, ...   \n19  [bill, gade, present, the, argument, well, tha...   \n\n                             key_phrases_n1  \\\n0              [unnatural, natural, nature]   \n1                    [oils, fda, debunking]   \n2           [xenophobic, nationalists, gun]   \n3              [blaming, victim, causation]   \n4              [blaming, victim, causation]   \n5   [philosophy, philosophical, worthwhile]   \n6   [philosophy, philosophical, worthwhile]   \n7              [freedom, speech, offensive]   \n8                   [iq, iqs, intelligence]   \n9                   [iq, iqs, intelligence]   \n10                  [iq, iqs, intelligence]   \n11         [controversial, atheism, debate]   \n12          [driving, accidents, dangerous]   \n13          [driving, accidents, dangerous]   \n14    [afterlife, meaningless, nothingness]   \n15          [veterans, discounts, soldiers]   \n16           [options, animals, supporting]   \n17        [abortions, abortion, population]   \n18        [abortions, abortion, population]   \n19         [agriculture, economy, economic]   \n\n                         key_phrases_n3  \\\n0                    [natural, manmade]   \n1           [oils, essential, bullshit]   \n2                [shooting, paris, gun]   \n3          [causation, blaming, victim]   \n4          [causation, blaming, victim]   \n5      [philosophy, academic, tangible]   \n6      [philosophy, academic, tangible]   \n7                [freedom, speech, far]   \n8                 [eugenics, kill, bad]   \n9                 [eugenics, kill, bad]   \n10                [eugenics, kill, bad]   \n11           [irony, uneducated, point]   \n12          [driving, dangerous, risky]   \n13          [driving, dangerous, risky]   \n14  [afterlife, meaningless, pointless]   \n15        [firefighters, military, sar]   \n16             [meat, choices, animals]   \n17          [abortions, america, place]   \n18          [abortions, america, place]   \n19            [collapse, economic, die]   \n\n                                       args_sentences  \n0   [i cant remember the topic that spurred this d...  \n1   [y wife has recently gotten deeply involvedobs...  \n2   [thinking about todays news bb wikipedia i thi...  \n3   [ive been thinking about this issue for a whil...  \n4   [ive been thinking about this issue for a whil...  \n5   [as an independent form of study philosophy do...  \n6   [as an independent form of study philosophy do...  \n7   [in the last few weeks weve had two huge event...  \n8   [okay im talking about making the human race s...  \n9   [okay im talking about making the human race s...  \n10  [okay im talking about making the human race s...  \n11  [there are some instances yes where controvers...  \n12  [i find it difficult to understand how so many...  \n13  [i find it difficult to understand how so many...  \n14  [note please assume that there is no afterlife...  \n15  [for those of you who dont know its common at ...  \n16  [the options are as follows ., you dont agree ...  \n17  [there have been million abortions in the us s...  \n18  [there have been million abortions in the us s...  \n19  [bill gade presents the argument better than i...  ",
      "text/html": "<div>\n<style scoped>\n    .dataframe tbody tr th:only-of-type {\n        vertical-align: middle;\n    }\n\n    .dataframe tbody tr th {\n        vertical-align: top;\n    }\n\n    .dataframe thead th {\n        text-align: right;\n    }\n</style>\n<table border=\"1\" class=\"dataframe\">\n  <thead>\n    <tr style=\"text-align: right;\">\n      <th></th>\n      <th>id</th>\n      <th>key_phrases_titles_n1</th>\n      <th>key_phrases_titles_n3</th>\n      <th>title</th>\n      <th>args</th>\n      <th>args_lemma</th>\n      <th>key_phrases_n1</th>\n      <th>key_phrases_n3</th>\n      <th>args_sentences</th>\n    </tr>\n  </thead>\n  <tbody>\n    <tr>\n      <th>0</th>\n      <td>t3_2ro9ux</td>\n      <td>[natural, manmade]</td>\n      <td>[manmade natural, natural, manmade]</td>\n      <td>Anything that is manmade is natural.</td>\n      <td>I cant remember the topic that spurred this di...</td>\n      <td>[i, can, not, remember, the, topic, that, spur...</td>\n      <td>[unnatural, natural, nature]</td>\n      <td>[natural, manmade]</td>\n      <td>[i cant remember the topic that spurred this d...</td>\n    </tr>\n    <tr>\n      <th>1</th>\n      <td>t3_2ro0ti</td>\n      <td>[oils, essential, bullshit]</td>\n      <td>[essential oils bullshit, oils bullshit, essen...</td>\n      <td>Essential Oils are bullshit</td>\n      <td>y wife has recently gotten deeply involvedobse...</td>\n      <td>[y, wife, have, recently, get, deeply, involve...</td>\n      <td>[oils, fda, debunking]</td>\n      <td>[oils, essential, bullshit]</td>\n      <td>[y wife has recently gotten deeply involvedobs...</td>\n    </tr>\n    <tr>\n      <th>2</th>\n      <td>t3_2rnr30</td>\n      <td>[shooting, paris, gun]</td>\n      <td>[culture responsible gun, responsible gun owne...</td>\n      <td>I think the Paris shooting makes a good case f...</td>\n      <td>Thinking about todays news BB Wikipedia I thin...</td>\n      <td>[think, about, today, news, bb, wikipedia, i, ...</td>\n      <td>[xenophobic, nationalists, gun]</td>\n      <td>[shooting, paris, gun]</td>\n      <td>[thinking about todays news bb wikipedia i thi...</td>\n    </tr>\n    <tr>\n      <th>3</th>\n      <td>t3_2rnfn0</td>\n      <td>[causation, blaming, victim]</td>\n      <td>[causation blaming victim, explaining causatio...</td>\n      <td>Explaining causation is not blaming the victim...</td>\n      <td>Ive been thinking about this issue for a while...</td>\n      <td>[i, ve, be, think, about, this, issue, for, a,...</td>\n      <td>[blaming, victim, causation]</td>\n      <td>[causation, blaming, victim]</td>\n      <td>[ive been thinking about this issue for a whil...</td>\n    </tr>\n    <tr>\n      <th>4</th>\n      <td>t3_2rnfn0</td>\n      <td>[causation, blaming, victim]</td>\n      <td>[causation blaming victim, explaining causatio...</td>\n      <td>Explaining causation is not blaming the victim...</td>\n      <td>Ive been thinking about this issue for a while...</td>\n      <td>[i, ve, be, think, about, this, issue, for, a,...</td>\n      <td>[blaming, victim, causation]</td>\n      <td>[causation, blaming, victim]</td>\n      <td>[ive been thinking about this issue for a whil...</td>\n    </tr>\n    <tr>\n      <th>5</th>\n      <td>t3_2rmy6e</td>\n      <td>[philosophy, academic, tangible]</td>\n      <td>[philosophy tangible value, philosophy tangibl...</td>\n      <td>Philosophy has no tangible value as an academi...</td>\n      <td>As an independent form of study philosophy doe...</td>\n      <td>[as, an, independent, form, of, study, philoso...</td>\n      <td>[philosophy, philosophical, worthwhile]</td>\n      <td>[philosophy, academic, tangible]</td>\n      <td>[as an independent form of study philosophy do...</td>\n    </tr>\n    <tr>\n      <th>6</th>\n      <td>t3_2rmy6e</td>\n      <td>[philosophy, academic, tangible]</td>\n      <td>[philosophy tangible value, philosophy tangibl...</td>\n      <td>Philosophy has no tangible value as an academi...</td>\n      <td>As an independent form of study philosophy doe...</td>\n      <td>[as, an, independent, form, of, study, philoso...</td>\n      <td>[philosophy, philosophical, worthwhile]</td>\n      <td>[philosophy, academic, tangible]</td>\n      <td>[as an independent form of study philosophy do...</td>\n    </tr>\n    <tr>\n      <th>7</th>\n      <td>t3_2rmwcd</td>\n      <td>[freedom, speech, far]</td>\n      <td>[freedom speech taken, freedom speech, speech ...</td>\n      <td>Freedom of speech is being taken too far</td>\n      <td>In the last few weeks weve had two huge events...</td>\n      <td>[in, the, last, few, week, we, ve, have, two, ...</td>\n      <td>[freedom, speech, offensive]</td>\n      <td>[freedom, speech, far]</td>\n      <td>[in the last few weeks weve had two huge event...</td>\n    </tr>\n    <tr>\n      <th>8</th>\n      <td>t3_2rkzen</td>\n      <td>[eugenics, kill, bad]</td>\n      <td>[eugenics isnt bad, eugenics isnt, eugenics]</td>\n      <td>Eugenics isnt all that bad... And we dont even...</td>\n      <td>Okay Im talking about making the human race sm...</td>\n      <td>[okay, i, m, talk, about, make, the, human, ra...</td>\n      <td>[iq, iqs, intelligence]</td>\n      <td>[eugenics, kill, bad]</td>\n      <td>[okay im talking about making the human race s...</td>\n    </tr>\n    <tr>\n      <th>9</th>\n      <td>t3_2rkzen</td>\n      <td>[eugenics, kill, bad]</td>\n      <td>[eugenics isnt bad, eugenics isnt, eugenics]</td>\n      <td>Eugenics isnt all that bad... And we dont even...</td>\n      <td>Okay Im talking about making the human race sm...</td>\n      <td>[okay, i, m, talk, about, make, the, human, ra...</td>\n      <td>[iq, iqs, intelligence]</td>\n      <td>[eugenics, kill, bad]</td>\n      <td>[okay im talking about making the human race s...</td>\n    </tr>\n    <tr>\n      <th>10</th>\n      <td>t3_2rkzen</td>\n      <td>[eugenics, kill, bad]</td>\n      <td>[eugenics isnt bad, eugenics isnt, eugenics]</td>\n      <td>Eugenics isnt all that bad... And we dont even...</td>\n      <td>Okay Im talking about making the human race sm...</td>\n      <td>[okay, i, m, talk, about, make, the, human, ra...</td>\n      <td>[iq, iqs, intelligence]</td>\n      <td>[eugenics, kill, bad]</td>\n      <td>[okay im talking about making the human race s...</td>\n    </tr>\n    <tr>\n      <th>11</th>\n      <td>t3_2rkjr3</td>\n      <td>[irony, uneducated, point]</td>\n      <td>[people post uneducated, post uneducated, iron...</td>\n      <td>Irony aside most people that post in are unedu...</td>\n      <td>There are some instances yes where controversi...</td>\n      <td>[there, be, some, instance, yes, where, contro...</td>\n      <td>[controversial, atheism, debate]</td>\n      <td>[irony, uneducated, point]</td>\n      <td>[there are some instances yes where controvers...</td>\n    </tr>\n    <tr>\n      <th>12</th>\n      <td>t3_2rk7my</td>\n      <td>[driving, dangerous, risky]</td>\n      <td>[car insanely risky, driving car insanely, ris...</td>\n      <td>Driving a car is insanely risky and probably t...</td>\n      <td>I find it difficult to understand how so many ...</td>\n      <td>[i, find, it, difficult, to, understand, how, ...</td>\n      <td>[driving, accidents, dangerous]</td>\n      <td>[driving, dangerous, risky]</td>\n      <td>[i find it difficult to understand how so many...</td>\n    </tr>\n    <tr>\n      <th>13</th>\n      <td>t3_2rk7my</td>\n      <td>[driving, dangerous, risky]</td>\n      <td>[car insanely risky, driving car insanely, ris...</td>\n      <td>Driving a car is insanely risky and probably t...</td>\n      <td>I find it difficult to understand how so many ...</td>\n      <td>[i, find, it, difficult, to, understand, how, ...</td>\n      <td>[driving, accidents, dangerous]</td>\n      <td>[driving, dangerous, risky]</td>\n      <td>[i find it difficult to understand how so many...</td>\n    </tr>\n    <tr>\n      <th>14</th>\n      <td>t3_2rgs7o</td>\n      <td>[afterlife, meaningless, pointless]</td>\n      <td>[life ultimately meaningless, afterlife life u...</td>\n      <td>Assuming there is no afterlife then life is ul...</td>\n      <td>Note Please assume that there is no afterlife ...</td>\n      <td>[note, please, assume, that, there, be, no, af...</td>\n      <td>[afterlife, meaningless, nothingness]</td>\n      <td>[afterlife, meaningless, pointless]</td>\n      <td>[note please assume that there is no afterlife...</td>\n    </tr>\n    <tr>\n      <th>15</th>\n      <td>t3_2rexe3</td>\n      <td>[firefighters, military, sar]</td>\n      <td>[military discounts, receive military discount...</td>\n      <td>ETs SAR firefighters police etc. should receiv...</td>\n      <td>For those of you who dont know its common at l...</td>\n      <td>[for, those, of, you, who, do, not, know, its,...</td>\n      <td>[veterans, discounts, soldiers]</td>\n      <td>[firefighters, military, sar]</td>\n      <td>[for those of you who dont know its common at ...</td>\n    </tr>\n    <tr>\n      <th>16</th>\n      <td>t3_2rekjo</td>\n      <td>[meat, choices, animals]</td>\n      <td>[endure meat industry, animals endure meat, en...</td>\n      <td>I believe you have three choices once you disc...</td>\n      <td>The options are as follows . You dont agree wi...</td>\n      <td>[the, option, be, as, follow, ., you, do, not,...</td>\n      <td>[options, animals, supporting]</td>\n      <td>[meat, choices, animals]</td>\n      <td>[the options are as follows ., you dont agree ...</td>\n    </tr>\n    <tr>\n      <th>17</th>\n      <td>t3_2rd7mg</td>\n      <td>[abortions, america, place]</td>\n      <td>[place million abortions, america better place...</td>\n      <td>America is a better place because of the milli...</td>\n      <td>There have been million abortions in the US si...</td>\n      <td>[there, have, be, million, abortion, in, the, ...</td>\n      <td>[abortions, abortion, population]</td>\n      <td>[abortions, america, place]</td>\n      <td>[there have been million abortions in the us s...</td>\n    </tr>\n    <tr>\n      <th>18</th>\n      <td>t3_2rd7mg</td>\n      <td>[abortions, america, place]</td>\n      <td>[place million abortions, america better place...</td>\n      <td>America is a better place because of the milli...</td>\n      <td>There have been million abortions in the US si...</td>\n      <td>[there, have, be, million, abortion, in, the, ...</td>\n      <td>[abortions, abortion, population]</td>\n      <td>[abortions, america, place]</td>\n      <td>[there have been million abortions in the us s...</td>\n    </tr>\n    <tr>\n      <th>19</th>\n      <td>t3_2rcsdh</td>\n      <td>[collapse, economic, die]</td>\n      <td>[die economic collapse, economic collapse, hum...</td>\n      <td>Humans are going to die out because of an econ...</td>\n      <td>Bill Gade presents the argument better than I ...</td>\n      <td>[bill, gade, present, the, argument, well, tha...</td>\n      <td>[agriculture, economy, economic]</td>\n      <td>[collapse, economic, die]</td>\n      <td>[bill gade presents the argument better than i...</td>\n    </tr>\n  </tbody>\n</table>\n</div>"
     },
     "execution_count": 11,
     "metadata": {},
     "output_type": "execute_result"
    }
   ],
   "source": [
    "# Evidence Retrieval\n",
    "# Selected Argument\n",
    "args = debate[[\"id\", \"key_phrases_titles_n1\", \"key_phrases_titles_n3\", \"title\", \"args\", \"args_lemma\", \"key_phrases_n1\", \"key_phrases_n3\", \"args_sentences\"]][0:50]\n",
    "args"
   ],
   "metadata": {
    "collapsed": false,
    "pycharm": {
     "name": "#%%\n"
    }
   }
  },
  {
   "cell_type": "code",
   "execution_count": 9,
   "outputs": [],
   "source": [
    "# TODOs\n",
    "# ====\n",
    "# POS Tagging\n",
    "# OpenIE\n",
    "# Argument Graph\n",
    "# OpenIE AllenNLP\n",
    "# Wikimedia API\n",
    "# Wikipedia Enrichment\n",
    "# Argument Mining: Identify Claim -> Causal Effect -> Premise\n",
    "# Semantic Query, Media Wiki"
   ],
   "metadata": {
    "collapsed": false,
    "pycharm": {
     "name": "#%%\n"
    }
   }
  },
  {
   "cell_type": "code",
   "execution_count": 10,
   "outputs": [
    {
     "ename": "NameError",
     "evalue": "name 'arg' is not defined",
     "output_type": "error",
     "traceback": [
      "\u001B[0;31m---------------------------------------------------------------------------\u001B[0m",
      "\u001B[0;31mNameError\u001B[0m                                 Traceback (most recent call last)",
      "Input \u001B[0;32mIn [10]\u001B[0m, in \u001B[0;36m<cell line: 18>\u001B[0;34m()\u001B[0m\n\u001B[1;32m     16\u001B[0m keys_1 \u001B[38;5;241m=\u001B[39m []\n\u001B[1;32m     17\u001B[0m keys_3 \u001B[38;5;241m=\u001B[39m []\n\u001B[0;32m---> 18\u001B[0m \u001B[38;5;28;01mfor\u001B[39;00m sent \u001B[38;5;129;01min\u001B[39;00m \u001B[43marg\u001B[49m\u001B[38;5;241m.\u001B[39margs:\n\u001B[1;32m     19\u001B[0m     keys_1\u001B[38;5;241m.\u001B[39mappend(key_BERT(sent, n_kp\u001B[38;5;241m=\u001B[39m\u001B[38;5;241m1\u001B[39m))\n\u001B[1;32m     20\u001B[0m     keys_3\u001B[38;5;241m.\u001B[39mappend(key_BERT(sent, n_kp\u001B[38;5;241m=\u001B[39m\u001B[38;5;241m3\u001B[39m))\n",
      "\u001B[0;31mNameError\u001B[0m: name 'arg' is not defined"
     ]
    }
   ],
   "source": [
    "# IMPORTANT: Use pip3 on instals\n",
    "# Consider parsing only NN & V; Follow Hua, Wang\n",
    "\n",
    "from keybert import KeyBERT\n",
    "kb = KeyBERT()\n",
    "kw_model = KeyBERT()\n",
    "\n",
    "def key_BERT(doc, n_gram=2, n_kp=3):\n",
    "    #kp = kb.extract_keywords(doc, keyphrase_ngram_range=(1, 3), stop_words=None, use_mmr=\"True\", diversity=0.2)\n",
    "    kp = kb.extract_keywords(doc, keyphrase_ngram_range=(1, n_kp), stop_words=\"english\", use_maxsum=\"True\", top_n=5)\n",
    "\n",
    "    #kp = kb.extract_keywords(doc, keyphrase_ngram_range=(1, n_gram), stop_words=\"english\")\n",
    "\n",
    "    return [i[0] for i in kp[0:n_kp]]\n",
    "\n",
    "keys_1 = []\n",
    "keys_3 = []\n",
    "for sent in arg.args:\n",
    "    keys_1.append(key_BERT(sent, n_kp=1))\n",
    "    keys_3.append(key_BERT(sent, n_kp=3))"
   ],
   "metadata": {
    "collapsed": false,
    "pycharm": {
     "name": "#%%\n"
    }
   }
  },
  {
   "cell_type": "code",
   "execution_count": 14,
   "outputs": [
    {
     "name": "stdout",
     "output_type": "stream",
     "text": [
      "[['majority']]\n",
      "[['yes controversial', 'titles yesterdays atheism', 'times posts controversial']]\n"
     ]
    }
   ],
   "source": [
    "print(keys_1)\n",
    "print(keys_3)"
   ],
   "metadata": {
    "collapsed": false,
    "pycharm": {
     "name": "#%%\n"
    }
   }
  },
  {
   "cell_type": "code",
   "execution_count": 18,
   "outputs": [
    {
     "data": {
      "text/plain": "['Majority', 'Majority government']"
     },
     "execution_count": 18,
     "metadata": {},
     "output_type": "execute_result"
    }
   ],
   "source": [
    "import wikipedia\n",
    "test = wikipedia.search(keys_1[0][0], results=2)\n",
    "test"
   ],
   "metadata": {
    "collapsed": false,
    "pycharm": {
     "name": "#%%\n"
    }
   }
  },
  {
   "cell_type": "code",
   "execution_count": 19,
   "outputs": [
    {
     "data": {
      "text/plain": "'A majority, also called a simple majority or absolute majority to distinguish it from related terms, is more than half of the total. It is a subset of a set consisting of more than half of the set\\'s elements. For example, if a group consists of 20 individuals, a majority would be 11 or more individuals, while having 10 or fewer individuals would not constitute a majority. \"Majority\" can be used to specify the voting requirement, as in a \"majority vote\", which means more than half of the votes cast.\\nA majority can be compared to a plurality (sometimes called relative majority), which is a subset larger than any other subset but not necessarily larger than all other subsets combined. For example, if there is a group with 20 members which is divided into subgroups with 9, 6, and 5 members, then the 9-member group would be the plurality. A plurality is not necessarily a majority as the largest subset considered may consist of less than half the set\\'s elements. This can occur when there are three or more possible choices. The (absolute) majority is sometimes referred to as a \"simple\" majority, compared to a supermajority (a majority requirement above 50%, like a 2/3 requirement), however use of this term is inconsistent as it sometimes refers to a mere plurality (as opposed to an absolute majority).\\nIn British English the term \"majority\" is also alternatively used to refer to the winning margin, i.e., the number of votes separating the first-place finisher from the second-place finisher. Other related terms containing the word \"majority\" have their own meanings, which may sometimes be inconsistent in usage.'"
     },
     "execution_count": 19,
     "metadata": {},
     "output_type": "execute_result"
    }
   ],
   "source": [
    "test_2 = wikipedia.summary(test[0])\n",
    "test_2"
   ],
   "metadata": {
    "collapsed": false,
    "pycharm": {
     "name": "#%%\n"
    }
   }
  },
  {
   "cell_type": "code",
   "execution_count": 12,
   "outputs": [
    {
     "data": {
      "text/plain": "14"
     },
     "execution_count": 12,
     "metadata": {},
     "output_type": "execute_result"
    }
   ],
   "source": [
    "args_2 = args.apply(lambda x: x.astype(str).str.lower()).drop_duplicates(subset=['args'], keep='first')\n",
    "args_2\n",
    "len(args_2)"
   ],
   "metadata": {
    "collapsed": false,
    "pycharm": {
     "name": "#%%\n"
    }
   }
  },
  {
   "cell_type": "code",
   "execution_count": 9,
   "outputs": [
    {
     "ename": "Exception",
     "evalue": "Check whether you have started the CoreNLP server e.g.\n$ cd stanford-corenlp-full-2015-12-09/ \n$ java -mx4g -cp \"*\" edu.stanford.nlp.pipeline.StanfordCoreNLPServer",
     "output_type": "error",
     "traceback": [
      "\u001B[0;31m---------------------------------------------------------------------------\u001B[0m",
      "\u001B[0;31mConnectionRefusedError\u001B[0m                    Traceback (most recent call last)",
      "File \u001B[0;32m~/Library/Mobile Documents/com~apple~CloudDocs/counta_bot/venv/lib/python3.9/site-packages/urllib3/connection.py:174\u001B[0m, in \u001B[0;36mHTTPConnection._new_conn\u001B[0;34m(self)\u001B[0m\n\u001B[1;32m    173\u001B[0m \u001B[38;5;28;01mtry\u001B[39;00m:\n\u001B[0;32m--> 174\u001B[0m     conn \u001B[38;5;241m=\u001B[39m \u001B[43mconnection\u001B[49m\u001B[38;5;241;43m.\u001B[39;49m\u001B[43mcreate_connection\u001B[49m\u001B[43m(\u001B[49m\n\u001B[1;32m    175\u001B[0m \u001B[43m        \u001B[49m\u001B[43m(\u001B[49m\u001B[38;5;28;43mself\u001B[39;49m\u001B[38;5;241;43m.\u001B[39;49m\u001B[43m_dns_host\u001B[49m\u001B[43m,\u001B[49m\u001B[43m \u001B[49m\u001B[38;5;28;43mself\u001B[39;49m\u001B[38;5;241;43m.\u001B[39;49m\u001B[43mport\u001B[49m\u001B[43m)\u001B[49m\u001B[43m,\u001B[49m\u001B[43m \u001B[49m\u001B[38;5;28;43mself\u001B[39;49m\u001B[38;5;241;43m.\u001B[39;49m\u001B[43mtimeout\u001B[49m\u001B[43m,\u001B[49m\u001B[43m \u001B[49m\u001B[38;5;241;43m*\u001B[39;49m\u001B[38;5;241;43m*\u001B[39;49m\u001B[43mextra_kw\u001B[49m\n\u001B[1;32m    176\u001B[0m \u001B[43m    \u001B[49m\u001B[43m)\u001B[49m\n\u001B[1;32m    178\u001B[0m \u001B[38;5;28;01mexcept\u001B[39;00m SocketTimeout:\n",
      "File \u001B[0;32m~/Library/Mobile Documents/com~apple~CloudDocs/counta_bot/venv/lib/python3.9/site-packages/urllib3/util/connection.py:95\u001B[0m, in \u001B[0;36mcreate_connection\u001B[0;34m(address, timeout, source_address, socket_options)\u001B[0m\n\u001B[1;32m     94\u001B[0m \u001B[38;5;28;01mif\u001B[39;00m err \u001B[38;5;129;01mis\u001B[39;00m \u001B[38;5;129;01mnot\u001B[39;00m \u001B[38;5;28;01mNone\u001B[39;00m:\n\u001B[0;32m---> 95\u001B[0m     \u001B[38;5;28;01mraise\u001B[39;00m err\n\u001B[1;32m     97\u001B[0m \u001B[38;5;28;01mraise\u001B[39;00m socket\u001B[38;5;241m.\u001B[39merror(\u001B[38;5;124m\"\u001B[39m\u001B[38;5;124mgetaddrinfo returns an empty list\u001B[39m\u001B[38;5;124m\"\u001B[39m)\n",
      "File \u001B[0;32m~/Library/Mobile Documents/com~apple~CloudDocs/counta_bot/venv/lib/python3.9/site-packages/urllib3/util/connection.py:85\u001B[0m, in \u001B[0;36mcreate_connection\u001B[0;34m(address, timeout, source_address, socket_options)\u001B[0m\n\u001B[1;32m     84\u001B[0m     sock\u001B[38;5;241m.\u001B[39mbind(source_address)\n\u001B[0;32m---> 85\u001B[0m \u001B[43msock\u001B[49m\u001B[38;5;241;43m.\u001B[39;49m\u001B[43mconnect\u001B[49m\u001B[43m(\u001B[49m\u001B[43msa\u001B[49m\u001B[43m)\u001B[49m\n\u001B[1;32m     86\u001B[0m \u001B[38;5;28;01mreturn\u001B[39;00m sock\n",
      "\u001B[0;31mConnectionRefusedError\u001B[0m: [Errno 61] Connection refused",
      "\nDuring handling of the above exception, another exception occurred:\n",
      "\u001B[0;31mNewConnectionError\u001B[0m                        Traceback (most recent call last)",
      "File \u001B[0;32m~/Library/Mobile Documents/com~apple~CloudDocs/counta_bot/venv/lib/python3.9/site-packages/urllib3/connectionpool.py:703\u001B[0m, in \u001B[0;36mHTTPConnectionPool.urlopen\u001B[0;34m(self, method, url, body, headers, retries, redirect, assert_same_host, timeout, pool_timeout, release_conn, chunked, body_pos, **response_kw)\u001B[0m\n\u001B[1;32m    702\u001B[0m \u001B[38;5;66;03m# Make the request on the httplib connection object.\u001B[39;00m\n\u001B[0;32m--> 703\u001B[0m httplib_response \u001B[38;5;241m=\u001B[39m \u001B[38;5;28;43mself\u001B[39;49m\u001B[38;5;241;43m.\u001B[39;49m\u001B[43m_make_request\u001B[49m\u001B[43m(\u001B[49m\n\u001B[1;32m    704\u001B[0m \u001B[43m    \u001B[49m\u001B[43mconn\u001B[49m\u001B[43m,\u001B[49m\n\u001B[1;32m    705\u001B[0m \u001B[43m    \u001B[49m\u001B[43mmethod\u001B[49m\u001B[43m,\u001B[49m\n\u001B[1;32m    706\u001B[0m \u001B[43m    \u001B[49m\u001B[43murl\u001B[49m\u001B[43m,\u001B[49m\n\u001B[1;32m    707\u001B[0m \u001B[43m    \u001B[49m\u001B[43mtimeout\u001B[49m\u001B[38;5;241;43m=\u001B[39;49m\u001B[43mtimeout_obj\u001B[49m\u001B[43m,\u001B[49m\n\u001B[1;32m    708\u001B[0m \u001B[43m    \u001B[49m\u001B[43mbody\u001B[49m\u001B[38;5;241;43m=\u001B[39;49m\u001B[43mbody\u001B[49m\u001B[43m,\u001B[49m\n\u001B[1;32m    709\u001B[0m \u001B[43m    \u001B[49m\u001B[43mheaders\u001B[49m\u001B[38;5;241;43m=\u001B[39;49m\u001B[43mheaders\u001B[49m\u001B[43m,\u001B[49m\n\u001B[1;32m    710\u001B[0m \u001B[43m    \u001B[49m\u001B[43mchunked\u001B[49m\u001B[38;5;241;43m=\u001B[39;49m\u001B[43mchunked\u001B[49m\u001B[43m,\u001B[49m\n\u001B[1;32m    711\u001B[0m \u001B[43m\u001B[49m\u001B[43m)\u001B[49m\n\u001B[1;32m    713\u001B[0m \u001B[38;5;66;03m# If we're going to release the connection in ``finally:``, then\u001B[39;00m\n\u001B[1;32m    714\u001B[0m \u001B[38;5;66;03m# the response doesn't need to know about the connection. Otherwise\u001B[39;00m\n\u001B[1;32m    715\u001B[0m \u001B[38;5;66;03m# it will also try to release it and we'll have a double-release\u001B[39;00m\n\u001B[1;32m    716\u001B[0m \u001B[38;5;66;03m# mess.\u001B[39;00m\n",
      "File \u001B[0;32m~/Library/Mobile Documents/com~apple~CloudDocs/counta_bot/venv/lib/python3.9/site-packages/urllib3/connectionpool.py:398\u001B[0m, in \u001B[0;36mHTTPConnectionPool._make_request\u001B[0;34m(self, conn, method, url, timeout, chunked, **httplib_request_kw)\u001B[0m\n\u001B[1;32m    397\u001B[0m     \u001B[38;5;28;01melse\u001B[39;00m:\n\u001B[0;32m--> 398\u001B[0m         \u001B[43mconn\u001B[49m\u001B[38;5;241;43m.\u001B[39;49m\u001B[43mrequest\u001B[49m\u001B[43m(\u001B[49m\u001B[43mmethod\u001B[49m\u001B[43m,\u001B[49m\u001B[43m \u001B[49m\u001B[43murl\u001B[49m\u001B[43m,\u001B[49m\u001B[43m \u001B[49m\u001B[38;5;241;43m*\u001B[39;49m\u001B[38;5;241;43m*\u001B[39;49m\u001B[43mhttplib_request_kw\u001B[49m\u001B[43m)\u001B[49m\n\u001B[1;32m    400\u001B[0m \u001B[38;5;66;03m# We are swallowing BrokenPipeError (errno.EPIPE) since the server is\u001B[39;00m\n\u001B[1;32m    401\u001B[0m \u001B[38;5;66;03m# legitimately able to close the connection after sending a valid response.\u001B[39;00m\n\u001B[1;32m    402\u001B[0m \u001B[38;5;66;03m# With this behaviour, the received response is still readable.\u001B[39;00m\n",
      "File \u001B[0;32m~/Library/Mobile Documents/com~apple~CloudDocs/counta_bot/venv/lib/python3.9/site-packages/urllib3/connection.py:239\u001B[0m, in \u001B[0;36mHTTPConnection.request\u001B[0;34m(self, method, url, body, headers)\u001B[0m\n\u001B[1;32m    238\u001B[0m     headers[\u001B[38;5;124m\"\u001B[39m\u001B[38;5;124mUser-Agent\u001B[39m\u001B[38;5;124m\"\u001B[39m] \u001B[38;5;241m=\u001B[39m _get_default_user_agent()\n\u001B[0;32m--> 239\u001B[0m \u001B[38;5;28;43msuper\u001B[39;49m\u001B[43m(\u001B[49m\u001B[43mHTTPConnection\u001B[49m\u001B[43m,\u001B[49m\u001B[43m \u001B[49m\u001B[38;5;28;43mself\u001B[39;49m\u001B[43m)\u001B[49m\u001B[38;5;241;43m.\u001B[39;49m\u001B[43mrequest\u001B[49m\u001B[43m(\u001B[49m\u001B[43mmethod\u001B[49m\u001B[43m,\u001B[49m\u001B[43m \u001B[49m\u001B[43murl\u001B[49m\u001B[43m,\u001B[49m\u001B[43m \u001B[49m\u001B[43mbody\u001B[49m\u001B[38;5;241;43m=\u001B[39;49m\u001B[43mbody\u001B[49m\u001B[43m,\u001B[49m\u001B[43m \u001B[49m\u001B[43mheaders\u001B[49m\u001B[38;5;241;43m=\u001B[39;49m\u001B[43mheaders\u001B[49m\u001B[43m)\u001B[49m\n",
      "File \u001B[0;32m/Library/Frameworks/Python.framework/Versions/3.9/lib/python3.9/http/client.py:1285\u001B[0m, in \u001B[0;36mHTTPConnection.request\u001B[0;34m(self, method, url, body, headers, encode_chunked)\u001B[0m\n\u001B[1;32m   1284\u001B[0m \u001B[38;5;124;03m\"\"\"Send a complete request to the server.\"\"\"\u001B[39;00m\n\u001B[0;32m-> 1285\u001B[0m \u001B[38;5;28;43mself\u001B[39;49m\u001B[38;5;241;43m.\u001B[39;49m\u001B[43m_send_request\u001B[49m\u001B[43m(\u001B[49m\u001B[43mmethod\u001B[49m\u001B[43m,\u001B[49m\u001B[43m \u001B[49m\u001B[43murl\u001B[49m\u001B[43m,\u001B[49m\u001B[43m \u001B[49m\u001B[43mbody\u001B[49m\u001B[43m,\u001B[49m\u001B[43m \u001B[49m\u001B[43mheaders\u001B[49m\u001B[43m,\u001B[49m\u001B[43m \u001B[49m\u001B[43mencode_chunked\u001B[49m\u001B[43m)\u001B[49m\n",
      "File \u001B[0;32m/Library/Frameworks/Python.framework/Versions/3.9/lib/python3.9/http/client.py:1331\u001B[0m, in \u001B[0;36mHTTPConnection._send_request\u001B[0;34m(self, method, url, body, headers, encode_chunked)\u001B[0m\n\u001B[1;32m   1330\u001B[0m     body \u001B[38;5;241m=\u001B[39m _encode(body, \u001B[38;5;124m'\u001B[39m\u001B[38;5;124mbody\u001B[39m\u001B[38;5;124m'\u001B[39m)\n\u001B[0;32m-> 1331\u001B[0m \u001B[38;5;28;43mself\u001B[39;49m\u001B[38;5;241;43m.\u001B[39;49m\u001B[43mendheaders\u001B[49m\u001B[43m(\u001B[49m\u001B[43mbody\u001B[49m\u001B[43m,\u001B[49m\u001B[43m \u001B[49m\u001B[43mencode_chunked\u001B[49m\u001B[38;5;241;43m=\u001B[39;49m\u001B[43mencode_chunked\u001B[49m\u001B[43m)\u001B[49m\n",
      "File \u001B[0;32m/Library/Frameworks/Python.framework/Versions/3.9/lib/python3.9/http/client.py:1280\u001B[0m, in \u001B[0;36mHTTPConnection.endheaders\u001B[0;34m(self, message_body, encode_chunked)\u001B[0m\n\u001B[1;32m   1279\u001B[0m     \u001B[38;5;28;01mraise\u001B[39;00m CannotSendHeader()\n\u001B[0;32m-> 1280\u001B[0m \u001B[38;5;28;43mself\u001B[39;49m\u001B[38;5;241;43m.\u001B[39;49m\u001B[43m_send_output\u001B[49m\u001B[43m(\u001B[49m\u001B[43mmessage_body\u001B[49m\u001B[43m,\u001B[49m\u001B[43m \u001B[49m\u001B[43mencode_chunked\u001B[49m\u001B[38;5;241;43m=\u001B[39;49m\u001B[43mencode_chunked\u001B[49m\u001B[43m)\u001B[49m\n",
      "File \u001B[0;32m/Library/Frameworks/Python.framework/Versions/3.9/lib/python3.9/http/client.py:1040\u001B[0m, in \u001B[0;36mHTTPConnection._send_output\u001B[0;34m(self, message_body, encode_chunked)\u001B[0m\n\u001B[1;32m   1039\u001B[0m \u001B[38;5;28;01mdel\u001B[39;00m \u001B[38;5;28mself\u001B[39m\u001B[38;5;241m.\u001B[39m_buffer[:]\n\u001B[0;32m-> 1040\u001B[0m \u001B[38;5;28;43mself\u001B[39;49m\u001B[38;5;241;43m.\u001B[39;49m\u001B[43msend\u001B[49m\u001B[43m(\u001B[49m\u001B[43mmsg\u001B[49m\u001B[43m)\u001B[49m\n\u001B[1;32m   1042\u001B[0m \u001B[38;5;28;01mif\u001B[39;00m message_body \u001B[38;5;129;01mis\u001B[39;00m \u001B[38;5;129;01mnot\u001B[39;00m \u001B[38;5;28;01mNone\u001B[39;00m:\n\u001B[1;32m   1043\u001B[0m \n\u001B[1;32m   1044\u001B[0m     \u001B[38;5;66;03m# create a consistent interface to message_body\u001B[39;00m\n",
      "File \u001B[0;32m/Library/Frameworks/Python.framework/Versions/3.9/lib/python3.9/http/client.py:980\u001B[0m, in \u001B[0;36mHTTPConnection.send\u001B[0;34m(self, data)\u001B[0m\n\u001B[1;32m    979\u001B[0m \u001B[38;5;28;01mif\u001B[39;00m \u001B[38;5;28mself\u001B[39m\u001B[38;5;241m.\u001B[39mauto_open:\n\u001B[0;32m--> 980\u001B[0m     \u001B[38;5;28;43mself\u001B[39;49m\u001B[38;5;241;43m.\u001B[39;49m\u001B[43mconnect\u001B[49m\u001B[43m(\u001B[49m\u001B[43m)\u001B[49m\n\u001B[1;32m    981\u001B[0m \u001B[38;5;28;01melse\u001B[39;00m:\n",
      "File \u001B[0;32m~/Library/Mobile Documents/com~apple~CloudDocs/counta_bot/venv/lib/python3.9/site-packages/urllib3/connection.py:205\u001B[0m, in \u001B[0;36mHTTPConnection.connect\u001B[0;34m(self)\u001B[0m\n\u001B[1;32m    204\u001B[0m \u001B[38;5;28;01mdef\u001B[39;00m \u001B[38;5;21mconnect\u001B[39m(\u001B[38;5;28mself\u001B[39m):\n\u001B[0;32m--> 205\u001B[0m     conn \u001B[38;5;241m=\u001B[39m \u001B[38;5;28;43mself\u001B[39;49m\u001B[38;5;241;43m.\u001B[39;49m\u001B[43m_new_conn\u001B[49m\u001B[43m(\u001B[49m\u001B[43m)\u001B[49m\n\u001B[1;32m    206\u001B[0m     \u001B[38;5;28mself\u001B[39m\u001B[38;5;241m.\u001B[39m_prepare_conn(conn)\n",
      "File \u001B[0;32m~/Library/Mobile Documents/com~apple~CloudDocs/counta_bot/venv/lib/python3.9/site-packages/urllib3/connection.py:186\u001B[0m, in \u001B[0;36mHTTPConnection._new_conn\u001B[0;34m(self)\u001B[0m\n\u001B[1;32m    185\u001B[0m \u001B[38;5;28;01mexcept\u001B[39;00m SocketError \u001B[38;5;28;01mas\u001B[39;00m e:\n\u001B[0;32m--> 186\u001B[0m     \u001B[38;5;28;01mraise\u001B[39;00m NewConnectionError(\n\u001B[1;32m    187\u001B[0m         \u001B[38;5;28mself\u001B[39m, \u001B[38;5;124m\"\u001B[39m\u001B[38;5;124mFailed to establish a new connection: \u001B[39m\u001B[38;5;132;01m%s\u001B[39;00m\u001B[38;5;124m\"\u001B[39m \u001B[38;5;241m%\u001B[39m e\n\u001B[1;32m    188\u001B[0m     )\n\u001B[1;32m    190\u001B[0m \u001B[38;5;28;01mreturn\u001B[39;00m conn\n",
      "\u001B[0;31mNewConnectionError\u001B[0m: <urllib3.connection.HTTPConnection object at 0x187422a90>: Failed to establish a new connection: [Errno 61] Connection refused",
      "\nDuring handling of the above exception, another exception occurred:\n",
      "\u001B[0;31mMaxRetryError\u001B[0m                             Traceback (most recent call last)",
      "File \u001B[0;32m~/Library/Mobile Documents/com~apple~CloudDocs/counta_bot/venv/lib/python3.9/site-packages/requests/adapters.py:489\u001B[0m, in \u001B[0;36mHTTPAdapter.send\u001B[0;34m(self, request, stream, timeout, verify, cert, proxies)\u001B[0m\n\u001B[1;32m    488\u001B[0m \u001B[38;5;28;01mif\u001B[39;00m \u001B[38;5;129;01mnot\u001B[39;00m chunked:\n\u001B[0;32m--> 489\u001B[0m     resp \u001B[38;5;241m=\u001B[39m \u001B[43mconn\u001B[49m\u001B[38;5;241;43m.\u001B[39;49m\u001B[43murlopen\u001B[49m\u001B[43m(\u001B[49m\n\u001B[1;32m    490\u001B[0m \u001B[43m        \u001B[49m\u001B[43mmethod\u001B[49m\u001B[38;5;241;43m=\u001B[39;49m\u001B[43mrequest\u001B[49m\u001B[38;5;241;43m.\u001B[39;49m\u001B[43mmethod\u001B[49m\u001B[43m,\u001B[49m\n\u001B[1;32m    491\u001B[0m \u001B[43m        \u001B[49m\u001B[43murl\u001B[49m\u001B[38;5;241;43m=\u001B[39;49m\u001B[43murl\u001B[49m\u001B[43m,\u001B[49m\n\u001B[1;32m    492\u001B[0m \u001B[43m        \u001B[49m\u001B[43mbody\u001B[49m\u001B[38;5;241;43m=\u001B[39;49m\u001B[43mrequest\u001B[49m\u001B[38;5;241;43m.\u001B[39;49m\u001B[43mbody\u001B[49m\u001B[43m,\u001B[49m\n\u001B[1;32m    493\u001B[0m \u001B[43m        \u001B[49m\u001B[43mheaders\u001B[49m\u001B[38;5;241;43m=\u001B[39;49m\u001B[43mrequest\u001B[49m\u001B[38;5;241;43m.\u001B[39;49m\u001B[43mheaders\u001B[49m\u001B[43m,\u001B[49m\n\u001B[1;32m    494\u001B[0m \u001B[43m        \u001B[49m\u001B[43mredirect\u001B[49m\u001B[38;5;241;43m=\u001B[39;49m\u001B[38;5;28;43;01mFalse\u001B[39;49;00m\u001B[43m,\u001B[49m\n\u001B[1;32m    495\u001B[0m \u001B[43m        \u001B[49m\u001B[43massert_same_host\u001B[49m\u001B[38;5;241;43m=\u001B[39;49m\u001B[38;5;28;43;01mFalse\u001B[39;49;00m\u001B[43m,\u001B[49m\n\u001B[1;32m    496\u001B[0m \u001B[43m        \u001B[49m\u001B[43mpreload_content\u001B[49m\u001B[38;5;241;43m=\u001B[39;49m\u001B[38;5;28;43;01mFalse\u001B[39;49;00m\u001B[43m,\u001B[49m\n\u001B[1;32m    497\u001B[0m \u001B[43m        \u001B[49m\u001B[43mdecode_content\u001B[49m\u001B[38;5;241;43m=\u001B[39;49m\u001B[38;5;28;43;01mFalse\u001B[39;49;00m\u001B[43m,\u001B[49m\n\u001B[1;32m    498\u001B[0m \u001B[43m        \u001B[49m\u001B[43mretries\u001B[49m\u001B[38;5;241;43m=\u001B[39;49m\u001B[38;5;28;43mself\u001B[39;49m\u001B[38;5;241;43m.\u001B[39;49m\u001B[43mmax_retries\u001B[49m\u001B[43m,\u001B[49m\n\u001B[1;32m    499\u001B[0m \u001B[43m        \u001B[49m\u001B[43mtimeout\u001B[49m\u001B[38;5;241;43m=\u001B[39;49m\u001B[43mtimeout\u001B[49m\u001B[43m,\u001B[49m\n\u001B[1;32m    500\u001B[0m \u001B[43m    \u001B[49m\u001B[43m)\u001B[49m\n\u001B[1;32m    502\u001B[0m \u001B[38;5;66;03m# Send the request.\u001B[39;00m\n\u001B[1;32m    503\u001B[0m \u001B[38;5;28;01melse\u001B[39;00m:\n",
      "File \u001B[0;32m~/Library/Mobile Documents/com~apple~CloudDocs/counta_bot/venv/lib/python3.9/site-packages/urllib3/connectionpool.py:787\u001B[0m, in \u001B[0;36mHTTPConnectionPool.urlopen\u001B[0;34m(self, method, url, body, headers, retries, redirect, assert_same_host, timeout, pool_timeout, release_conn, chunked, body_pos, **response_kw)\u001B[0m\n\u001B[1;32m    785\u001B[0m     e \u001B[38;5;241m=\u001B[39m ProtocolError(\u001B[38;5;124m\"\u001B[39m\u001B[38;5;124mConnection aborted.\u001B[39m\u001B[38;5;124m\"\u001B[39m, e)\n\u001B[0;32m--> 787\u001B[0m retries \u001B[38;5;241m=\u001B[39m \u001B[43mretries\u001B[49m\u001B[38;5;241;43m.\u001B[39;49m\u001B[43mincrement\u001B[49m\u001B[43m(\u001B[49m\n\u001B[1;32m    788\u001B[0m \u001B[43m    \u001B[49m\u001B[43mmethod\u001B[49m\u001B[43m,\u001B[49m\u001B[43m \u001B[49m\u001B[43murl\u001B[49m\u001B[43m,\u001B[49m\u001B[43m \u001B[49m\u001B[43merror\u001B[49m\u001B[38;5;241;43m=\u001B[39;49m\u001B[43me\u001B[49m\u001B[43m,\u001B[49m\u001B[43m \u001B[49m\u001B[43m_pool\u001B[49m\u001B[38;5;241;43m=\u001B[39;49m\u001B[38;5;28;43mself\u001B[39;49m\u001B[43m,\u001B[49m\u001B[43m \u001B[49m\u001B[43m_stacktrace\u001B[49m\u001B[38;5;241;43m=\u001B[39;49m\u001B[43msys\u001B[49m\u001B[38;5;241;43m.\u001B[39;49m\u001B[43mexc_info\u001B[49m\u001B[43m(\u001B[49m\u001B[43m)\u001B[49m\u001B[43m[\u001B[49m\u001B[38;5;241;43m2\u001B[39;49m\u001B[43m]\u001B[49m\n\u001B[1;32m    789\u001B[0m \u001B[43m\u001B[49m\u001B[43m)\u001B[49m\n\u001B[1;32m    790\u001B[0m retries\u001B[38;5;241m.\u001B[39msleep()\n",
      "File \u001B[0;32m~/Library/Mobile Documents/com~apple~CloudDocs/counta_bot/venv/lib/python3.9/site-packages/urllib3/util/retry.py:592\u001B[0m, in \u001B[0;36mRetry.increment\u001B[0;34m(self, method, url, response, error, _pool, _stacktrace)\u001B[0m\n\u001B[1;32m    591\u001B[0m \u001B[38;5;28;01mif\u001B[39;00m new_retry\u001B[38;5;241m.\u001B[39mis_exhausted():\n\u001B[0;32m--> 592\u001B[0m     \u001B[38;5;28;01mraise\u001B[39;00m MaxRetryError(_pool, url, error \u001B[38;5;129;01mor\u001B[39;00m ResponseError(cause))\n\u001B[1;32m    594\u001B[0m log\u001B[38;5;241m.\u001B[39mdebug(\u001B[38;5;124m\"\u001B[39m\u001B[38;5;124mIncremented Retry for (url=\u001B[39m\u001B[38;5;124m'\u001B[39m\u001B[38;5;132;01m%s\u001B[39;00m\u001B[38;5;124m'\u001B[39m\u001B[38;5;124m): \u001B[39m\u001B[38;5;132;01m%r\u001B[39;00m\u001B[38;5;124m\"\u001B[39m, url, new_retry)\n",
      "\u001B[0;31mMaxRetryError\u001B[0m: HTTPConnectionPool(host='localhost', port=9000): Max retries exceeded with url: / (Caused by NewConnectionError('<urllib3.connection.HTTPConnection object at 0x187422a90>: Failed to establish a new connection: [Errno 61] Connection refused'))",
      "\nDuring handling of the above exception, another exception occurred:\n",
      "\u001B[0;31mConnectionError\u001B[0m                           Traceback (most recent call last)",
      "File \u001B[0;32m~/Library/Mobile Documents/com~apple~CloudDocs/counta_bot/venv/lib/python3.9/site-packages/pycorenlp/corenlp.py:19\u001B[0m, in \u001B[0;36mStanfordCoreNLP.annotate\u001B[0;34m(self, text, properties)\u001B[0m\n\u001B[1;32m     18\u001B[0m \u001B[38;5;28;01mtry\u001B[39;00m:\n\u001B[0;32m---> 19\u001B[0m     \u001B[43mrequests\u001B[49m\u001B[38;5;241;43m.\u001B[39;49m\u001B[43mget\u001B[49m\u001B[43m(\u001B[49m\u001B[38;5;28;43mself\u001B[39;49m\u001B[38;5;241;43m.\u001B[39;49m\u001B[43mserver_url\u001B[49m\u001B[43m)\u001B[49m\n\u001B[1;32m     20\u001B[0m \u001B[38;5;28;01mexcept\u001B[39;00m requests\u001B[38;5;241m.\u001B[39mexceptions\u001B[38;5;241m.\u001B[39mConnectionError:\n",
      "File \u001B[0;32m~/Library/Mobile Documents/com~apple~CloudDocs/counta_bot/venv/lib/python3.9/site-packages/requests/api.py:73\u001B[0m, in \u001B[0;36mget\u001B[0;34m(url, params, **kwargs)\u001B[0m\n\u001B[1;32m     63\u001B[0m \u001B[38;5;124mr\u001B[39m\u001B[38;5;124;03m\"\"\"Sends a GET request.\u001B[39;00m\n\u001B[1;32m     64\u001B[0m \n\u001B[1;32m     65\u001B[0m \u001B[38;5;124;03m:param url: URL for the new :class:`Request` object.\u001B[39;00m\n\u001B[0;32m   (...)\u001B[0m\n\u001B[1;32m     70\u001B[0m \u001B[38;5;124;03m:rtype: requests.Response\u001B[39;00m\n\u001B[1;32m     71\u001B[0m \u001B[38;5;124;03m\"\"\"\u001B[39;00m\n\u001B[0;32m---> 73\u001B[0m \u001B[38;5;28;01mreturn\u001B[39;00m \u001B[43mrequest\u001B[49m\u001B[43m(\u001B[49m\u001B[38;5;124;43m\"\u001B[39;49m\u001B[38;5;124;43mget\u001B[39;49m\u001B[38;5;124;43m\"\u001B[39;49m\u001B[43m,\u001B[49m\u001B[43m \u001B[49m\u001B[43murl\u001B[49m\u001B[43m,\u001B[49m\u001B[43m \u001B[49m\u001B[43mparams\u001B[49m\u001B[38;5;241;43m=\u001B[39;49m\u001B[43mparams\u001B[49m\u001B[43m,\u001B[49m\u001B[43m \u001B[49m\u001B[38;5;241;43m*\u001B[39;49m\u001B[38;5;241;43m*\u001B[39;49m\u001B[43mkwargs\u001B[49m\u001B[43m)\u001B[49m\n",
      "File \u001B[0;32m~/Library/Mobile Documents/com~apple~CloudDocs/counta_bot/venv/lib/python3.9/site-packages/requests/api.py:59\u001B[0m, in \u001B[0;36mrequest\u001B[0;34m(method, url, **kwargs)\u001B[0m\n\u001B[1;32m     58\u001B[0m \u001B[38;5;28;01mwith\u001B[39;00m sessions\u001B[38;5;241m.\u001B[39mSession() \u001B[38;5;28;01mas\u001B[39;00m session:\n\u001B[0;32m---> 59\u001B[0m     \u001B[38;5;28;01mreturn\u001B[39;00m \u001B[43msession\u001B[49m\u001B[38;5;241;43m.\u001B[39;49m\u001B[43mrequest\u001B[49m\u001B[43m(\u001B[49m\u001B[43mmethod\u001B[49m\u001B[38;5;241;43m=\u001B[39;49m\u001B[43mmethod\u001B[49m\u001B[43m,\u001B[49m\u001B[43m \u001B[49m\u001B[43murl\u001B[49m\u001B[38;5;241;43m=\u001B[39;49m\u001B[43murl\u001B[49m\u001B[43m,\u001B[49m\u001B[43m \u001B[49m\u001B[38;5;241;43m*\u001B[39;49m\u001B[38;5;241;43m*\u001B[39;49m\u001B[43mkwargs\u001B[49m\u001B[43m)\u001B[49m\n",
      "File \u001B[0;32m~/Library/Mobile Documents/com~apple~CloudDocs/counta_bot/venv/lib/python3.9/site-packages/requests/sessions.py:587\u001B[0m, in \u001B[0;36mSession.request\u001B[0;34m(self, method, url, params, data, headers, cookies, files, auth, timeout, allow_redirects, proxies, hooks, stream, verify, cert, json)\u001B[0m\n\u001B[1;32m    586\u001B[0m send_kwargs\u001B[38;5;241m.\u001B[39mupdate(settings)\n\u001B[0;32m--> 587\u001B[0m resp \u001B[38;5;241m=\u001B[39m \u001B[38;5;28;43mself\u001B[39;49m\u001B[38;5;241;43m.\u001B[39;49m\u001B[43msend\u001B[49m\u001B[43m(\u001B[49m\u001B[43mprep\u001B[49m\u001B[43m,\u001B[49m\u001B[43m \u001B[49m\u001B[38;5;241;43m*\u001B[39;49m\u001B[38;5;241;43m*\u001B[39;49m\u001B[43msend_kwargs\u001B[49m\u001B[43m)\u001B[49m\n\u001B[1;32m    589\u001B[0m \u001B[38;5;28;01mreturn\u001B[39;00m resp\n",
      "File \u001B[0;32m~/Library/Mobile Documents/com~apple~CloudDocs/counta_bot/venv/lib/python3.9/site-packages/requests/sessions.py:701\u001B[0m, in \u001B[0;36mSession.send\u001B[0;34m(self, request, **kwargs)\u001B[0m\n\u001B[1;32m    700\u001B[0m \u001B[38;5;66;03m# Send the request\u001B[39;00m\n\u001B[0;32m--> 701\u001B[0m r \u001B[38;5;241m=\u001B[39m \u001B[43madapter\u001B[49m\u001B[38;5;241;43m.\u001B[39;49m\u001B[43msend\u001B[49m\u001B[43m(\u001B[49m\u001B[43mrequest\u001B[49m\u001B[43m,\u001B[49m\u001B[43m \u001B[49m\u001B[38;5;241;43m*\u001B[39;49m\u001B[38;5;241;43m*\u001B[39;49m\u001B[43mkwargs\u001B[49m\u001B[43m)\u001B[49m\n\u001B[1;32m    703\u001B[0m \u001B[38;5;66;03m# Total elapsed time of the request (approximately)\u001B[39;00m\n",
      "File \u001B[0;32m~/Library/Mobile Documents/com~apple~CloudDocs/counta_bot/venv/lib/python3.9/site-packages/requests/adapters.py:565\u001B[0m, in \u001B[0;36mHTTPAdapter.send\u001B[0;34m(self, request, stream, timeout, verify, cert, proxies)\u001B[0m\n\u001B[1;32m    563\u001B[0m         \u001B[38;5;28;01mraise\u001B[39;00m SSLError(e, request\u001B[38;5;241m=\u001B[39mrequest)\n\u001B[0;32m--> 565\u001B[0m     \u001B[38;5;28;01mraise\u001B[39;00m \u001B[38;5;167;01mConnectionError\u001B[39;00m(e, request\u001B[38;5;241m=\u001B[39mrequest)\n\u001B[1;32m    567\u001B[0m \u001B[38;5;28;01mexcept\u001B[39;00m ClosedPoolError \u001B[38;5;28;01mas\u001B[39;00m e:\n",
      "\u001B[0;31mConnectionError\u001B[0m: HTTPConnectionPool(host='localhost', port=9000): Max retries exceeded with url: / (Caused by NewConnectionError('<urllib3.connection.HTTPConnection object at 0x187422a90>: Failed to establish a new connection: [Errno 61] Connection refused'))",
      "\nDuring handling of the above exception, another exception occurred:\n",
      "\u001B[0;31mException\u001B[0m                                 Traceback (most recent call last)",
      "Input \u001B[0;32mIn [9]\u001B[0m, in \u001B[0;36m<cell line: 19>\u001B[0;34m()\u001B[0m\n\u001B[1;32m     17\u001B[0m titles \u001B[38;5;241m=\u001B[39m []\n\u001B[1;32m     19\u001B[0m \u001B[38;5;28;01mfor\u001B[39;00m i, j \u001B[38;5;129;01min\u001B[39;00m args_2\u001B[38;5;241m.\u001B[39miterrows():\n\u001B[0;32m---> 21\u001B[0m     result \u001B[38;5;241m=\u001B[39m json\u001B[38;5;241m.\u001B[39mloads(\u001B[43mnlp\u001B[49m\u001B[38;5;241;43m.\u001B[39;49m\u001B[43mannotate\u001B[49m\u001B[43m(\u001B[49m\u001B[43mj\u001B[49m\u001B[43m[\u001B[49m\u001B[38;5;124;43m\"\u001B[39;49m\u001B[38;5;124;43mtitle\u001B[39;49m\u001B[38;5;124;43m\"\u001B[39;49m\u001B[43m]\u001B[49m\u001B[43m,\u001B[49m\u001B[43m \u001B[49m\u001B[43mproperties\u001B[49m\u001B[38;5;241;43m=\u001B[39;49m\u001B[43mproperties\u001B[49m\u001B[43m)\u001B[49m)\n\u001B[1;32m     22\u001B[0m     raw \u001B[38;5;241m=\u001B[39m result[\u001B[38;5;124m\"\u001B[39m\u001B[38;5;124msentences\u001B[39m\u001B[38;5;124m\"\u001B[39m][\u001B[38;5;241m0\u001B[39m][\u001B[38;5;124m\"\u001B[39m\u001B[38;5;124mopenie\u001B[39m\u001B[38;5;124m\"\u001B[39m]\n\u001B[1;32m     23\u001B[0m     \u001B[38;5;28;01mif\u001B[39;00m raw:\n",
      "File \u001B[0;32m~/Library/Mobile Documents/com~apple~CloudDocs/counta_bot/venv/lib/python3.9/site-packages/pycorenlp/corenlp.py:21\u001B[0m, in \u001B[0;36mStanfordCoreNLP.annotate\u001B[0;34m(self, text, properties)\u001B[0m\n\u001B[1;32m     19\u001B[0m     requests\u001B[38;5;241m.\u001B[39mget(\u001B[38;5;28mself\u001B[39m\u001B[38;5;241m.\u001B[39mserver_url)\n\u001B[1;32m     20\u001B[0m \u001B[38;5;28;01mexcept\u001B[39;00m requests\u001B[38;5;241m.\u001B[39mexceptions\u001B[38;5;241m.\u001B[39mConnectionError:\n\u001B[0;32m---> 21\u001B[0m     \u001B[38;5;28;01mraise\u001B[39;00m \u001B[38;5;167;01mException\u001B[39;00m(\u001B[38;5;124m'\u001B[39m\u001B[38;5;124mCheck whether you have started the CoreNLP server e.g.\u001B[39m\u001B[38;5;130;01m\\n\u001B[39;00m\u001B[38;5;124m'\u001B[39m\n\u001B[1;32m     22\u001B[0m     \u001B[38;5;124m'\u001B[39m\u001B[38;5;124m$ cd stanford-corenlp-full-2015-12-09/ \u001B[39m\u001B[38;5;130;01m\\n\u001B[39;00m\u001B[38;5;124m'\u001B[39m\n\u001B[1;32m     23\u001B[0m     \u001B[38;5;124m'\u001B[39m\u001B[38;5;124m$ java -mx4g -cp \u001B[39m\u001B[38;5;124m\"\u001B[39m\u001B[38;5;124m*\u001B[39m\u001B[38;5;124m\"\u001B[39m\u001B[38;5;124m edu.stanford.nlp.pipeline.StanfordCoreNLPServer\u001B[39m\u001B[38;5;124m'\u001B[39m)\n\u001B[1;32m     25\u001B[0m data \u001B[38;5;241m=\u001B[39m text\u001B[38;5;241m.\u001B[39mencode()\n\u001B[1;32m     26\u001B[0m r \u001B[38;5;241m=\u001B[39m requests\u001B[38;5;241m.\u001B[39mpost(\n\u001B[1;32m     27\u001B[0m     \u001B[38;5;28mself\u001B[39m\u001B[38;5;241m.\u001B[39mserver_url, params\u001B[38;5;241m=\u001B[39m{\n\u001B[1;32m     28\u001B[0m         \u001B[38;5;124m'\u001B[39m\u001B[38;5;124mproperties\u001B[39m\u001B[38;5;124m'\u001B[39m: \u001B[38;5;28mstr\u001B[39m(properties)\n\u001B[1;32m     29\u001B[0m     }, data\u001B[38;5;241m=\u001B[39mdata, headers\u001B[38;5;241m=\u001B[39m{\u001B[38;5;124m'\u001B[39m\u001B[38;5;124mConnection\u001B[39m\u001B[38;5;124m'\u001B[39m: \u001B[38;5;124m'\u001B[39m\u001B[38;5;124mclose\u001B[39m\u001B[38;5;124m'\u001B[39m})\n",
      "\u001B[0;31mException\u001B[0m: Check whether you have started the CoreNLP server e.g.\n$ cd stanford-corenlp-full-2015-12-09/ \n$ java -mx4g -cp \"*\" edu.stanford.nlp.pipeline.StanfordCoreNLPServer"
     ]
    }
   ],
   "source": [
    "# IMPORTANT NOTE; Command: java -mx4g -cp \"*\" edu.stanford.nlp.pipeline.StanfordCoreNLPServer -port 9000 -timeout 15000\n",
    "# TODOs: Use openie library, StanfordOpenIE\n",
    "\n",
    "import nltk\n",
    "from pycorenlp import *\n",
    "import json\n",
    "import collections\n",
    "\n",
    "nlp = StanfordCoreNLP(\"http://localhost:9000/\")\n",
    "properties={\n",
    "    \"annotators\": \"tokenize, ssplit, pos, depparse, natlog,openie\",\n",
    "    \"outputFormat\": \"json\",\n",
    "}\n",
    "\n",
    "output = []\n",
    "sub_pred_obj = []\n",
    "titles = []\n",
    "\n",
    "for i, j in args_2.iterrows():\n",
    "\n",
    "    result = json.loads(nlp.annotate(j[\"title\"], properties=properties))\n",
    "    raw = result[\"sentences\"][0][\"openie\"]\n",
    "    if raw:\n",
    "        output.append([j[\"id\"], j[\"title\"], j[\"key_phrases_n3\"], result[\"sentences\"][0][\"openie\"]])\n",
    "    else:\n",
    "        continue\n",
    "\n",
    "for i in output:\n",
    "    sub_pred_obj.append({\n",
    "        \"id\": i[0],\n",
    "        \"title\": i[1],\n",
    "        \"key_phrases\": i[2],\n",
    "        \"subject\": i[3][0][\"subject\"],\n",
    "        \"predicate\": i[3][0][\"relation\"],\n",
    "        \"object\": i[3][0][\"object\"]\n",
    "    })"
   ],
   "metadata": {
    "collapsed": false,
    "pycharm": {
     "name": "#%%\n"
    }
   }
  },
  {
   "cell_type": "code",
   "execution_count": 340,
   "outputs": [
    {
     "name": "stdout",
     "output_type": "stream",
     "text": [
      "{'id': 't3_2ro9ux', 'title': 'anything that is manmade is natural.', 'key_phrases': \"['natural', 'manmade']\", 'subject': 'anything', 'predicate': 'is', 'object': 'natural'}\n",
      "{'id': 't3_2ro0ti', 'title': 'essential oils are bullshit', 'key_phrases': \"['oils', 'essential', 'bullshit']\", 'subject': 'essential oils', 'predicate': 'are', 'object': 'bullshit'}\n",
      "{'id': 't3_2rnfn0', 'title': 'explaining causation is not blaming the victim and its a worthwhile endeavor.', 'key_phrases': \"['causation', 'blaming', 'victim']\", 'subject': 'victim', 'predicate': 'explaining', 'object': 'its worthwhile endeavor'}\n",
      "{'id': 't3_2rmwcd', 'title': 'freedom of speech is being taken too far', 'key_phrases': \"['freedom', 'speech', 'far']\", 'subject': 'freedom', 'predicate': 'is', 'object': 'is taken far'}\n",
      "{'id': 't3_2rk7my', 'title': 'driving a car is insanely risky and probably the most dangerous thing you do in your everyday life.', 'key_phrases': \"['driving', 'dangerous', 'risky']\", 'subject': 'you', 'predicate': 'do in', 'object': 'your everyday life'}\n",
      "{'id': 't3_2rexe3', 'title': 'ets sar firefighters police etc. should receive military discounts.', 'key_phrases': \"['firefighters', 'military', 'sar']\", 'subject': 'ets', 'predicate': 'sar', 'object': 'firefighters police'}\n",
      "{'id': 't3_2rd7mg', 'title': 'america is a better place because of the million abortions its had', 'key_phrases': \"['abortions', 'america', 'place']\", 'subject': 'america', 'predicate': 'is', 'object': 'better'}\n",
      "{'id': 't3_2rcsdh', 'title': 'humans are going to die out because of an economic collapse', 'key_phrases': \"['collapse', 'economic', 'die']\", 'subject': 'humans', 'predicate': 'are going', 'object': 'to die'}\n"
     ]
    }
   ],
   "source": [
    "for i in sub_pred_obj:\n",
    "    print(i)"
   ],
   "metadata": {
    "collapsed": false,
    "pycharm": {
     "name": "#%%\n"
    }
   }
  },
  {
   "cell_type": "code",
   "execution_count": 339,
   "outputs": [],
   "source": [
    "import json\n",
    "\n",
    "with open(\"./data/open_ie.jsonl\", \"w\", encoding='utf-8') as f:\n",
    "    for i in sub_pred_obj:\n",
    "        f.write(json.dumps(i))\n",
    "        f.write(\"\\n\")"
   ],
   "metadata": {
    "collapsed": false,
    "pycharm": {
     "name": "#%%\n"
    }
   }
  },
  {
   "cell_type": "code",
   "execution_count": 351,
   "outputs": [
    {
     "data": {
      "text/plain": "{'subject': 'freedom', 'predicate': 'freedom', 'object': 'freedom'}"
     },
     "execution_count": 351,
     "metadata": {},
     "output_type": "execute_result"
    }
   ],
   "source": [
    "test = {\n",
    "    \"subject\": sub_pred_obj[3][\"subject\"],\n",
    "    \"predicate\": sub_pred_obj[3][\"subject\"],\n",
    "    \"object\": sub_pred_obj[3][\"subject\"]\n",
    "}\n",
    "\n",
    "test"
   ],
   "metadata": {
    "collapsed": false,
    "pycharm": {
     "name": "#%%\n"
    }
   }
  },
  {
   "cell_type": "code",
   "execution_count": 19,
   "outputs": [],
   "source": [
    "# import requests\n",
    "#\n",
    "# userID = \"r8ZaBhov\"\n",
    "# APIkey = \"YK2N8VzBYOAHsQWznsJ9bGV/nGkG7xyI\"\n",
    "#\n",
    "# def identify_aspects(topic, payload_data):\n",
    "#     payload = {\n",
    "#         \"query\": topic,\n",
    "#         \"arguments\": payload_data,\n",
    "#         \"userID\": userID,\n",
    "#         \"apiKey\": APIkey\n",
    "#     }\n",
    "#\n",
    "#     is_timed_out = True\n",
    "#     timed_out_ctr = 1\n",
    "#     while is_timed_out == True:\n",
    "#         try:\n",
    "#             json_dict = requests.post(\"https://api.argumentsearch.com/en/get_aspects\", timeout=300, data=json.dumps(payload),\n",
    "#                                       headers={'Content-Type': 'application/json'}).json()\n",
    "#             is_timed_out = False\n",
    "#         except requests.exceptions.Timeout or ConnectionError or json.decoder.JSONDecodeError:\n",
    "#             print(\"Timed out for {0} times.\".format(str(timed_out_ctr)))\n",
    "#         except Exception as e:\n",
    "#             print(e)\n",
    "#\n",
    "#     return json_dict"
   ],
   "metadata": {
    "collapsed": false,
    "pycharm": {
     "name": "#%%\n"
    }
   }
  },
  {
   "cell_type": "code",
   "execution_count": null,
   "outputs": [],
   "source": [
    "# https://stackoverflow.com/questions/52148690/how-to-make-a-tree-from-the-output-of-a-dependency-parser"
   ],
   "metadata": {
    "collapsed": false,
    "pycharm": {
     "name": "#%%\n"
    }
   }
  },
  {
   "cell_type": "code",
   "execution_count": 396,
   "outputs": [],
   "source": [
    "# Topic Modelling | Sentence Transformers"
   ],
   "metadata": {
    "collapsed": false,
    "pycharm": {
     "name": "#%%\n"
    }
   }
  },
  {
   "cell_type": "markdown",
   "source": [],
   "metadata": {
    "collapsed": false,
    "pycharm": {
     "name": "#%% md\n"
    }
   }
  },
  {
   "cell_type": "code",
   "execution_count": 22,
   "outputs": [
    {
     "name": "stdout",
     "output_type": "stream",
     "text": [
      "14 ['America is a better place because of the million abortions its had', 'Anything that is manmade is natural.', 'Assuming there is no afterlife then life is ultimately meaningless and pointless because we die.', 'Driving a car is insanely risky and probably the most dangerous thing you do in your everyday life.', 'ETs SAR firefighters police etc. should receive military discounts.', 'Essential Oils are bullshit', 'Eugenics isnt all that bad... And we dont even have to kill anyone for it', 'Explaining causation is not blaming the victim and its a worthwhile endeavor.', 'Freedom of speech is being taken too far', 'Humans are going to die out because of an economic collapse', 'I believe you have three choices once you discover the suffering animals endure in the meat industry...', 'I think the Paris shooting makes a good case for culture of responsible gun ownership any carrying.', 'Irony aside most people that post in are uneducated and changing their view on one point wont solve this overall problem', 'Philosophy has no tangible value as an academic field of study.']\n"
     ]
    }
   ],
   "source": [
    "from sentence_transformers import SentenceTransformer, util\n",
    "import torch\n",
    "\n",
    "topics = [\"gun control\", \"abortion\", \"esssential oils\", \"reckless driving\"]\n",
    "\n",
    "corpus = sorted(set(args.title.tolist()))\n",
    "print(len(corpus), corpus)"
   ],
   "metadata": {
    "collapsed": false,
    "pycharm": {
     "name": "#%%\n"
    }
   }
  },
  {
   "cell_type": "code",
   "execution_count": 29,
   "outputs": [
    {
     "name": "stdout",
     "output_type": "stream",
     "text": [
      "America is a better place because of the million abortions its had tensor([0])\n",
      "Anything that is manmade is natural. tensor([0])\n",
      "Assuming there is no afterlife then life is ultimately meaningless and pointless because we die. tensor([0])\n",
      "Driving a car is insanely risky and probably the most dangerous thing you do in your everyday life. tensor([0])\n",
      "ETs SAR firefighters police etc. should receive military discounts. tensor([0])\n",
      "Essential Oils are bullshit tensor([0])\n",
      "Eugenics isnt all that bad... And we dont even have to kill anyone for it tensor([0])\n",
      "Explaining causation is not blaming the victim and its a worthwhile endeavor. tensor([0])\n",
      "Freedom of speech is being taken too far tensor([0])\n",
      "Humans are going to die out because of an economic collapse tensor([0])\n",
      "I believe you have three choices once you discover the suffering animals endure in the meat industry... tensor([0])\n",
      "I think the Paris shooting makes a good case for culture of responsible gun ownership any carrying. tensor([0])\n",
      "Irony aside most people that post in are uneducated and changing their view on one point wont solve this overall problem tensor([0])\n",
      "Philosophy has no tangible value as an academic field of study. tensor([0])\n"
     ]
    }
   ],
   "source": [
    "from collections import defaultdict\n",
    "\n",
    "embedder = SentenceTransformer(\"all-MiniLM-L6-v2\")\n",
    "topic_embeddings = embedder.encode(topics, convert_to_tensor=True)\n",
    "\n",
    "arg_clusters = dict((k, []) for k in corpus)\n",
    "top_k = min(1, len(corpus))\n",
    "\n",
    "for arg in corpus:\n",
    "    arg_embedding = embedder.encode(arg, convert_to_tensor=True)\n",
    "\n",
    "    cos_scores = util.cos_sim(topic_embeddings, arg_embedding)[0]\n",
    "    top_results = torch.topk(cos_scores, k=top_k, sorted=True)\n",
    "\n",
    "    for score, idx in zip(top_results[0], top_results[1]):\n",
    "        print(arg, top_results[1])\n",
    "        #arg_clusters[arg].append(topics[idx])"
   ],
   "metadata": {
    "collapsed": false,
    "pycharm": {
     "name": "#%%\n"
    }
   }
  },
  {
   "cell_type": "code",
   "execution_count": 28,
   "outputs": [
    {
     "data": {
      "text/plain": "{'America is a better place because of the million abortions its had': ['gun control'],\n 'Anything that is manmade is natural.': ['gun control'],\n 'Assuming there is no afterlife then life is ultimately meaningless and pointless because we die.': ['gun control'],\n 'Driving a car is insanely risky and probably the most dangerous thing you do in your everyday life.': ['gun control'],\n 'ETs SAR firefighters police etc. should receive military discounts.': ['gun control'],\n 'Essential Oils are bullshit': ['gun control'],\n 'Eugenics isnt all that bad... And we dont even have to kill anyone for it': ['gun control'],\n 'Explaining causation is not blaming the victim and its a worthwhile endeavor.': ['gun control'],\n 'Freedom of speech is being taken too far': ['gun control'],\n 'Humans are going to die out because of an economic collapse': ['gun control'],\n 'I believe you have three choices once you discover the suffering animals endure in the meat industry...': ['gun control'],\n 'I think the Paris shooting makes a good case for culture of responsible gun ownership any carrying.': ['gun control'],\n 'Irony aside most people that post in are uneducated and changing their view on one point wont solve this overall problem': ['gun control'],\n 'Philosophy has no tangible value as an academic field of study.': ['gun control']}"
     },
     "execution_count": 28,
     "metadata": {},
     "output_type": "execute_result"
    }
   ],
   "source": [
    "arg_clusters"
   ],
   "metadata": {
    "collapsed": false,
    "pycharm": {
     "name": "#%%\n"
    }
   }
  },
  {
   "cell_type": "code",
   "execution_count": 448,
   "outputs": [
    {
     "data": {
      "text/plain": "tensor([ 3, 11])"
     },
     "execution_count": 448,
     "metadata": {},
     "output_type": "execute_result"
    }
   ],
   "source": [
    "top_results[1]"
   ],
   "metadata": {
    "collapsed": false,
    "pycharm": {
     "name": "#%%\n"
    }
   }
  },
  {
   "cell_type": "code",
   "execution_count": 59,
   "outputs": [],
   "source": [
    "import py_babelnet"
   ],
   "metadata": {
    "collapsed": false,
    "pycharm": {
     "name": "#%%\n"
    }
   }
  },
  {
   "cell_type": "code",
   "execution_count": 98,
   "outputs": [
    {
     "ename": "HTTPError",
     "evalue": "403 Client Error: Forbidden for url: https://babelnet.io/v7//getSenses?lemma=agua&searchLang=EN&key=RESTFUL_KEY",
     "output_type": "error",
     "traceback": [
      "\u001B[0;31m---------------------------------------------------------------------------\u001B[0m",
      "\u001B[0;31mHTTPError\u001B[0m                                 Traceback (most recent call last)",
      "Input \u001B[0;32mIn [98]\u001B[0m, in \u001B[0;36m<cell line: 6>\u001B[0;34m()\u001B[0m\n\u001B[1;32m      4\u001B[0m \u001B[38;5;28;01mfrom\u001B[39;00m \u001B[38;5;21;01mpy_babelnet\u001B[39;00m\u001B[38;5;21;01m.\u001B[39;00m\u001B[38;5;21;01mcalls\u001B[39;00m \u001B[38;5;28;01mimport\u001B[39;00m BabelnetAPI\n\u001B[1;32m      5\u001B[0m api \u001B[38;5;241m=\u001B[39m BabelnetAPI(\u001B[38;5;124m'\u001B[39m\u001B[38;5;124mRESTFUL_KEY\u001B[39m\u001B[38;5;124m'\u001B[39m, RESTFUL_URL)\n\u001B[0;32m----> 6\u001B[0m senses \u001B[38;5;241m=\u001B[39m \u001B[43mapi\u001B[49m\u001B[38;5;241;43m.\u001B[39;49m\u001B[43mget_senses\u001B[49m\u001B[43m(\u001B[49m\u001B[43mlemma\u001B[49m\u001B[43m \u001B[49m\u001B[38;5;241;43m=\u001B[39;49m\u001B[43m \u001B[49m\u001B[38;5;124;43m\"\u001B[39;49m\u001B[38;5;124;43magua\u001B[39;49m\u001B[38;5;124;43m\"\u001B[39;49m\u001B[43m,\u001B[49m\u001B[43m \u001B[49m\u001B[43msearchLang\u001B[49m\u001B[43m \u001B[49m\u001B[38;5;241;43m=\u001B[39;49m\u001B[43m \u001B[49m\u001B[38;5;124;43m\"\u001B[39;49m\u001B[38;5;124;43mEN\u001B[39;49m\u001B[38;5;124;43m\"\u001B[39;49m\u001B[43m)\u001B[49m\n",
      "File \u001B[0;32m~/Library/Mobile Documents/com~apple~CloudDocs/counta_bot/venv/lib/python3.9/site-packages/py_babelnet/calls.py:109\u001B[0m, in \u001B[0;36mBabelnetAPI.get_senses\u001B[0;34m(self, **kargs)\u001B[0m\n\u001B[1;32m    103\u001B[0m \u001B[38;5;28;01mdef\u001B[39;00m \u001B[38;5;21mget_senses\u001B[39m(\u001B[38;5;28mself\u001B[39m, \u001B[38;5;241m*\u001B[39m\u001B[38;5;241m*\u001B[39mkargs):\n\u001B[1;32m    104\u001B[0m     \u001B[38;5;124;03m\"\"\" Method to call getSenses\u001B[39;00m\n\u001B[1;32m    105\u001B[0m \u001B[38;5;124;03m    See: https://babelnet.org/guide\u001B[39;00m\n\u001B[1;32m    106\u001B[0m \u001B[38;5;124;03m    Response:\u001B[39;00m\n\u001B[1;32m    107\u001B[0m \u001B[38;5;124;03m        json output as a dictionary\u001B[39;00m\n\u001B[1;32m    108\u001B[0m \u001B[38;5;124;03m    \"\"\"\u001B[39;00m\n\u001B[0;32m--> 109\u001B[0m     r \u001B[38;5;241m=\u001B[39m \u001B[38;5;28;43mself\u001B[39;49m\u001B[38;5;241;43m.\u001B[39;49m\u001B[43m_call\u001B[49m\u001B[43m(\u001B[49m\u001B[43mrequests\u001B[49m\u001B[38;5;241;43m.\u001B[39;49m\u001B[43mget\u001B[49m\u001B[43m,\u001B[49m\u001B[43m \u001B[49m\u001B[38;5;124;43m\"\u001B[39;49m\u001B[38;5;124;43mgetSenses\u001B[39;49m\u001B[38;5;124;43m\"\u001B[39;49m\u001B[43m,\u001B[49m\n\u001B[1;32m    110\u001B[0m \u001B[43m            \u001B[49m\u001B[43mparams\u001B[49m\u001B[43m \u001B[49m\u001B[38;5;241;43m=\u001B[39;49m\u001B[43m \u001B[49m\u001B[38;5;28;43mself\u001B[39;49m\u001B[38;5;241;43m.\u001B[39;49m\u001B[43m_encode_params\u001B[49m\u001B[43m(\u001B[49m\u001B[38;5;28;43mself\u001B[39;49m\u001B[38;5;241;43m.\u001B[39;49m\u001B[43m_add_key\u001B[49m\u001B[43m(\u001B[49m\u001B[43mkargs\u001B[49m\u001B[43m)\u001B[49m\u001B[43m)\u001B[49m\u001B[43m,\u001B[49m\n\u001B[1;32m    111\u001B[0m \u001B[43m            \u001B[49m\u001B[43mheaders\u001B[49m\u001B[43m \u001B[49m\u001B[38;5;241;43m=\u001B[39;49m\u001B[43m \u001B[49m\u001B[38;5;28;43mself\u001B[39;49m\u001B[38;5;241;43m.\u001B[39;49m\u001B[43m_headers\u001B[49m\u001B[43m(\u001B[49m\u001B[43m)\u001B[49m\u001B[43m)\u001B[49m\n\u001B[1;32m    112\u001B[0m     \u001B[38;5;28;01mreturn\u001B[39;00m r\u001B[38;5;241m.\u001B[39mjson()\n",
      "File \u001B[0;32m~/Library/Mobile Documents/com~apple~CloudDocs/counta_bot/venv/lib/python3.9/site-packages/py_babelnet/calls.py:40\u001B[0m, in \u001B[0;36mRestAPI._call\u001B[0;34m(self, method, resource, **kargs)\u001B[0m\n\u001B[1;32m     31\u001B[0m \u001B[38;5;124;03m\"\"\" Do a call to resource using the given method. Additional\u001B[39;00m\n\u001B[1;32m     32\u001B[0m \u001B[38;5;124;03mparameters are sent directly to requests (e.g. headers, data).\u001B[39;00m\n\u001B[1;32m     33\u001B[0m \u001B[38;5;124;03mArgs:\u001B[39;00m\n\u001B[0;32m   (...)\u001B[0m\n\u001B[1;32m     37\u001B[0m \u001B[38;5;124;03m    The requests response obtained\u001B[39;00m\n\u001B[1;32m     38\u001B[0m \u001B[38;5;124;03m\"\"\"\u001B[39;00m\n\u001B[1;32m     39\u001B[0m r \u001B[38;5;241m=\u001B[39m method(\u001B[38;5;28mself\u001B[39m\u001B[38;5;241m.\u001B[39m_endpoint(resource), \u001B[38;5;241m*\u001B[39m\u001B[38;5;241m*\u001B[39mkargs)\n\u001B[0;32m---> 40\u001B[0m \u001B[43mr\u001B[49m\u001B[38;5;241;43m.\u001B[39;49m\u001B[43mraise_for_status\u001B[49m\u001B[43m(\u001B[49m\u001B[43m)\u001B[49m\n\u001B[1;32m     41\u001B[0m \u001B[38;5;28;01mreturn\u001B[39;00m r\n",
      "File \u001B[0;32m~/Library/Mobile Documents/com~apple~CloudDocs/counta_bot/venv/lib/python3.9/site-packages/requests/models.py:1021\u001B[0m, in \u001B[0;36mResponse.raise_for_status\u001B[0;34m(self)\u001B[0m\n\u001B[1;32m   1016\u001B[0m     http_error_msg \u001B[38;5;241m=\u001B[39m (\n\u001B[1;32m   1017\u001B[0m         \u001B[38;5;124mf\u001B[39m\u001B[38;5;124m\"\u001B[39m\u001B[38;5;132;01m{\u001B[39;00m\u001B[38;5;28mself\u001B[39m\u001B[38;5;241m.\u001B[39mstatus_code\u001B[38;5;132;01m}\u001B[39;00m\u001B[38;5;124m Server Error: \u001B[39m\u001B[38;5;132;01m{\u001B[39;00mreason\u001B[38;5;132;01m}\u001B[39;00m\u001B[38;5;124m for url: \u001B[39m\u001B[38;5;132;01m{\u001B[39;00m\u001B[38;5;28mself\u001B[39m\u001B[38;5;241m.\u001B[39murl\u001B[38;5;132;01m}\u001B[39;00m\u001B[38;5;124m\"\u001B[39m\n\u001B[1;32m   1018\u001B[0m     )\n\u001B[1;32m   1020\u001B[0m \u001B[38;5;28;01mif\u001B[39;00m http_error_msg:\n\u001B[0;32m-> 1021\u001B[0m     \u001B[38;5;28;01mraise\u001B[39;00m HTTPError(http_error_msg, response\u001B[38;5;241m=\u001B[39m\u001B[38;5;28mself\u001B[39m)\n",
      "\u001B[0;31mHTTPError\u001B[0m: 403 Client Error: Forbidden for url: https://babelnet.io/v7//getSenses?lemma=agua&searchLang=EN&key=RESTFUL_KEY"
     ]
    }
   ],
   "source": [
    "RESTFUL_KEY = \"279edd14-c4cd-4adb-943b-41f9722a3df6\"\n",
    "RESTFUL_URL = \"https://babelnet.io/v7/\"\n",
    "\n",
    "from py_babelnet.calls import BabelnetAPI\n",
    "api = BabelnetAPI('RESTFUL_KEY', RESTFUL_URL)\n",
    "senses = api.get_senses(lemma = \"agua\", searchLang = \"EN\")"
   ],
   "metadata": {
    "collapsed": false,
    "pycharm": {
     "name": "#%%\n"
    }
   }
  },
  {
   "cell_type": "code",
   "execution_count": 99,
   "outputs": [
    {
     "data": {
      "text/plain": "{'message': 'Your key is not valid or the daily requests limit has been reached. Please visit http://babelnet.org.'}"
     },
     "execution_count": 99,
     "metadata": {},
     "output_type": "execute_result"
    }
   ],
   "source": [
    "senses"
   ],
   "metadata": {
    "collapsed": false,
    "pycharm": {
     "name": "#%%\n"
    }
   }
  },
  {
   "cell_type": "markdown",
   "source": [],
   "metadata": {
    "collapsed": false,
    "pycharm": {
     "name": "#%% md\n"
    }
   }
  },
  {
   "cell_type": "code",
   "execution_count": null,
   "outputs": [],
   "source": [
    "import py_babelnet\n",
    "# api = BabelnetAPI()"
   ],
   "metadata": {
    "collapsed": false,
    "pycharm": {
     "name": "#%%\n"
    }
   }
  },
  {
   "cell_type": "code",
   "execution_count": 81,
   "outputs": [],
   "source": [
    "# import wikipedia\n",
    "# import wikipediaapi\n",
    "#\n",
    "# def print_categories(page):\n",
    "#         categories = page.categories\n",
    "#         for title in sorted(categories.keys()):\n",
    "#             print(\"%s: %s\" % (title, categories[title]))\n",
    "#\n",
    "# def print_links(page):\n",
    "#         links = page.links\n",
    "#         for title in sorted(links.keys()):\n",
    "#             print(\"%s: %s\" % (title, links[title]))\n",
    "#\n",
    "# def print_categorymembers(categorymembers, level=0, max_level=1):\n",
    "#         for c in categorymembers.values():\n",
    "#             print(\"%s: %s (ns: %d)\" % (\"*\" * (level + 1), c.title, c.ns))\n",
    "#             if c.ns == wikipediaapi.Namespace.CATEGORY and level < max_level:\n",
    "#                 print_categorymembers(c.categorymembers, level=level + 1, max_level=max_level)\n"
   ],
   "metadata": {
    "collapsed": false,
    "pycharm": {
     "name": "#%%\n"
    }
   }
  },
  {
   "cell_type": "code",
   "execution_count": 92,
   "outputs": [
    {
     "data": {
      "text/plain": "'You may also be looking for Wikipedia:Controversial articles or Category:Wikipedia controversial topics.\\nThis is a list of Wikipedia articles deemed controversial because they are constantly re-edited in a circular manner, or are otherwise the focus of edit warring or article sanctions.\\nThis page is conceived as a location for articles that regularly become biased and need to be fixed, or articles that were once the subject of an NPOV dispute and are likely to suffer future disputes. The divisive nature of disputed subjects has triggered arguments, since opinions on a given issue differ.  These subjects are responsible for a great deal of tension among Wikipedia editors, reflecting the debates of society as a whole.  Perspectives on these subjects are affected by the time, place, and culture of the editor.\\n\\nArticles listed here may need more work than usual to approach a neutral point of view. For articles that are currently unbalanced, see NPOV dispute instead.\\nArticles on this list should be checked from time to time to monitor developments in the presentation of the issues. Use the \"related changes\" link to quickly review changes to these articles.\\nDiscussions about those controversies should be limited to the relevant Talk pages. For more information, see Wikipedia:Controversial articles.\\n\\n'"
     },
     "execution_count": 92,
     "metadata": {},
     "output_type": "execute_result"
    }
   ],
   "source": [
    "page = wikipedia.page(\"Wikipedia:List of controversial topics\")\n",
    "page.summary"
   ],
   "metadata": {
    "collapsed": false,
    "pycharm": {
     "name": "#%%\n"
    }
   }
  },
  {
   "cell_type": "code",
   "execution_count": 95,
   "outputs": [
    {
     "ename": "AttributeError",
     "evalue": "'list' object has no attribute 'keys'",
     "output_type": "error",
     "traceback": [
      "\u001B[0;31m---------------------------------------------------------------------------\u001B[0m",
      "\u001B[0;31mAttributeError\u001B[0m                            Traceback (most recent call last)",
      "Input \u001B[0;32mIn [95]\u001B[0m, in \u001B[0;36m<cell line: 2>\u001B[0;34m()\u001B[0m\n\u001B[1;32m      1\u001B[0m \u001B[38;5;28;01mimport\u001B[39;00m \u001B[38;5;21;01mwikipediaapi\u001B[39;00m\n\u001B[0;32m----> 2\u001B[0m [i \u001B[38;5;28;01mfor\u001B[39;00m i \u001B[38;5;129;01min\u001B[39;00m \u001B[43mpage\u001B[49m\u001B[38;5;241;43m.\u001B[39;49m\u001B[43mcategories\u001B[49m\u001B[38;5;241;43m.\u001B[39;49m\u001B[43mkeys\u001B[49m()]\n",
      "\u001B[0;31mAttributeError\u001B[0m: 'list' object has no attribute 'keys'"
     ]
    }
   ],
   "source": [
    "# import wikipediaapi\n",
    "# [i for i in page.categories.keys()]"
   ],
   "metadata": {
    "collapsed": false,
    "pycharm": {
     "name": "#%%\n"
    }
   }
  }
 ],
 "metadata": {
  "kernelspec": {
   "display_name": "Python 3",
   "language": "python",
   "name": "python3"
  },
  "language_info": {
   "codemirror_mode": {
    "name": "ipython",
    "version": 2
   },
   "file_extension": ".py",
   "mimetype": "text/x-python",
   "name": "python",
   "nbconvert_exporter": "python",
   "pygments_lexer": "ipython2",
   "version": "2.7.6"
  }
 },
 "nbformat": 4,
 "nbformat_minor": 0
}